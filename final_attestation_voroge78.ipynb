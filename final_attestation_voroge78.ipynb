{
 "cells": [
  {
   "cell_type": "code",
   "execution_count": 171,
   "id": "bd9a7e69-8301-4f48-9e2d-63d69b1fd9a2",
   "metadata": {},
   "outputs": [],
   "source": [
    "import re\n",
    "from collections import Counter\n",
    "import pandas as pd\n",
    "import os\n",
    "import spacy\n",
    "import numpy as np\n",
    "from sklearn.metrics import accuracy_score, plot_confusion_matrix, confusion_matrix, ConfusionMatrixDisplay, classification_report\n",
    "from sklearn.svm import SVC\n",
    "import matplotlib.pyplot as plt\n",
    "from tqdm import tqdm\n",
    "import json\n",
    "%matplotlib inline"
   ]
  },
  {
   "cell_type": "markdown",
   "id": "a2178ccb-dbf5-4e5b-859b-ed74e30c9912",
   "metadata": {
    "jp-MarkdownHeadingCollapsed": true,
    "tags": []
   },
   "source": [
    "#### **Датасет SemEval_2022_Task_11**"
   ]
  },
  {
   "cell_type": "code",
   "execution_count": 2,
   "id": "3ffbca2c-ead4-4f48-975e-7b4a8f2311c1",
   "metadata": {},
   "outputs": [],
   "source": [
    "lpath = 'z:\\\\ИТЦ ФАС\\\\Обучение\\\\Innopolis Data Science\\\\From Linux\\\\innopolis\\\\DZ_diplom\\\\datasets\\\\SemEval_2022_Task_11\\\\RU-Russian\\\\'"
   ]
  },
  {
   "cell_type": "code",
   "execution_count": 3,
   "id": "5a38a071-ca6c-4e05-8d67-19158119dc62",
   "metadata": {},
   "outputs": [],
   "source": [
    "with open(lpath+'ru_train.conll', 'r', encoding='utf8') as f:\n",
    "    lines = f.read().split('\\n')\n",
    "    f.close()"
   ]
  },
  {
   "cell_type": "code",
   "execution_count": 4,
   "id": "e30b0366-93bc-4107-982a-c7989031bc9c",
   "metadata": {},
   "outputs": [
    {
     "data": {
      "text/plain": [
       "272985"
      ]
     },
     "execution_count": 4,
     "metadata": {},
     "output_type": "execute_result"
    }
   ],
   "source": [
    "len(lines)"
   ]
  },
  {
   "cell_type": "code",
   "execution_count": 5,
   "id": "9f13847e-4d9f-45f5-bc5a-38f127432c38",
   "metadata": {},
   "outputs": [
    {
     "data": {
      "text/plain": [
       "['# id 11b11e4f-73c6-4e3d-babd-0de83e450861\\tdomain=train',\n",
       " 'российская _ _ B-GRP',\n",
       " 'экологическая _ _ I-GRP',\n",
       " 'партия _ _ I-GRP',\n",
       " '«зелёные» _ _ I-GRP',\n",
       " '— _ _ O',\n",
       " 'до _ _ O',\n",
       " 'февраля _ _ O',\n",
       " '2012 _ _ O',\n",
       " 'года _ _ O',\n",
       " ', _ _ O',\n",
       " 'входила _ _ O',\n",
       " 'в _ _ O',\n",
       " 'состав _ _ O',\n",
       " 'партии _ _ O',\n",
       " 'ср _ _ O',\n",
       " '',\n",
       " '# id ab534372-f9b2-479b-8bc8-af042426b422\\tdomain=train',\n",
       " 'также _ _ O',\n",
       " 'посещал _ _ O',\n",
       " 'два _ _ O',\n",
       " 'семинара _ _ O',\n",
       " 'бартольда _ _ B-PER',\n",
       " 'кёйкена _ _ I-PER',\n",
       " 'по _ _ O',\n",
       " 'интерпретации _ _ O',\n",
       " 'музыки _ _ O',\n",
       " 'баха _ _ B-PER',\n",
       " 'и _ _ O',\n",
       " 'телемана _ _ B-PER']"
      ]
     },
     "execution_count": 5,
     "metadata": {},
     "output_type": "execute_result"
    }
   ],
   "source": [
    "lines[:30]"
   ]
  },
  {
   "cell_type": "code",
   "execution_count": 6,
   "id": "37bf8520-7927-4adb-bb38-22350dfd9838",
   "metadata": {},
   "outputs": [
    {
     "data": {
      "text/plain": [
       "['',\n",
       " '# id d6cd4484-9a8a-40de-af6d-dae421fc9078\\tdomain=domain_adapt',\n",
       " 'поэтическая _ _ B-CW',\n",
       " 'драма _ _ I-CW',\n",
       " 'установить _ _ O',\n",
       " 'окна _ _ O',\n",
       " '',\n",
       " '# id b0227921-eb5d-4199-96ed-d1ab45b62e4d\\tdomain=domain_adapt',\n",
       " 'статус _ _ O',\n",
       " 'рейса _ _ O',\n",
       " 'имперская _ _ B-CORP',\n",
       " 'британская _ _ I-CORP',\n",
       " 'восточно-африканская _ _ I-CORP',\n",
       " 'компания _ _ I-CORP',\n",
       " '',\n",
       " '# id 4a475e29-8175-4015-bcde-70c7e54c2b3e\\tdomain=domain_adapt',\n",
       " 'свинья _ _ O',\n",
       " 'шейх-хасан _ _ B-LOC',\n",
       " '',\n",
       " '# id 14ed5aac-5e7b-40c4-9639-999a3a3f349c\\tdomain=domain_adapt',\n",
       " 'pa _ _ O',\n",
       " 'хевеш _ _ B-LOC',\n",
       " '(город) _ _ I-LOC',\n",
       " '',\n",
       " '# id 79fc8906-a4ea-4614-a0ad-ce5d73ac46d4\\tdomain=domain_adapt',\n",
       " 'что _ _ O',\n",
       " 'означает _ _ O',\n",
       " 'жолкудук _ _ B-LOC',\n",
       " '',\n",
       " '']"
      ]
     },
     "execution_count": 6,
     "metadata": {},
     "output_type": "execute_result"
    }
   ],
   "source": [
    "lines[-30:]"
   ]
  },
  {
   "cell_type": "code",
   "execution_count": 7,
   "id": "3636eba4-e0cc-4578-89f8-01761cc121a1",
   "metadata": {},
   "outputs": [],
   "source": [
    "def get_expr(aregex, atext):\n",
    "    lwords, lmarkers, lsent = [],[],[]\n",
    "    k = 0\n",
    "    for s in atext:\n",
    "        matches = re.finditer(aregex, s, re.MULTILINE)\n",
    "        for matchNum, match in enumerate(matches, start=1):\n",
    "            if len(match.groups())==2:\n",
    "                lwords.append(match.group(1).strip())\n",
    "                lmarkers.append(match.group(2).strip())\n",
    "                lsent.append(k)\n",
    "        if bool(re.search(\"^# id\", s)): \n",
    "            k+=1\n",
    "    ldf = pd.DataFrame({'words': lwords, 'markers': lmarkers, 'sentense_num': lsent})\n",
    "    return ldf"
   ]
  },
  {
   "cell_type": "code",
   "execution_count": 8,
   "id": "8ee52296-2532-4325-a2a1-58a085d6fa22",
   "metadata": {},
   "outputs": [],
   "source": [
    "fdf = get_expr(r\"(.+?)_ _ (.+?)$\", lines)"
   ]
  },
  {
   "cell_type": "code",
   "execution_count": 9,
   "id": "a182e579-5f37-4c82-a828-e453ceda5f50",
   "metadata": {},
   "outputs": [
    {
     "data": {
      "text/html": [
       "<div>\n",
       "<style scoped>\n",
       "    .dataframe tbody tr th:only-of-type {\n",
       "        vertical-align: middle;\n",
       "    }\n",
       "\n",
       "    .dataframe tbody tr th {\n",
       "        vertical-align: top;\n",
       "    }\n",
       "\n",
       "    .dataframe thead th {\n",
       "        text-align: right;\n",
       "    }\n",
       "</style>\n",
       "<table border=\"1\" class=\"dataframe\">\n",
       "  <thead>\n",
       "    <tr style=\"text-align: right;\">\n",
       "      <th></th>\n",
       "      <th>words</th>\n",
       "      <th>markers</th>\n",
       "      <th>sentense_num</th>\n",
       "    </tr>\n",
       "  </thead>\n",
       "  <tbody>\n",
       "    <tr>\n",
       "      <th>242354</th>\n",
       "      <td>значение</td>\n",
       "      <td>O</td>\n",
       "      <td>15291</td>\n",
       "    </tr>\n",
       "    <tr>\n",
       "      <th>242355</th>\n",
       "      <td>ключ</td>\n",
       "      <td>O</td>\n",
       "      <td>15292</td>\n",
       "    </tr>\n",
       "    <tr>\n",
       "      <th>242356</th>\n",
       "      <td>ояш</td>\n",
       "      <td>B-LOC</td>\n",
       "      <td>15292</td>\n",
       "    </tr>\n",
       "    <tr>\n",
       "      <th>242357</th>\n",
       "      <td>(село)</td>\n",
       "      <td>I-LOC</td>\n",
       "      <td>15292</td>\n",
       "    </tr>\n",
       "    <tr>\n",
       "      <th>242358</th>\n",
       "      <td>решетникова</td>\n",
       "      <td>B-LOC</td>\n",
       "      <td>15293</td>\n",
       "    </tr>\n",
       "    <tr>\n",
       "      <th>242359</th>\n",
       "      <td>дмв</td>\n",
       "      <td>O</td>\n",
       "      <td>15293</td>\n",
       "    </tr>\n",
       "    <tr>\n",
       "      <th>242360</th>\n",
       "      <td>cls</td>\n",
       "      <td>O</td>\n",
       "      <td>15294</td>\n",
       "    </tr>\n",
       "    <tr>\n",
       "      <th>242361</th>\n",
       "      <td>блумфилд-хилс</td>\n",
       "      <td>B-LOC</td>\n",
       "      <td>15294</td>\n",
       "    </tr>\n",
       "    <tr>\n",
       "      <th>242362</th>\n",
       "      <td>йэшлек</td>\n",
       "      <td>B-GRP</td>\n",
       "      <td>15295</td>\n",
       "    </tr>\n",
       "    <tr>\n",
       "      <th>242363</th>\n",
       "      <td>офис</td>\n",
       "      <td>O</td>\n",
       "      <td>15295</td>\n",
       "    </tr>\n",
       "    <tr>\n",
       "      <th>242364</th>\n",
       "      <td>финансовой</td>\n",
       "      <td>O</td>\n",
       "      <td>15295</td>\n",
       "    </tr>\n",
       "    <tr>\n",
       "      <th>242365</th>\n",
       "      <td>помощи</td>\n",
       "      <td>O</td>\n",
       "      <td>15295</td>\n",
       "    </tr>\n",
       "    <tr>\n",
       "      <th>242366</th>\n",
       "      <td>поэтическая</td>\n",
       "      <td>B-CW</td>\n",
       "      <td>15296</td>\n",
       "    </tr>\n",
       "    <tr>\n",
       "      <th>242367</th>\n",
       "      <td>драма</td>\n",
       "      <td>I-CW</td>\n",
       "      <td>15296</td>\n",
       "    </tr>\n",
       "    <tr>\n",
       "      <th>242368</th>\n",
       "      <td>установить</td>\n",
       "      <td>O</td>\n",
       "      <td>15296</td>\n",
       "    </tr>\n",
       "    <tr>\n",
       "      <th>242369</th>\n",
       "      <td>окна</td>\n",
       "      <td>O</td>\n",
       "      <td>15296</td>\n",
       "    </tr>\n",
       "    <tr>\n",
       "      <th>242370</th>\n",
       "      <td>статус</td>\n",
       "      <td>O</td>\n",
       "      <td>15297</td>\n",
       "    </tr>\n",
       "    <tr>\n",
       "      <th>242371</th>\n",
       "      <td>рейса</td>\n",
       "      <td>O</td>\n",
       "      <td>15297</td>\n",
       "    </tr>\n",
       "    <tr>\n",
       "      <th>242372</th>\n",
       "      <td>имперская</td>\n",
       "      <td>B-CORP</td>\n",
       "      <td>15297</td>\n",
       "    </tr>\n",
       "    <tr>\n",
       "      <th>242373</th>\n",
       "      <td>британская</td>\n",
       "      <td>I-CORP</td>\n",
       "      <td>15297</td>\n",
       "    </tr>\n",
       "    <tr>\n",
       "      <th>242374</th>\n",
       "      <td>восточно-африканская</td>\n",
       "      <td>I-CORP</td>\n",
       "      <td>15297</td>\n",
       "    </tr>\n",
       "    <tr>\n",
       "      <th>242375</th>\n",
       "      <td>компания</td>\n",
       "      <td>I-CORP</td>\n",
       "      <td>15297</td>\n",
       "    </tr>\n",
       "    <tr>\n",
       "      <th>242376</th>\n",
       "      <td>свинья</td>\n",
       "      <td>O</td>\n",
       "      <td>15298</td>\n",
       "    </tr>\n",
       "    <tr>\n",
       "      <th>242377</th>\n",
       "      <td>шейх-хасан</td>\n",
       "      <td>B-LOC</td>\n",
       "      <td>15298</td>\n",
       "    </tr>\n",
       "    <tr>\n",
       "      <th>242378</th>\n",
       "      <td>pa</td>\n",
       "      <td>O</td>\n",
       "      <td>15299</td>\n",
       "    </tr>\n",
       "    <tr>\n",
       "      <th>242379</th>\n",
       "      <td>хевеш</td>\n",
       "      <td>B-LOC</td>\n",
       "      <td>15299</td>\n",
       "    </tr>\n",
       "    <tr>\n",
       "      <th>242380</th>\n",
       "      <td>(город)</td>\n",
       "      <td>I-LOC</td>\n",
       "      <td>15299</td>\n",
       "    </tr>\n",
       "    <tr>\n",
       "      <th>242381</th>\n",
       "      <td>что</td>\n",
       "      <td>O</td>\n",
       "      <td>15300</td>\n",
       "    </tr>\n",
       "    <tr>\n",
       "      <th>242382</th>\n",
       "      <td>означает</td>\n",
       "      <td>O</td>\n",
       "      <td>15300</td>\n",
       "    </tr>\n",
       "    <tr>\n",
       "      <th>242383</th>\n",
       "      <td>жолкудук</td>\n",
       "      <td>B-LOC</td>\n",
       "      <td>15300</td>\n",
       "    </tr>\n",
       "  </tbody>\n",
       "</table>\n",
       "</div>"
      ],
      "text/plain": [
       "                       words markers  sentense_num\n",
       "242354              значение       O         15291\n",
       "242355                  ключ       O         15292\n",
       "242356                   ояш   B-LOC         15292\n",
       "242357                (село)   I-LOC         15292\n",
       "242358           решетникова   B-LOC         15293\n",
       "242359                   дмв       O         15293\n",
       "242360                   cls       O         15294\n",
       "242361         блумфилд-хилс   B-LOC         15294\n",
       "242362                йэшлек   B-GRP         15295\n",
       "242363                  офис       O         15295\n",
       "242364            финансовой       O         15295\n",
       "242365                помощи       O         15295\n",
       "242366           поэтическая    B-CW         15296\n",
       "242367                 драма    I-CW         15296\n",
       "242368            установить       O         15296\n",
       "242369                  окна       O         15296\n",
       "242370                статус       O         15297\n",
       "242371                 рейса       O         15297\n",
       "242372             имперская  B-CORP         15297\n",
       "242373            британская  I-CORP         15297\n",
       "242374  восточно-африканская  I-CORP         15297\n",
       "242375              компания  I-CORP         15297\n",
       "242376                свинья       O         15298\n",
       "242377            шейх-хасан   B-LOC         15298\n",
       "242378                    pa       O         15299\n",
       "242379                 хевеш   B-LOC         15299\n",
       "242380               (город)   I-LOC         15299\n",
       "242381                   что       O         15300\n",
       "242382              означает       O         15300\n",
       "242383              жолкудук   B-LOC         15300"
      ]
     },
     "execution_count": 9,
     "metadata": {},
     "output_type": "execute_result"
    }
   ],
   "source": [
    "fdf[-30:]"
   ]
  },
  {
   "cell_type": "code",
   "execution_count": 149,
   "id": "e89c430e-130a-49f8-ab72-e22b92627e80",
   "metadata": {},
   "outputs": [],
   "source": [
    "c = Counter(word for word in fdf.words)"
   ]
  },
  {
   "cell_type": "code",
   "execution_count": 150,
   "id": "2d130b96-becf-4442-8c83-786ccce8d5f0",
   "metadata": {},
   "outputs": [
    {
     "data": {
      "text/plain": [
       "[('гарн', 1),\n",
       " ('infinitum', 1),\n",
       " ('nihil', 1),\n",
       " ('ремонтные', 1),\n",
       " ('мной', 1),\n",
       " ('8g', 1),\n",
       " ('пальмирена', 1),\n",
       " ('маршрутизации', 1),\n",
       " ('ла́душкин', 1),\n",
       " ('nice', 1),\n",
       " ('work', 1),\n",
       " ('francois', 1),\n",
       " ('botha', 1),\n",
       " ('барда', 1),\n",
       " ('(река)', 1),\n",
       " ('бортников', 1),\n",
       " ('о’брайан,', 1),\n",
       " ('рональд', 1),\n",
       " ('оракул', 1),\n",
       " ('каттым-еган', 1),\n",
       " ('пул', 1),\n",
       " ('беар', 1),\n",
       " ('эспанол', 1),\n",
       " ('c5-03', 1),\n",
       " ('жив', 1),\n",
       " ('whites', 1),\n",
       " ('off', 1),\n",
       " ('now!!', 1),\n",
       " ('gods', 1),\n",
       " ('ip', 1),\n",
       " ('валентино', 1),\n",
       " ('1977)', 1),\n",
       " ('bliss', 1),\n",
       " ('(песня)', 1),\n",
       " ('ояш', 1),\n",
       " ('(село)', 1),\n",
       " ('решетникова', 1),\n",
       " ('дмв', 1),\n",
       " ('cls', 1),\n",
       " ('блумфилд-хилс', 1),\n",
       " ('финансовой', 1),\n",
       " ('поэтическая', 1),\n",
       " ('имперская', 1),\n",
       " ('восточно-африканская', 1),\n",
       " ('свинья', 1),\n",
       " ('шейх-хасан', 1),\n",
       " ('pa', 1),\n",
       " ('хевеш', 1),\n",
       " ('(город)', 1),\n",
       " ('жолкудук', 1)]"
      ]
     },
     "execution_count": 150,
     "metadata": {},
     "output_type": "execute_result"
    }
   ],
   "source": [
    "c.most_common()[-50:]"
   ]
  },
  {
   "cell_type": "code",
   "execution_count": 185,
   "id": "5a206262-55ae-4cce-99c0-f2de6472aebc",
   "metadata": {},
   "outputs": [],
   "source": [
    "c = Counter(m for m in fdf.markers)"
   ]
  },
  {
   "cell_type": "markdown",
   "id": "c769546f-94aa-42de-b6b2-374fbd02f9d4",
   "metadata": {},
   "source": [
    "Title pretty much sums up the question. I've noticed that in some papers people have referred to a BILOU encoding scheme for NER as opposed to the typical BIO tagging scheme (Such as this paper by Ratinov and Roth in 2009 http://cogcomp.cs.illinois.edu/page/publication_view/199)\n",
    "\n",
    "From working with the 2003 CoNLL data I know that\n",
    "\n",
    "B stands for 'beginning' (signifies beginning of an NE)\n",
    "I stands for 'inside' (signifies that the word is inside an NE)\n",
    "O stands for 'outside' (signifies that the word is just a regular word outside of an NE)\n",
    "\n",
    "**While I've been told that the words in BILOU stand for**\n",
    "\n",
    "B - 'beginning'\n",
    "I - 'inside'\n",
    "L - 'last'\n",
    "O - 'outside'\n",
    "U - 'unit'\n",
    "\n",
    "I've also seen people reference another tag\n",
    "\n",
    "E - 'end', use it concurrently with the 'last' tag\n",
    "S - 'singleton', use it concurrently with the 'unit' tag\n"
   ]
  },
  {
   "cell_type": "markdown",
   "id": "8c3d2b79-4078-4ee5-afe7-5cedb4ac3393",
   "metadata": {},
   "source": [
    "**In this task, we focus on the following six entity types:**\n",
    "\n",
    "PER : Person\n",
    "LOC : Location\n",
    "GRP : Group\n",
    "CORP : Corporation\n",
    "PROD : Product\n",
    "CW: Creative Work"
   ]
  },
  {
   "cell_type": "code",
   "execution_count": 186,
   "id": "081ba3b0-d549-4cc5-9ae7-dd9e8639b648",
   "metadata": {},
   "outputs": [
    {
     "data": {
      "text/plain": [
       "[('O', 208855),\n",
       " ('B-LOC', 4219),\n",
       " ('I-PER', 3982),\n",
       " ('B-PER', 3683),\n",
       " ('I-CW', 3399),\n",
       " ('B-CW', 3224),\n",
       " ('B-GRP', 2976),\n",
       " ('B-PROD', 2921),\n",
       " ('B-CORP', 2817),\n",
       " ('I-GRP', 2711),\n",
       " ('I-CORP', 1914),\n",
       " ('I-PROD', 942),\n",
       " ('I-LOC', 740),\n",
       " ('_ O', 1)]"
      ]
     },
     "execution_count": 186,
     "metadata": {},
     "output_type": "execute_result"
    }
   ],
   "source": [
    "c.most_common()"
   ]
  },
  {
   "cell_type": "code",
   "execution_count": 168,
   "id": "b435b6e1-e957-482a-b9fe-12bf3384268b",
   "metadata": {
    "tags": []
   },
   "outputs": [
    {
     "data": {
      "text/plain": [
       "86.16734671986072"
      ]
     },
     "execution_count": 168,
     "metadata": {},
     "output_type": "execute_result"
    }
   ],
   "source": [
    "208855/242383*100"
   ]
  },
  {
   "cell_type": "code",
   "execution_count": 376,
   "id": "c50c3867-7235-4219-9bb0-f3be729b6bec",
   "metadata": {},
   "outputs": [],
   "source": [
    "fdf.loc[fdf.markers=='_ O','markers']='O'"
   ]
  },
  {
   "cell_type": "code",
   "execution_count": 377,
   "id": "81ec00c4-8d15-4484-a13e-fc5b8cfbc964",
   "metadata": {},
   "outputs": [
    {
     "data": {
      "text/html": [
       "<div>\n",
       "<style scoped>\n",
       "    .dataframe tbody tr th:only-of-type {\n",
       "        vertical-align: middle;\n",
       "    }\n",
       "\n",
       "    .dataframe tbody tr th {\n",
       "        vertical-align: top;\n",
       "    }\n",
       "\n",
       "    .dataframe thead th {\n",
       "        text-align: right;\n",
       "    }\n",
       "</style>\n",
       "<table border=\"1\" class=\"dataframe\">\n",
       "  <thead>\n",
       "    <tr style=\"text-align: right;\">\n",
       "      <th></th>\n",
       "      <th>words</th>\n",
       "      <th>markers</th>\n",
       "      <th>sentense_num</th>\n",
       "      <th>word_idx</th>\n",
       "      <th>marker_idx</th>\n",
       "    </tr>\n",
       "  </thead>\n",
       "  <tbody>\n",
       "  </tbody>\n",
       "</table>\n",
       "</div>"
      ],
      "text/plain": [
       "Empty DataFrame\n",
       "Columns: [words, markers, sentense_num, word_idx, marker_idx]\n",
       "Index: []"
      ]
     },
     "execution_count": 377,
     "metadata": {},
     "output_type": "execute_result"
    }
   ],
   "source": [
    "fdf[(fdf.markers=='_ O')]"
   ]
  },
  {
   "cell_type": "code",
   "execution_count": 378,
   "id": "d5476711-545e-4c4b-9352-eefac6d2b689",
   "metadata": {},
   "outputs": [],
   "source": [
    "c = Counter(m for m in fdf.markers)"
   ]
  },
  {
   "cell_type": "code",
   "execution_count": 379,
   "id": "54956617-130c-43b2-8e0d-f809f4a87ef2",
   "metadata": {},
   "outputs": [
    {
     "data": {
      "text/plain": [
       "[('O', 208856),\n",
       " ('B-LOC', 4219),\n",
       " ('I-PER', 3982),\n",
       " ('B-PER', 3683),\n",
       " ('I-CW', 3399),\n",
       " ('B-CW', 3224),\n",
       " ('B-GRP', 2976),\n",
       " ('B-PROD', 2921),\n",
       " ('B-CORP', 2817),\n",
       " ('I-GRP', 2711),\n",
       " ('I-CORP', 1914),\n",
       " ('I-PROD', 942),\n",
       " ('I-LOC', 740)]"
      ]
     },
     "execution_count": 379,
     "metadata": {},
     "output_type": "execute_result"
    }
   ],
   "source": [
    "c.most_common()"
   ]
  },
  {
   "cell_type": "code",
   "execution_count": 261,
   "id": "2ec6b8af-e6cd-4a7d-9b77-1ff69bb5c778",
   "metadata": {},
   "outputs": [
    {
     "data": {
      "text/html": [
       "<div>\n",
       "<style scoped>\n",
       "    .dataframe tbody tr th:only-of-type {\n",
       "        vertical-align: middle;\n",
       "    }\n",
       "\n",
       "    .dataframe tbody tr th {\n",
       "        vertical-align: top;\n",
       "    }\n",
       "\n",
       "    .dataframe thead th {\n",
       "        text-align: right;\n",
       "    }\n",
       "</style>\n",
       "<table border=\"1\" class=\"dataframe\">\n",
       "  <thead>\n",
       "    <tr style=\"text-align: right;\">\n",
       "      <th></th>\n",
       "      <th>words</th>\n",
       "      <th>markers</th>\n",
       "      <th>sentense_num</th>\n",
       "    </tr>\n",
       "  </thead>\n",
       "  <tbody>\n",
       "    <tr>\n",
       "      <th>240741</th>\n",
       "      <td>форд</td>\n",
       "      <td>B-PROD</td>\n",
       "      <td>15124</td>\n",
       "    </tr>\n",
       "    <tr>\n",
       "      <th>240742</th>\n",
       "      <td>рейнджер</td>\n",
       "      <td>I-PROD</td>\n",
       "      <td>15124</td>\n",
       "    </tr>\n",
       "    <tr>\n",
       "      <th>240913</th>\n",
       "      <td>пива</td>\n",
       "      <td>B-PROD</td>\n",
       "      <td>15134</td>\n",
       "    </tr>\n",
       "    <tr>\n",
       "      <th>240923</th>\n",
       "      <td>патронов</td>\n",
       "      <td>B-PROD</td>\n",
       "      <td>15135</td>\n",
       "    </tr>\n",
       "    <tr>\n",
       "      <th>241070</th>\n",
       "      <td>крови</td>\n",
       "      <td>B-PROD</td>\n",
       "      <td>15146</td>\n",
       "    </tr>\n",
       "    <tr>\n",
       "      <th>241234</th>\n",
       "      <td>изумруд</td>\n",
       "      <td>B-PROD</td>\n",
       "      <td>15157</td>\n",
       "    </tr>\n",
       "    <tr>\n",
       "      <th>241297</th>\n",
       "      <td>настольных</td>\n",
       "      <td>B-PROD</td>\n",
       "      <td>15161</td>\n",
       "    </tr>\n",
       "    <tr>\n",
       "      <th>241298</th>\n",
       "      <td>игр</td>\n",
       "      <td>I-PROD</td>\n",
       "      <td>15161</td>\n",
       "    </tr>\n",
       "    <tr>\n",
       "      <th>241405</th>\n",
       "      <td>playstation</td>\n",
       "      <td>B-PROD</td>\n",
       "      <td>15166</td>\n",
       "    </tr>\n",
       "    <tr>\n",
       "      <th>241406</th>\n",
       "      <td>3</td>\n",
       "      <td>I-PROD</td>\n",
       "      <td>15166</td>\n",
       "    </tr>\n",
       "    <tr>\n",
       "      <th>241540</th>\n",
       "      <td>медь</td>\n",
       "      <td>B-PROD</td>\n",
       "      <td>15175</td>\n",
       "    </tr>\n",
       "    <tr>\n",
       "      <th>241582</th>\n",
       "      <td>закусок</td>\n",
       "      <td>B-PROD</td>\n",
       "      <td>15177</td>\n",
       "    </tr>\n",
       "    <tr>\n",
       "      <th>241696</th>\n",
       "      <td>iphone</td>\n",
       "      <td>B-PROD</td>\n",
       "      <td>15183</td>\n",
       "    </tr>\n",
       "    <tr>\n",
       "      <th>241920</th>\n",
       "      <td>почтовая</td>\n",
       "      <td>B-PROD</td>\n",
       "      <td>15200</td>\n",
       "    </tr>\n",
       "    <tr>\n",
       "      <th>241921</th>\n",
       "      <td>марка</td>\n",
       "      <td>I-PROD</td>\n",
       "      <td>15200</td>\n",
       "    </tr>\n",
       "    <tr>\n",
       "      <th>241990</th>\n",
       "      <td>british</td>\n",
       "      <td>B-PROD</td>\n",
       "      <td>15214</td>\n",
       "    </tr>\n",
       "    <tr>\n",
       "      <th>241991</th>\n",
       "      <td>rail</td>\n",
       "      <td>I-PROD</td>\n",
       "      <td>15214</td>\n",
       "    </tr>\n",
       "    <tr>\n",
       "      <th>241992</th>\n",
       "      <td>class</td>\n",
       "      <td>I-PROD</td>\n",
       "      <td>15214</td>\n",
       "    </tr>\n",
       "    <tr>\n",
       "      <th>241993</th>\n",
       "      <td>156</td>\n",
       "      <td>I-PROD</td>\n",
       "      <td>15214</td>\n",
       "    </tr>\n",
       "    <tr>\n",
       "      <th>242019</th>\n",
       "      <td>накопитель</td>\n",
       "      <td>B-PROD</td>\n",
       "      <td>15221</td>\n",
       "    </tr>\n",
       "    <tr>\n",
       "      <th>242020</th>\n",
       "      <td>на</td>\n",
       "      <td>I-PROD</td>\n",
       "      <td>15221</td>\n",
       "    </tr>\n",
       "    <tr>\n",
       "      <th>242021</th>\n",
       "      <td>магнитной</td>\n",
       "      <td>I-PROD</td>\n",
       "      <td>15221</td>\n",
       "    </tr>\n",
       "    <tr>\n",
       "      <th>242022</th>\n",
       "      <td>ленте</td>\n",
       "      <td>I-PROD</td>\n",
       "      <td>15221</td>\n",
       "    </tr>\n",
       "    <tr>\n",
       "      <th>242118</th>\n",
       "      <td>лесной</td>\n",
       "      <td>B-PROD</td>\n",
       "      <td>15239</td>\n",
       "    </tr>\n",
       "    <tr>\n",
       "      <th>242119</th>\n",
       "      <td>орех</td>\n",
       "      <td>I-PROD</td>\n",
       "      <td>15239</td>\n",
       "    </tr>\n",
       "    <tr>\n",
       "      <th>242197</th>\n",
       "      <td>chevrolet</td>\n",
       "      <td>B-PROD</td>\n",
       "      <td>15255</td>\n",
       "    </tr>\n",
       "    <tr>\n",
       "      <th>242198</th>\n",
       "      <td>camaro</td>\n",
       "      <td>I-PROD</td>\n",
       "      <td>15255</td>\n",
       "    </tr>\n",
       "    <tr>\n",
       "      <th>242285</th>\n",
       "      <td>8g</td>\n",
       "      <td>B-PROD</td>\n",
       "      <td>15276</td>\n",
       "    </tr>\n",
       "    <tr>\n",
       "      <th>242324</th>\n",
       "      <td>nokia</td>\n",
       "      <td>B-PROD</td>\n",
       "      <td>15285</td>\n",
       "    </tr>\n",
       "    <tr>\n",
       "      <th>242325</th>\n",
       "      <td>c5-03</td>\n",
       "      <td>I-PROD</td>\n",
       "      <td>15285</td>\n",
       "    </tr>\n",
       "  </tbody>\n",
       "</table>\n",
       "</div>"
      ],
      "text/plain": [
       "              words markers  sentense_num\n",
       "240741         форд  B-PROD         15124\n",
       "240742     рейнджер  I-PROD         15124\n",
       "240913         пива  B-PROD         15134\n",
       "240923     патронов  B-PROD         15135\n",
       "241070        крови  B-PROD         15146\n",
       "241234      изумруд  B-PROD         15157\n",
       "241297   настольных  B-PROD         15161\n",
       "241298          игр  I-PROD         15161\n",
       "241405  playstation  B-PROD         15166\n",
       "241406            3  I-PROD         15166\n",
       "241540         медь  B-PROD         15175\n",
       "241582      закусок  B-PROD         15177\n",
       "241696       iphone  B-PROD         15183\n",
       "241920     почтовая  B-PROD         15200\n",
       "241921        марка  I-PROD         15200\n",
       "241990      british  B-PROD         15214\n",
       "241991         rail  I-PROD         15214\n",
       "241992        class  I-PROD         15214\n",
       "241993          156  I-PROD         15214\n",
       "242019   накопитель  B-PROD         15221\n",
       "242020           на  I-PROD         15221\n",
       "242021    магнитной  I-PROD         15221\n",
       "242022        ленте  I-PROD         15221\n",
       "242118       лесной  B-PROD         15239\n",
       "242119         орех  I-PROD         15239\n",
       "242197    chevrolet  B-PROD         15255\n",
       "242198       camaro  I-PROD         15255\n",
       "242285           8g  B-PROD         15276\n",
       "242324        nokia  B-PROD         15285\n",
       "242325        c5-03  I-PROD         15285"
      ]
     },
     "execution_count": 261,
     "metadata": {},
     "output_type": "execute_result"
    }
   ],
   "source": [
    "fdf[(fdf.markers=='B-PROD')|(fdf.markers=='I-PROD')][-30:]"
   ]
  },
  {
   "cell_type": "code",
   "execution_count": 187,
   "id": "0cf057a2-62f0-471c-98ad-160fae605c2e",
   "metadata": {},
   "outputs": [],
   "source": [
    "named_df =  fdf[(fdf.markers!='O') & (fdf.markers!='_ O')]"
   ]
  },
  {
   "cell_type": "code",
   "execution_count": 188,
   "id": "dcba9e00-49d6-4440-9453-5639d30b5370",
   "metadata": {
    "tags": []
   },
   "outputs": [],
   "source": [
    "c = Counter(word for word in zip(named_df.words, named_df.markers))"
   ]
  },
  {
   "cell_type": "code",
   "execution_count": 190,
   "id": "6dc828d7-c647-4ab4-9138-2404d3347d31",
   "metadata": {},
   "outputs": [
    {
     "data": {
      "text/plain": [
       "[(('и', 'I-CW'), 93),\n",
       " (('орден', 'B-GRP'), 90),\n",
       " (('rotten', 'B-CORP'), 74),\n",
       " (('tomatoes', 'I-CORP'), 74),\n",
       " (('records', 'I-CORP'), 70),\n",
       " (('а.', 'B-PER'), 58),\n",
       " (('орденом', 'B-GRP'), 55),\n",
       " (('i', 'I-PER'), 54),\n",
       " (('университета', 'I-GRP'), 53),\n",
       " (('университете', 'I-GRP'), 51),\n",
       " (('the', 'B-GRP'), 49),\n",
       " (('of', 'I-CW'), 48),\n",
       " (('в', 'I-CW'), 47),\n",
       " (('париж', 'B-LOC'), 45),\n",
       " (('области', 'I-LOC'), 45),\n",
       " (('де', 'I-PER'), 41),\n",
       " (('ii', 'I-PER'), 40),\n",
       " (('святого', 'I-GRP'), 39),\n",
       " (('playstation', 'B-PROD'), 39),\n",
       " (('the', 'I-CW'), 39),\n",
       " (('dvd', 'B-PROD'), 39),\n",
       " (('университет', 'I-GRP'), 36),\n",
       " (('в.', 'B-PER'), 35),\n",
       " (('радио', 'B-CORP'), 34),\n",
       " (('the', 'B-CW'), 34),\n",
       " (('сша', 'I-GRP'), 34),\n",
       " (('mtv', 'B-CORP'), 33),\n",
       " (('а.', 'I-PER'), 33),\n",
       " (('юнайтед', 'I-GRP'), 31),\n",
       " (('германии', 'B-LOC'), 31)]"
      ]
     },
     "execution_count": 190,
     "metadata": {},
     "output_type": "execute_result"
    }
   ],
   "source": [
    "c.most_common()[:30]"
   ]
  },
  {
   "cell_type": "markdown",
   "id": "a1db65b6-bf5e-4851-8261-67c86f83d90a",
   "metadata": {},
   "source": [
    "**Грузим тестовые данные**"
   ]
  },
  {
   "cell_type": "code",
   "execution_count": 10,
   "id": "5b2623d8-d190-4958-bed0-374eea8514e9",
   "metadata": {},
   "outputs": [],
   "source": [
    "with open(lpath+'ru_dev.conll', 'r', encoding='utf8') as f:\n",
    "    lines = f.read().split('\\n')\n",
    "    f.close()"
   ]
  },
  {
   "cell_type": "code",
   "execution_count": 11,
   "id": "3238a780-681f-44d8-948e-a0d17f93c855",
   "metadata": {},
   "outputs": [
    {
     "data": {
      "text/plain": [
       "14388"
      ]
     },
     "execution_count": 11,
     "metadata": {},
     "output_type": "execute_result"
    }
   ],
   "source": [
    "len(lines)"
   ]
  },
  {
   "cell_type": "code",
   "execution_count": 12,
   "id": "9504993e-6325-4008-9959-680b989eeff7",
   "metadata": {},
   "outputs": [
    {
     "data": {
      "text/plain": [
       "['# id 01997b3e-1ab7-431f-a461-309a8226586a\\tdomain=dev',\n",
       " 'важным _ _ O',\n",
       " 'традиционным _ _ O',\n",
       " 'промыслом _ _ O',\n",
       " 'является _ _ O',\n",
       " 'производство _ _ O',\n",
       " 'пальмового _ _ B-PROD',\n",
       " 'масла _ _ I-PROD',\n",
       " '. _ _ O',\n",
       " '',\n",
       " '# id 509dd435-8400-43e4-be52-b65c299ca703\\tdomain=dev',\n",
       " 'он _ _ O',\n",
       " 'вышел _ _ O',\n",
       " 'в _ _ O',\n",
       " 'нескольких _ _ O',\n",
       " 'томах _ _ O',\n",
       " 'между _ _ O',\n",
       " '1838 _ _ O',\n",
       " 'и _ _ O',\n",
       " '1849 _ _ O',\n",
       " 'годами _ _ O',\n",
       " ', _ _ O',\n",
       " 'первые _ _ O',\n",
       " 'тома _ _ O',\n",
       " 'были _ _ O',\n",
       " 'посвящены _ _ O',\n",
       " 'материалам _ _ O',\n",
       " ', _ _ O',\n",
       " 'связанным _ _ O',\n",
       " 'с _ _ O']"
      ]
     },
     "execution_count": 12,
     "metadata": {},
     "output_type": "execute_result"
    }
   ],
   "source": [
    "lines[:30]"
   ]
  },
  {
   "cell_type": "code",
   "execution_count": 13,
   "id": "835b3343-980e-4bef-9e67-f56ed47de6b8",
   "metadata": {},
   "outputs": [
    {
     "data": {
      "text/plain": [
       "['. _ _ O',\n",
       " '',\n",
       " '# id 146d9b97-1bdc-4dab-8280-8585c91a479b\\tdomain=dev',\n",
       " 'в _ _ O',\n",
       " 'сентябре _ _ O',\n",
       " '1834 _ _ O',\n",
       " 'года _ _ O',\n",
       " 'поступил _ _ O',\n",
       " 'в _ _ O',\n",
       " 'королевский _ _ O',\n",
       " 'академический _ _ O',\n",
       " 'институт _ _ O',\n",
       " 'белфаст _ _ B-LOC',\n",
       " '. _ _ O',\n",
       " '',\n",
       " '# id 3daebd44-9f10-4d78-ae44-09837e213f8e\\tdomain=dev',\n",
       " 'через _ _ O',\n",
       " 'несколько _ _ O',\n",
       " 'дней _ _ O',\n",
       " 'он _ _ O',\n",
       " 'подписал _ _ O',\n",
       " 'контракт _ _ O',\n",
       " 'с _ _ O',\n",
       " '« _ _ O',\n",
       " 'мемфис _ _ B-GRP',\n",
       " 'гриззлис _ _ I-GRP',\n",
       " '» _ _ O',\n",
       " '. _ _ O',\n",
       " '',\n",
       " '']"
      ]
     },
     "execution_count": 13,
     "metadata": {},
     "output_type": "execute_result"
    }
   ],
   "source": [
    "lines[-30:]"
   ]
  },
  {
   "cell_type": "code",
   "execution_count": 14,
   "id": "4436c05f-3847-40c6-8a06-da92dd539300",
   "metadata": {},
   "outputs": [],
   "source": [
    "fdf_test = get_expr(r\"(.+?)_ _ (.+?)$\", lines)"
   ]
  },
  {
   "cell_type": "code",
   "execution_count": 15,
   "id": "c4fa095b-c3ef-4240-9853-4996adde335e",
   "metadata": {},
   "outputs": [
    {
     "data": {
      "text/html": [
       "<div>\n",
       "<style scoped>\n",
       "    .dataframe tbody tr th:only-of-type {\n",
       "        vertical-align: middle;\n",
       "    }\n",
       "\n",
       "    .dataframe tbody tr th {\n",
       "        vertical-align: top;\n",
       "    }\n",
       "\n",
       "    .dataframe thead th {\n",
       "        text-align: right;\n",
       "    }\n",
       "</style>\n",
       "<table border=\"1\" class=\"dataframe\">\n",
       "  <thead>\n",
       "    <tr style=\"text-align: right;\">\n",
       "      <th></th>\n",
       "      <th>words</th>\n",
       "      <th>markers</th>\n",
       "      <th>sentense_num</th>\n",
       "    </tr>\n",
       "  </thead>\n",
       "  <tbody>\n",
       "    <tr>\n",
       "      <th>0</th>\n",
       "      <td>важным</td>\n",
       "      <td>O</td>\n",
       "      <td>1</td>\n",
       "    </tr>\n",
       "    <tr>\n",
       "      <th>1</th>\n",
       "      <td>традиционным</td>\n",
       "      <td>O</td>\n",
       "      <td>1</td>\n",
       "    </tr>\n",
       "    <tr>\n",
       "      <th>2</th>\n",
       "      <td>промыслом</td>\n",
       "      <td>O</td>\n",
       "      <td>1</td>\n",
       "    </tr>\n",
       "    <tr>\n",
       "      <th>3</th>\n",
       "      <td>является</td>\n",
       "      <td>O</td>\n",
       "      <td>1</td>\n",
       "    </tr>\n",
       "    <tr>\n",
       "      <th>4</th>\n",
       "      <td>производство</td>\n",
       "      <td>O</td>\n",
       "      <td>1</td>\n",
       "    </tr>\n",
       "    <tr>\n",
       "      <th>...</th>\n",
       "      <td>...</td>\n",
       "      <td>...</td>\n",
       "      <td>...</td>\n",
       "    </tr>\n",
       "    <tr>\n",
       "      <th>12782</th>\n",
       "      <td>«</td>\n",
       "      <td>O</td>\n",
       "      <td>800</td>\n",
       "    </tr>\n",
       "    <tr>\n",
       "      <th>12783</th>\n",
       "      <td>мемфис</td>\n",
       "      <td>B-GRP</td>\n",
       "      <td>800</td>\n",
       "    </tr>\n",
       "    <tr>\n",
       "      <th>12784</th>\n",
       "      <td>гриззлис</td>\n",
       "      <td>I-GRP</td>\n",
       "      <td>800</td>\n",
       "    </tr>\n",
       "    <tr>\n",
       "      <th>12785</th>\n",
       "      <td>»</td>\n",
       "      <td>O</td>\n",
       "      <td>800</td>\n",
       "    </tr>\n",
       "    <tr>\n",
       "      <th>12786</th>\n",
       "      <td>.</td>\n",
       "      <td>O</td>\n",
       "      <td>800</td>\n",
       "    </tr>\n",
       "  </tbody>\n",
       "</table>\n",
       "<p>12787 rows × 3 columns</p>\n",
       "</div>"
      ],
      "text/plain": [
       "              words markers  sentense_num\n",
       "0            важным       O             1\n",
       "1      традиционным       O             1\n",
       "2         промыслом       O             1\n",
       "3          является       O             1\n",
       "4      производство       O             1\n",
       "...             ...     ...           ...\n",
       "12782             «       O           800\n",
       "12783        мемфис   B-GRP           800\n",
       "12784      гриззлис   I-GRP           800\n",
       "12785             »       O           800\n",
       "12786             .       O           800\n",
       "\n",
       "[12787 rows x 3 columns]"
      ]
     },
     "execution_count": 15,
     "metadata": {},
     "output_type": "execute_result"
    }
   ],
   "source": [
    "fdf_test"
   ]
  },
  {
   "cell_type": "code",
   "execution_count": 359,
   "id": "c0019399-f128-4379-ac56-6fadb46600f3",
   "metadata": {},
   "outputs": [],
   "source": [
    "c = Counter(m for m in fdf_test.markers)"
   ]
  },
  {
   "cell_type": "code",
   "execution_count": 360,
   "id": "9a4a350b-9785-462b-b3ba-21a4a2d50ae4",
   "metadata": {},
   "outputs": [
    {
     "data": {
      "text/plain": [
       "[('O', 11020),\n",
       " ('B-LOC', 221),\n",
       " ('I-PER', 194),\n",
       " ('B-PER', 192),\n",
       " ('I-CW', 180),\n",
       " ('B-CW', 168),\n",
       " ('B-CORP', 159),\n",
       " ('B-PROD', 151),\n",
       " ('B-GRP', 151),\n",
       " ('I-GRP', 142),\n",
       " ('I-CORP', 121),\n",
       " ('I-PROD', 56),\n",
       " ('I-LOC', 32)]"
      ]
     },
     "execution_count": 360,
     "metadata": {},
     "output_type": "execute_result"
    }
   ],
   "source": [
    "c.most_common()"
   ]
  },
  {
   "cell_type": "markdown",
   "id": "399d4eb8-c969-4a93-8694-ea31e587a078",
   "metadata": {
    "jp-MarkdownHeadingCollapsed": true,
    "tags": []
   },
   "source": [
    "#### **Датасет SlavNER_3rd_Shared_Task**"
   ]
  },
  {
   "cell_type": "code",
   "execution_count": 211,
   "id": "11c4f5b4-93ff-4471-80ff-11075e80721a",
   "metadata": {},
   "outputs": [],
   "source": [
    "fpath = r'z:\\ИТЦ ФАС\\Обучение\\Innopolis Data Science\\From Linux\\innopolis\\DZ_diplom\\datasets\\SlavNER_3rd_Shared_Task\\training_pl_cs_ru_bg_rc1\\annotated\\ru'\n",
    "files = os.listdir(path)"
   ]
  },
  {
   "cell_type": "code",
   "execution_count": 241,
   "id": "1d343100-7ac8-4ae1-aed2-c447c0368692",
   "metadata": {},
   "outputs": [],
   "source": [
    "ldf = pd.DataFrame(columns = ['word','word2','marker','eng'])\n",
    "for file in files:\n",
    "    with open(os.path.join(fpath,file), 'r', encoding='utf8') as f:\n",
    "        lines = f.read().split('\\n')\n",
    "        f.close()\n",
    "    for i in range(1, len(lines)-1):\n",
    "        ldf.loc[ldf.shape[0]] = lines[i].split('\\t')"
   ]
  },
  {
   "cell_type": "code",
   "execution_count": 242,
   "id": "de8e66a1-f465-45ba-b3a0-04403d131058",
   "metadata": {},
   "outputs": [
    {
     "data": {
      "text/plain": [
       "178"
      ]
     },
     "execution_count": 242,
     "metadata": {},
     "output_type": "execute_result"
    }
   ],
   "source": [
    "len(files)"
   ]
  },
  {
   "cell_type": "code",
   "execution_count": 243,
   "id": "25aeabf9-3f85-4e62-a1c2-243649245a3b",
   "metadata": {},
   "outputs": [
    {
     "data": {
      "text/plain": [
       "3193"
      ]
     },
     "execution_count": 243,
     "metadata": {},
     "output_type": "execute_result"
    }
   ],
   "source": [
    "len(ldf)"
   ]
  },
  {
   "cell_type": "code",
   "execution_count": 246,
   "id": "17e9527b-4432-42e0-b10a-7e1844e636e9",
   "metadata": {},
   "outputs": [
    {
     "data": {
      "text/html": [
       "<div>\n",
       "<style scoped>\n",
       "    .dataframe tbody tr th:only-of-type {\n",
       "        vertical-align: middle;\n",
       "    }\n",
       "\n",
       "    .dataframe tbody tr th {\n",
       "        vertical-align: top;\n",
       "    }\n",
       "\n",
       "    .dataframe thead th {\n",
       "        text-align: right;\n",
       "    }\n",
       "</style>\n",
       "<table border=\"1\" class=\"dataframe\">\n",
       "  <thead>\n",
       "    <tr style=\"text-align: right;\">\n",
       "      <th></th>\n",
       "      <th>word</th>\n",
       "      <th>word2</th>\n",
       "      <th>marker</th>\n",
       "      <th>eng</th>\n",
       "    </tr>\n",
       "  </thead>\n",
       "  <tbody>\n",
       "    <tr>\n",
       "      <th>0</th>\n",
       "      <td>Асии Биби</td>\n",
       "      <td>Асия Биби</td>\n",
       "      <td>PER</td>\n",
       "      <td>PER-Asia-Bibi</td>\n",
       "    </tr>\n",
       "    <tr>\n",
       "      <th>3</th>\n",
       "      <td>Верховным судом</td>\n",
       "      <td>Верховный суд</td>\n",
       "      <td>ORG</td>\n",
       "      <td>ORG-Supreme-Court-of-Pakistan</td>\n",
       "    </tr>\n",
       "    <tr>\n",
       "      <th>8</th>\n",
       "      <td>Мухаммеда</td>\n",
       "      <td>Мухаммед</td>\n",
       "      <td>PER</td>\n",
       "      <td>PER-Prophet-Muhammad</td>\n",
       "    </tr>\n",
       "    <tr>\n",
       "      <th>9</th>\n",
       "      <td>Пакистане</td>\n",
       "      <td>Пакистан</td>\n",
       "      <td>LOC</td>\n",
       "      <td>GPE-Pakistan</td>\n",
       "    </tr>\n",
       "    <tr>\n",
       "      <th>15</th>\n",
       "      <td>Сакибу Нисару</td>\n",
       "      <td>Сакиб Нисар</td>\n",
       "      <td>PER</td>\n",
       "      <td>PER-Mian-Saqib-Nisar</td>\n",
       "    </tr>\n",
       "    <tr>\n",
       "      <th>...</th>\n",
       "      <td>...</td>\n",
       "      <td>...</td>\n",
       "      <td>...</td>\n",
       "      <td>...</td>\n",
       "    </tr>\n",
       "    <tr>\n",
       "      <th>3185</th>\n",
       "      <td>Терезы Мэй</td>\n",
       "      <td>Тереза Мэй</td>\n",
       "      <td>PER</td>\n",
       "      <td>PER-Theresa-May</td>\n",
       "    </tr>\n",
       "    <tr>\n",
       "      <th>3186</th>\n",
       "      <td>Федеральной службе по надзору в сфере связи, и...</td>\n",
       "      <td>Федеральная служба по надзору в сфере связи, и...</td>\n",
       "      <td>ORG</td>\n",
       "      <td>ORG-Federal Service for Supervision of Communi...</td>\n",
       "    </tr>\n",
       "    <tr>\n",
       "      <th>3188</th>\n",
       "      <td>Юлии</td>\n",
       "      <td>Юлия</td>\n",
       "      <td>PER</td>\n",
       "      <td>PER-Yulia-Skripal</td>\n",
       "    </tr>\n",
       "    <tr>\n",
       "      <th>3190</th>\n",
       "      <td>британского</td>\n",
       "      <td>британский</td>\n",
       "      <td>LOC</td>\n",
       "      <td>GPE-Great-Britain</td>\n",
       "    </tr>\n",
       "    <tr>\n",
       "      <th>3191</th>\n",
       "      <td>британской</td>\n",
       "      <td>британский</td>\n",
       "      <td>LOC</td>\n",
       "      <td>GPE-Great-Britain</td>\n",
       "    </tr>\n",
       "  </tbody>\n",
       "</table>\n",
       "<p>1573 rows × 4 columns</p>\n",
       "</div>"
      ],
      "text/plain": [
       "                                                   word  \\\n",
       "0                                             Асии Биби   \n",
       "3                                       Верховным судом   \n",
       "8                                             Мухаммеда   \n",
       "9                                             Пакистане   \n",
       "15                                        Сакибу Нисару   \n",
       "...                                                 ...   \n",
       "3185                                         Терезы Мэй   \n",
       "3186  Федеральной службе по надзору в сфере связи, и...   \n",
       "3188                                               Юлии   \n",
       "3190                                        британского   \n",
       "3191                                         британской   \n",
       "\n",
       "                                                  word2 marker  \\\n",
       "0                                             Асия Биби    PER   \n",
       "3                                         Верховный суд    ORG   \n",
       "8                                              Мухаммед    PER   \n",
       "9                                              Пакистан    LOC   \n",
       "15                                          Сакиб Нисар    PER   \n",
       "...                                                 ...    ...   \n",
       "3185                                         Тереза Мэй    PER   \n",
       "3186  Федеральная служба по надзору в сфере связи, и...    ORG   \n",
       "3188                                               Юлия    PER   \n",
       "3190                                         британский    LOC   \n",
       "3191                                         британский    LOC   \n",
       "\n",
       "                                                    eng  \n",
       "0                                         PER-Asia-Bibi  \n",
       "3                         ORG-Supreme-Court-of-Pakistan  \n",
       "8                                  PER-Prophet-Muhammad  \n",
       "9                                          GPE-Pakistan  \n",
       "15                                 PER-Mian-Saqib-Nisar  \n",
       "...                                                 ...  \n",
       "3185                                    PER-Theresa-May  \n",
       "3186  ORG-Federal Service for Supervision of Communi...  \n",
       "3188                                  PER-Yulia-Skripal  \n",
       "3190                                  GPE-Great-Britain  \n",
       "3191                                  GPE-Great-Britain  \n",
       "\n",
       "[1573 rows x 4 columns]"
      ]
     },
     "execution_count": 246,
     "metadata": {},
     "output_type": "execute_result"
    }
   ],
   "source": [
    "ldf[ldf.word!=ldf.word2]"
   ]
  },
  {
   "cell_type": "code",
   "execution_count": 247,
   "id": "06fcd8ed-3406-4435-8807-6c225b960ddc",
   "metadata": {},
   "outputs": [],
   "source": [
    "c = Counter(word for word in ldf.word)"
   ]
  },
  {
   "cell_type": "code",
   "execution_count": 249,
   "id": "5e2061b3-48ba-4c38-b412-2eb496de0d56",
   "metadata": {},
   "outputs": [
    {
     "data": {
      "text/plain": [
       "[('Великобритании', 99),\n",
       " ('ЕС', 88),\n",
       " ('Brexit', 87),\n",
       " ('Дэвид Дэвис', 66),\n",
       " ('Бориса Джонсона', 63),\n",
       " ('Борис Джонсон', 60),\n",
       " ('Мэй', 58),\n",
       " ('Тереза Мэй', 58),\n",
       " ('Евросоюза', 57),\n",
       " ('Пакистане', 51),\n",
       " ('Терезы Мэй', 50),\n",
       " ('Пакистана', 46),\n",
       " ('Биби', 43),\n",
       " ('Джонсона', 42),\n",
       " ('Асии Биби', 40),\n",
       " ('Британии', 37),\n",
       " ('Джонсон', 36),\n",
       " ('Доминик Рааб', 32),\n",
       " ('Дэвис', 31),\n",
       " ('МИД Великобритании', 29),\n",
       " ('МИД', 27),\n",
       " ('Асия Биби', 26),\n",
       " ('Мухаммеда', 25),\n",
       " ('Дэвида Дэвиса', 25),\n",
       " ('Дэвиса', 25),\n",
       " ('Лондона', 24),\n",
       " ('Асию Биби', 22),\n",
       " ('Верховный суд Пакистана', 22),\n",
       " ('Евросоюзом', 22),\n",
       " ('Терезой Мэй', 21),\n",
       " ('Верховного суда', 19),\n",
       " ('Брюсселем', 18),\n",
       " ('Великобритания', 18),\n",
       " ('Бориса', 16),\n",
       " ('Рааб', 16),\n",
       " ('REGNUM', 15),\n",
       " ('США', 15),\n",
       " ('Доминика Рааба', 15),\n",
       " ('Даунинг-стрит', 15),\n",
       " ('Англии', 15)]"
      ]
     },
     "execution_count": 249,
     "metadata": {},
     "output_type": "execute_result"
    }
   ],
   "source": [
    "c.most_common()[:40]"
   ]
  },
  {
   "cell_type": "code",
   "execution_count": 250,
   "id": "21fc4e92-f0d1-4c53-87f5-e552a1be0f6f",
   "metadata": {},
   "outputs": [],
   "source": [
    "c = Counter(word for word in ldf.marker)"
   ]
  },
  {
   "cell_type": "markdown",
   "id": "a887cd89-4bb8-4da9-9560-6ac870be90c6",
   "metadata": {
    "tags": []
   },
   "source": [
    "**five types of named entities:**\n",
    "\n",
    "persons,\n",
    "locations,\n",
    "organizations,\n",
    "events,\n",
    "products."
   ]
  },
  {
   "cell_type": "code",
   "execution_count": 251,
   "id": "24e3c9ea-2c8e-466f-b1e4-865b1d074eb1",
   "metadata": {},
   "outputs": [
    {
     "data": {
      "text/plain": [
       "[('PER', 1313), ('ORG', 837), ('LOC', 739), ('EVT', 188), ('PRO', 116)]"
      ]
     },
     "execution_count": 251,
     "metadata": {},
     "output_type": "execute_result"
    }
   ],
   "source": [
    "c.most_common()"
   ]
  },
  {
   "cell_type": "code",
   "execution_count": 255,
   "id": "62875202-afbf-4275-814d-4fc7edbc977b",
   "metadata": {},
   "outputs": [
    {
     "data": {
      "text/html": [
       "<div>\n",
       "<style scoped>\n",
       "    .dataframe tbody tr th:only-of-type {\n",
       "        vertical-align: middle;\n",
       "    }\n",
       "\n",
       "    .dataframe tbody tr th {\n",
       "        vertical-align: top;\n",
       "    }\n",
       "\n",
       "    .dataframe thead th {\n",
       "        text-align: right;\n",
       "    }\n",
       "</style>\n",
       "<table border=\"1\" class=\"dataframe\">\n",
       "  <thead>\n",
       "    <tr style=\"text-align: right;\">\n",
       "      <th></th>\n",
       "      <th>word</th>\n",
       "      <th>word2</th>\n",
       "      <th>marker</th>\n",
       "      <th>eng</th>\n",
       "    </tr>\n",
       "  </thead>\n",
       "  <tbody>\n",
       "    <tr>\n",
       "      <th>124</th>\n",
       "      <td>Facebook</td>\n",
       "      <td>Facebook</td>\n",
       "      <td>PRO</td>\n",
       "      <td>PRO-Facebook</td>\n",
       "    </tr>\n",
       "    <tr>\n",
       "      <th>134</th>\n",
       "      <td>Коран</td>\n",
       "      <td>Коран</td>\n",
       "      <td>PRO</td>\n",
       "      <td>PRO-The-Quran</td>\n",
       "    </tr>\n",
       "    <tr>\n",
       "      <th>135</th>\n",
       "      <td>Корана</td>\n",
       "      <td>Коран</td>\n",
       "      <td>PRO</td>\n",
       "      <td>PRO-The-Quran</td>\n",
       "    </tr>\n",
       "    <tr>\n",
       "      <th>192</th>\n",
       "      <td>Лента.ру</td>\n",
       "      <td>Лента.ру</td>\n",
       "      <td>PRO</td>\n",
       "      <td>PRO-Lenta-Ru</td>\n",
       "    </tr>\n",
       "    <tr>\n",
       "      <th>204</th>\n",
       "      <td>Корана</td>\n",
       "      <td>Коран</td>\n",
       "      <td>PRO</td>\n",
       "      <td>PRO-The-Quran</td>\n",
       "    </tr>\n",
       "    <tr>\n",
       "      <th>...</th>\n",
       "      <td>...</td>\n",
       "      <td>...</td>\n",
       "      <td>...</td>\n",
       "      <td>...</td>\n",
       "    </tr>\n",
       "    <tr>\n",
       "      <th>3144</th>\n",
       "      <td>ВВС</td>\n",
       "      <td>ВВС</td>\n",
       "      <td>PRO</td>\n",
       "      <td>PRO-BBC-website</td>\n",
       "    </tr>\n",
       "    <tr>\n",
       "      <th>3161</th>\n",
       "      <td>Sky News</td>\n",
       "      <td>Sky News</td>\n",
       "      <td>PRO</td>\n",
       "      <td>PRO-Sky-News-TV</td>\n",
       "    </tr>\n",
       "    <tr>\n",
       "      <th>3162</th>\n",
       "      <td>«NTV.RU»</td>\n",
       "      <td>«NTV.RU»</td>\n",
       "      <td>PRO</td>\n",
       "      <td>PRO-NTV</td>\n",
       "    </tr>\n",
       "    <tr>\n",
       "      <th>3175</th>\n",
       "      <td>НТВ</td>\n",
       "      <td>НТВ</td>\n",
       "      <td>PRO</td>\n",
       "      <td>PRO-NTV</td>\n",
       "    </tr>\n",
       "    <tr>\n",
       "      <th>3176</th>\n",
       "      <td>Новичок (А-234)</td>\n",
       "      <td>Новичок (А-234)</td>\n",
       "      <td>PRO</td>\n",
       "      <td>PRO-Novichok</td>\n",
       "    </tr>\n",
       "  </tbody>\n",
       "</table>\n",
       "<p>116 rows × 4 columns</p>\n",
       "</div>"
      ],
      "text/plain": [
       "                 word            word2 marker              eng\n",
       "124          Facebook         Facebook    PRO     PRO-Facebook\n",
       "134             Коран            Коран    PRO    PRO-The-Quran\n",
       "135            Корана            Коран    PRO    PRO-The-Quran\n",
       "192          Лента.ру         Лента.ру    PRO     PRO-Lenta-Ru\n",
       "204            Корана            Коран    PRO    PRO-The-Quran\n",
       "...               ...              ...    ...              ...\n",
       "3144              ВВС              ВВС    PRO  PRO-BBC-website\n",
       "3161         Sky News         Sky News    PRO  PRO-Sky-News-TV\n",
       "3162         «NTV.RU»         «NTV.RU»    PRO          PRO-NTV\n",
       "3175              НТВ              НТВ    PRO          PRO-NTV\n",
       "3176  Новичок (А-234)  Новичок (А-234)    PRO     PRO-Novichok\n",
       "\n",
       "[116 rows x 4 columns]"
      ]
     },
     "execution_count": 255,
     "metadata": {},
     "output_type": "execute_result"
    }
   ],
   "source": [
    "ldf[ldf.marker=='PRO']"
   ]
  },
  {
   "cell_type": "markdown",
   "id": "65faeb27-edca-4c28-b147-2a06bc822fa2",
   "metadata": {
    "jp-MarkdownHeadingCollapsed": true,
    "tags": []
   },
   "source": [
    "#### **Подгоняем токенизацию**"
   ]
  },
  {
   "cell_type": "code",
   "execution_count": 268,
   "id": "d533796d-24e6-4f84-acfe-6fdf468060de",
   "metadata": {},
   "outputs": [
    {
     "name": "stdout",
     "output_type": "stream",
     "text": [
      "Collecting ru-core-news-sm==3.2.0"
     ]
    },
    {
     "name": "stderr",
     "output_type": "stream",
     "text": [
      "2021-12-02 22:51:05.316110: W tensorflow/stream_executor/platform/default/dso_loader.cc:64] Could not load dynamic library 'cudart64_110.dll'; dlerror: cudart64_110.dll not found\n",
      "2021-12-02 22:51:05.316913: I tensorflow/stream_executor/cuda/cudart_stub.cc:29] Ignore above cudart dlerror if you do not have a GPU set up on your machine.\n",
      "WARNING: You are using pip version 21.2.4; however, version 21.3.1 is available.\n",
      "You should consider upgrading via the 'C:\\Python\\ENV\\innopolis\\Scripts\\python.exe -m pip install --upgrade pip' command.\n"
     ]
    },
    {
     "name": "stdout",
     "output_type": "stream",
     "text": [
      "\n",
      "  Downloading https://github.com/explosion/spacy-models/releases/download/ru_core_news_sm-3.2.0/ru_core_news_sm-3.2.0-py3-none-any.whl (16.4 MB)\n",
      "Requirement already satisfied: spacy<3.3.0,>=3.2.0 in c:\\python\\env\\innopolis\\lib\\site-packages (from ru-core-news-sm==3.2.0) (3.2.0)\n",
      "Collecting pymorphy2>=0.9\n",
      "  Downloading pymorphy2-0.9.1-py3-none-any.whl (55 kB)\n",
      "Collecting dawg-python>=0.7.1\n",
      "  Downloading DAWG_Python-0.7.2-py2.py3-none-any.whl (11 kB)\n",
      "Collecting pymorphy2-dicts-ru<3.0,>=2.4\n",
      "  Downloading pymorphy2_dicts_ru-2.4.417127.4579844-py2.py3-none-any.whl (8.2 MB)\n",
      "Collecting docopt>=0.6\n",
      "  Downloading docopt-0.6.2.tar.gz (25 kB)\n",
      "Requirement already satisfied: numpy>=1.15.0 in c:\\python\\env\\innopolis\\lib\\site-packages (from spacy<3.3.0,>=3.2.0->ru-core-news-sm==3.2.0) (1.19.5)\n",
      "Requirement already satisfied: blis<0.8.0,>=0.4.0 in c:\\python\\env\\innopolis\\lib\\site-packages (from spacy<3.3.0,>=3.2.0->ru-core-news-sm==3.2.0) (0.7.5)\n",
      "Requirement already satisfied: catalogue<2.1.0,>=2.0.6 in c:\\python\\env\\innopolis\\lib\\site-packages (from spacy<3.3.0,>=3.2.0->ru-core-news-sm==3.2.0) (2.0.6)\n",
      "Requirement already satisfied: jinja2 in c:\\python\\env\\innopolis\\lib\\site-packages (from spacy<3.3.0,>=3.2.0->ru-core-news-sm==3.2.0) (3.0.1)\n",
      "Requirement already satisfied: thinc<8.1.0,>=8.0.12 in c:\\python\\env\\innopolis\\lib\\site-packages (from spacy<3.3.0,>=3.2.0->ru-core-news-sm==3.2.0) (8.0.13)\n",
      "Requirement already satisfied: murmurhash<1.1.0,>=0.28.0 in c:\\python\\env\\innopolis\\lib\\site-packages (from spacy<3.3.0,>=3.2.0->ru-core-news-sm==3.2.0) (1.0.6)\n",
      "Requirement already satisfied: spacy-legacy<3.1.0,>=3.0.8 in c:\\python\\env\\innopolis\\lib\\site-packages (from spacy<3.3.0,>=3.2.0->ru-core-news-sm==3.2.0) (3.0.8)\n",
      "Requirement already satisfied: requests<3.0.0,>=2.13.0 in c:\\python\\env\\innopolis\\lib\\site-packages (from spacy<3.3.0,>=3.2.0->ru-core-news-sm==3.2.0) (2.26.0)\n",
      "Requirement already satisfied: srsly<3.0.0,>=2.4.1 in c:\\python\\env\\innopolis\\lib\\site-packages (from spacy<3.3.0,>=3.2.0->ru-core-news-sm==3.2.0) (2.4.2)\n",
      "Requirement already satisfied: spacy-loggers<2.0.0,>=1.0.0 in c:\\python\\env\\innopolis\\lib\\site-packages (from spacy<3.3.0,>=3.2.0->ru-core-news-sm==3.2.0) (1.0.1)\n",
      "Requirement already satisfied: preshed<3.1.0,>=3.0.2 in c:\\python\\env\\innopolis\\lib\\site-packages (from spacy<3.3.0,>=3.2.0->ru-core-news-sm==3.2.0) (3.0.6)\n",
      "Requirement already satisfied: langcodes<4.0.0,>=3.2.0 in c:\\python\\env\\innopolis\\lib\\site-packages (from spacy<3.3.0,>=3.2.0->ru-core-news-sm==3.2.0) (3.2.1)\n",
      "Requirement already satisfied: packaging>=20.0 in c:\\python\\env\\innopolis\\lib\\site-packages (from spacy<3.3.0,>=3.2.0->ru-core-news-sm==3.2.0) (21.0)\n",
      "Requirement already satisfied: typer<0.5.0,>=0.3.0 in c:\\python\\env\\innopolis\\lib\\site-packages (from spacy<3.3.0,>=3.2.0->ru-core-news-sm==3.2.0) (0.4.0)\n",
      "Requirement already satisfied: tqdm<5.0.0,>=4.38.0 in c:\\python\\env\\innopolis\\lib\\site-packages (from spacy<3.3.0,>=3.2.0->ru-core-news-sm==3.2.0) (4.62.3)\n",
      "Requirement already satisfied: setuptools in c:\\python\\env\\innopolis\\lib\\site-packages (from spacy<3.3.0,>=3.2.0->ru-core-news-sm==3.2.0) (58.0.4)\n",
      "Requirement already satisfied: pathy>=0.3.5 in c:\\python\\env\\innopolis\\lib\\site-packages (from spacy<3.3.0,>=3.2.0->ru-core-news-sm==3.2.0) (0.6.1)\n",
      "Requirement already satisfied: wasabi<1.1.0,>=0.8.1 in c:\\python\\env\\innopolis\\lib\\site-packages (from spacy<3.3.0,>=3.2.0->ru-core-news-sm==3.2.0) (0.8.2)\n",
      "Requirement already satisfied: cymem<2.1.0,>=2.0.2 in c:\\python\\env\\innopolis\\lib\\site-packages (from spacy<3.3.0,>=3.2.0->ru-core-news-sm==3.2.0) (2.0.6)\n",
      "Requirement already satisfied: pydantic!=1.8,!=1.8.1,<1.9.0,>=1.7.4 in c:\\python\\env\\innopolis\\lib\\site-packages (from spacy<3.3.0,>=3.2.0->ru-core-news-sm==3.2.0) (1.8.2)\n",
      "Requirement already satisfied: pyparsing>=2.0.2 in c:\\python\\env\\innopolis\\lib\\site-packages (from packaging>=20.0->spacy<3.3.0,>=3.2.0->ru-core-news-sm==3.2.0) (2.4.7)\n",
      "Requirement already satisfied: smart-open<6.0.0,>=5.0.0 in c:\\python\\env\\innopolis\\lib\\site-packages (from pathy>=0.3.5->spacy<3.3.0,>=3.2.0->ru-core-news-sm==3.2.0) (5.2.1)\n",
      "Requirement already satisfied: typing-extensions>=3.7.4.3 in c:\\python\\env\\innopolis\\lib\\site-packages (from pydantic!=1.8,!=1.8.1,<1.9.0,>=1.7.4->spacy<3.3.0,>=3.2.0->ru-core-news-sm==3.2.0) (3.7.4.3)\n",
      "Requirement already satisfied: urllib3<1.27,>=1.21.1 in c:\\python\\env\\innopolis\\lib\\site-packages (from requests<3.0.0,>=2.13.0->spacy<3.3.0,>=3.2.0->ru-core-news-sm==3.2.0) (1.26.7)\n",
      "Requirement already satisfied: idna<4,>=2.5 in c:\\python\\env\\innopolis\\lib\\site-packages (from requests<3.0.0,>=2.13.0->spacy<3.3.0,>=3.2.0->ru-core-news-sm==3.2.0) (3.2)\n",
      "Requirement already satisfied: charset-normalizer~=2.0.0 in c:\\python\\env\\innopolis\\lib\\site-packages (from requests<3.0.0,>=2.13.0->spacy<3.3.0,>=3.2.0->ru-core-news-sm==3.2.0) (2.0.6)\n",
      "Requirement already satisfied: certifi>=2017.4.17 in c:\\python\\env\\innopolis\\lib\\site-packages (from requests<3.0.0,>=2.13.0->spacy<3.3.0,>=3.2.0->ru-core-news-sm==3.2.0) (2021.5.30)\n",
      "Requirement already satisfied: colorama in c:\\python\\env\\innopolis\\lib\\site-packages (from tqdm<5.0.0,>=4.38.0->spacy<3.3.0,>=3.2.0->ru-core-news-sm==3.2.0) (0.4.4)\n",
      "Requirement already satisfied: click<9.0.0,>=7.1.1 in c:\\python\\env\\innopolis\\lib\\site-packages (from typer<0.5.0,>=0.3.0->spacy<3.3.0,>=3.2.0->ru-core-news-sm==3.2.0) (8.0.3)\n",
      "Requirement already satisfied: MarkupSafe>=2.0 in c:\\python\\env\\innopolis\\lib\\site-packages (from jinja2->spacy<3.3.0,>=3.2.0->ru-core-news-sm==3.2.0) (2.0.1)\n",
      "Building wheels for collected packages: docopt\n",
      "  Building wheel for docopt (setup.py): started\n",
      "  Building wheel for docopt (setup.py): finished with status 'done'\n",
      "  Created wheel for docopt: filename=docopt-0.6.2-py2.py3-none-any.whl size=13724 sha256=92eac562493deec902049d0a17b85c1f5a08c9ae895d75b6b4521d72c759ee05\n",
      "  Stored in directory: c:\\users\\eka\\appdata\\local\\pip\\cache\\wheels\\70\\4a\\46\\1309fc853b8d395e60bafaf1b6df7845bdd82c95fd59dd8d2b\n",
      "Successfully built docopt\n",
      "Installing collected packages: pymorphy2-dicts-ru, docopt, dawg-python, pymorphy2, ru-core-news-sm\n",
      "Successfully installed dawg-python-0.7.2 docopt-0.6.2 pymorphy2-0.9.1 pymorphy2-dicts-ru-2.4.417127.4579844 ru-core-news-sm-3.2.0\n",
      "[+] Download and installation successful\n",
      "You can now load the package via spacy.load('ru_core_news_sm')\n"
     ]
    }
   ],
   "source": [
    "! python -m spacy download ru_core_news_sm"
   ]
  },
  {
   "cell_type": "code",
   "execution_count": 225,
   "id": "a76c61fc-9517-4d53-9963-b8732177d1ba",
   "metadata": {},
   "outputs": [],
   "source": [
    "nlp = spacy.load(\"ru_core_news_sm\")"
   ]
  },
  {
   "cell_type": "code",
   "execution_count": 17,
   "id": "0009b91b-79cc-4352-a6de-875d4efacdea",
   "metadata": {},
   "outputs": [],
   "source": [
    "def ltokenize(asent):\n",
    "    doc = nlp(asent)\n",
    "    for token in doc:\n",
    "        print(token, token.pos_, token.dep_)\n",
    "    return doc"
   ]
  },
  {
   "cell_type": "code",
   "execution_count": 143,
   "id": "e3199052-81dd-4248-9d92-fead26dfaa57",
   "metadata": {},
   "outputs": [
    {
     "data": {
      "text/html": [
       "<div>\n",
       "<style scoped>\n",
       "    .dataframe tbody tr th:only-of-type {\n",
       "        vertical-align: middle;\n",
       "    }\n",
       "\n",
       "    .dataframe tbody tr th {\n",
       "        vertical-align: top;\n",
       "    }\n",
       "\n",
       "    .dataframe thead th {\n",
       "        text-align: right;\n",
       "    }\n",
       "</style>\n",
       "<table border=\"1\" class=\"dataframe\">\n",
       "  <thead>\n",
       "    <tr style=\"text-align: right;\">\n",
       "      <th></th>\n",
       "      <th>words</th>\n",
       "      <th>markers</th>\n",
       "      <th>sentense_num</th>\n",
       "    </tr>\n",
       "  </thead>\n",
       "  <tbody>\n",
       "    <tr>\n",
       "      <th>242305</th>\n",
       "      <td>(река)</td>\n",
       "      <td>I-LOC</td>\n",
       "      <td>15280</td>\n",
       "    </tr>\n",
       "  </tbody>\n",
       "</table>\n",
       "</div>"
      ],
      "text/plain": [
       "         words markers  sentense_num\n",
       "242305  (река)   I-LOC         15280"
      ]
     },
     "execution_count": 143,
     "metadata": {},
     "output_type": "execute_result"
    }
   ],
   "source": [
    "fdf[fdf.words==\"(река)\"]"
   ]
  },
  {
   "cell_type": "code",
   "execution_count": 144,
   "id": "3ad9ffbe-8a7c-40e2-ad51-cfb3a22e6c33",
   "metadata": {},
   "outputs": [
    {
     "data": {
      "text/html": [
       "<div>\n",
       "<style scoped>\n",
       "    .dataframe tbody tr th:only-of-type {\n",
       "        vertical-align: middle;\n",
       "    }\n",
       "\n",
       "    .dataframe tbody tr th {\n",
       "        vertical-align: top;\n",
       "    }\n",
       "\n",
       "    .dataframe thead th {\n",
       "        text-align: right;\n",
       "    }\n",
       "</style>\n",
       "<table border=\"1\" class=\"dataframe\">\n",
       "  <thead>\n",
       "    <tr style=\"text-align: right;\">\n",
       "      <th></th>\n",
       "      <th>words</th>\n",
       "      <th>markers</th>\n",
       "      <th>sentense_num</th>\n",
       "    </tr>\n",
       "  </thead>\n",
       "  <tbody>\n",
       "    <tr>\n",
       "      <th>242304</th>\n",
       "      <td>барда</td>\n",
       "      <td>B-LOC</td>\n",
       "      <td>15280</td>\n",
       "    </tr>\n",
       "    <tr>\n",
       "      <th>242305</th>\n",
       "      <td>(река)</td>\n",
       "      <td>I-LOC</td>\n",
       "      <td>15280</td>\n",
       "    </tr>\n",
       "    <tr>\n",
       "      <th>242306</th>\n",
       "      <td>офис</td>\n",
       "      <td>O</td>\n",
       "      <td>15280</td>\n",
       "    </tr>\n",
       "    <tr>\n",
       "      <th>242307</th>\n",
       "      <td>шерифа</td>\n",
       "      <td>O</td>\n",
       "      <td>15280</td>\n",
       "    </tr>\n",
       "    <tr>\n",
       "      <th>242308</th>\n",
       "      <td>округа</td>\n",
       "      <td>O</td>\n",
       "      <td>15280</td>\n",
       "    </tr>\n",
       "  </tbody>\n",
       "</table>\n",
       "</div>"
      ],
      "text/plain": [
       "         words markers  sentense_num\n",
       "242304   барда   B-LOC         15280\n",
       "242305  (река)   I-LOC         15280\n",
       "242306    офис       O         15280\n",
       "242307  шерифа       O         15280\n",
       "242308  округа       O         15280"
      ]
     },
     "execution_count": 144,
     "metadata": {},
     "output_type": "execute_result"
    }
   ],
   "source": [
    "fdf[fdf.sentense_num==15280]"
   ]
  },
  {
   "cell_type": "code",
   "execution_count": 145,
   "id": "a54d0c79-8728-4cb9-b311-0c91753c1edd",
   "metadata": {},
   "outputs": [],
   "source": [
    "ls = ' '.join(fdf[fdf.sentense_num==15280].words)"
   ]
  },
  {
   "cell_type": "code",
   "execution_count": null,
   "id": "37fc326c-f65c-49c8-ab16-21856a73198a",
   "metadata": {},
   "outputs": [],
   "source": [
    "ls = u'Российская экологическая партия «Зелёные» — до февраля 2012 года, входила в состав партии СР.'"
   ]
  },
  {
   "cell_type": "code",
   "execution_count": 322,
   "id": "84782bf5-eaac-46be-b5b8-e4efaf51f27d",
   "metadata": {},
   "outputs": [],
   "source": [
    "ls = 'Иоанн Павел II внёс некоторые изменения в правила проведения конклавов.'"
   ]
  },
  {
   "cell_type": "code",
   "execution_count": 315,
   "id": "c173e880-8462-476e-9065-a3044ee257e7",
   "metadata": {},
   "outputs": [],
   "source": [
    "ls = 'В 1977 году окончил исторический факультет Запорожского государственного педагогического института.'"
   ]
  },
  {
   "cell_type": "code",
   "execution_count": 327,
   "id": "fe47dd65-41da-4333-b380-02d65a37d1f5",
   "metadata": {},
   "outputs": [],
   "source": [
    "ls = 'Куно I фон Ротт — пфальцграф Баварии, граф Фобурга, граф Нижнего Изара.'"
   ]
  },
  {
   "cell_type": "code",
   "execution_count": 350,
   "id": "a0d560bb-bdc4-4368-8364-5b8aa5e740d9",
   "metadata": {
    "tags": []
   },
   "outputs": [],
   "source": [
    "ls = '— Гаев — «Вишнёвый сад», по пьесе А. П. Чехова, реж.'"
   ]
  },
  {
   "cell_type": "code",
   "execution_count": 133,
   "id": "63837b7b-d9a6-4b50-a200-8e1e921d3442",
   "metadata": {},
   "outputs": [],
   "source": [
    "ls = 'whites off earth now!! вики'"
   ]
  },
  {
   "cell_type": "code",
   "execution_count": 141,
   "id": "50d5d19b-6cef-4325-9f3e-8b1721db23db",
   "metadata": {},
   "outputs": [],
   "source": [
    "ls = 'смерть о’брайан, рональд кларк'"
   ]
  },
  {
   "cell_type": "code",
   "execution_count": 147,
   "id": "c5e312bd-a533-4955-9075-d6a1228885f8",
   "metadata": {},
   "outputs": [],
   "source": [
    "ls = 'барда (река) офис шерифа округа'"
   ]
  },
  {
   "cell_type": "code",
   "execution_count": 148,
   "id": "23835d07-ede6-44e3-a261-9576b8019347",
   "metadata": {},
   "outputs": [
    {
     "name": "stdout",
     "output_type": "stream",
     "text": [
      "барда NOUN nsubj\n",
      "( PUNCT punct\n",
      "река NOUN appos\n",
      ") PUNCT punct\n",
      "офис NOUN ROOT\n",
      "шерифа NOUN nmod\n",
      "округа NOUN nmod\n"
     ]
    }
   ],
   "source": [
    "ldoc = ltokenize(ls)"
   ]
  },
  {
   "cell_type": "code",
   "execution_count": 142,
   "id": "8d98f18a-3cbf-4d23-ba05-79c98c7f91cc",
   "metadata": {},
   "outputs": [
    {
     "name": "stdout",
     "output_type": "stream",
     "text": [
      "смерть NOUN ROOT\n",
      "о’брайан PROPN nmod\n",
      ", PUNCT punct\n",
      "рональд PROPN conj\n",
      "кларк PROPN flat:name\n"
     ]
    }
   ],
   "source": [
    "ldoc = ltokenize(ls)"
   ]
  },
  {
   "cell_type": "code",
   "execution_count": 134,
   "id": "43c20f3d-acab-4514-a30f-4ad14dd220f2",
   "metadata": {},
   "outputs": [
    {
     "name": "stdout",
     "output_type": "stream",
     "text": [
      "whites X ROOT\n",
      "off X flat:foreign\n",
      "earth X flat:foreign\n",
      "now X flat:foreign\n",
      "! PUNCT punct\n",
      "! PUNCT punct\n",
      "вики NOUN ROOT\n"
     ]
    }
   ],
   "source": [
    "ldoc = ltokenize(ls)"
   ]
  },
  {
   "cell_type": "code",
   "execution_count": 351,
   "id": "28566baa-f970-4fbe-b72d-504ea7490472",
   "metadata": {},
   "outputs": [
    {
     "name": "stdout",
     "output_type": "stream",
     "text": [
      "— PUNCT punct\n",
      "Гаев PROPN nsubj\n",
      "— PUNCT punct\n",
      "« PUNCT punct\n",
      "Вишнёвый ADJ amod\n",
      "сад NOUN ROOT\n",
      "» PUNCT punct\n",
      ", PUNCT punct\n",
      "по ADP case\n",
      "пьесе NOUN conj\n",
      "А. PROPN nmod\n",
      "П. PROPN flat:name\n",
      "Чехова PROPN flat:name\n",
      ", PUNCT punct\n",
      "реж NOUN conj\n",
      ". PUNCT punct\n"
     ]
    }
   ],
   "source": [
    "ldoc = ltokenize(ls)"
   ]
  },
  {
   "cell_type": "code",
   "execution_count": 317,
   "id": "93aa58f0-a85e-4bab-9fad-9d2d72561f39",
   "metadata": {},
   "outputs": [
    {
     "data": {
      "text/plain": [
       "'adposition'"
      ]
     },
     "execution_count": 317,
     "metadata": {},
     "output_type": "execute_result"
    }
   ],
   "source": [
    "spacy.explain('ADP')"
   ]
  },
  {
   "cell_type": "code",
   "execution_count": 352,
   "id": "5dd60139-c891-488f-970d-0c6d20bd4819",
   "metadata": {},
   "outputs": [
    {
     "data": {
      "text/plain": [
       "array([-0.15088378, -0.54684824, -0.9238066 ,  1.0568125 ,  0.5398472 ,\n",
       "        0.02997024,  1.3314238 ,  0.9960133 , -1.2179492 , -0.9747461 ,\n",
       "        0.4893977 ,  0.04323094,  0.754324  , -0.8644272 , -0.18096948,\n",
       "        0.67915416,  0.3041162 ,  0.2299924 ,  0.57019395,  1.3187566 ,\n",
       "       -0.38588908, -0.88329256, -0.91332185, -0.01493233, -0.5173516 ,\n",
       "       -0.7581314 ,  0.8646259 , -0.48270148, -0.71458685,  0.24038637,\n",
       "        0.02487998,  0.2599171 ,  0.08873704,  0.3083642 ,  1.7474169 ,\n",
       "       -0.37637758,  0.34154785, -1.9041159 ,  0.9965748 ,  0.44928363,\n",
       "       -0.22731608, -0.46921015, -1.5062906 , -0.26387632, -1.593091  ,\n",
       "       -0.33843   ,  1.6264466 , -0.9873369 ,  0.2793551 ,  0.3358706 ,\n",
       "       -0.7336711 , -0.9600396 ,  0.54485095, -1.1470025 , -0.59627616,\n",
       "        0.68997943, -0.2976028 , -0.59218335, -0.9338236 , -0.71751076,\n",
       "       -0.7155106 ,  0.08024211, -0.80225325, -0.68195987, -0.9824893 ,\n",
       "        0.35127306,  2.6796863 , -0.8557567 , -0.10602969,  0.29727808,\n",
       "       -1.0426888 , -0.8918567 ,  0.6719838 ,  0.99186814,  0.8526872 ,\n",
       "       -0.5372922 , -0.5300191 , -0.2900185 ,  0.30079913, -1.685589  ,\n",
       "       -0.526541  ,  0.38287774,  1.2892506 ,  0.6973219 , -1.329132  ,\n",
       "        0.26156014,  1.6028099 ,  0.36801553, -0.80574214,  0.13836884,\n",
       "       -0.45378348,  1.7193534 ,  0.66779   ,  1.6445737 , -1.416467  ,\n",
       "        0.5668869 ], dtype=float32)"
      ]
     },
     "execution_count": 352,
     "metadata": {},
     "output_type": "execute_result"
    }
   ],
   "source": [
    "ldoc[1].vector"
   ]
  },
  {
   "cell_type": "code",
   "execution_count": 87,
   "id": "88d52bb3-77db-4998-ba6e-f89535f35052",
   "metadata": {},
   "outputs": [
    {
     "name": "stdout",
     "output_type": "stream",
     "text": [
      "— PUNCT punct\n",
      "Гаев PROPN ROOT\n",
      "— PUNCT punct\n",
      "« PUNCT punct\n",
      "Вишнёвый ADJ amod\n",
      "сад NOUN appos\n",
      "» PUNCT punct\n"
     ]
    }
   ],
   "source": [
    "ldoc2 = ltokenize('— Гаев — «Вишнёвый сад»')"
   ]
  },
  {
   "cell_type": "code",
   "execution_count": 88,
   "id": "48eb6382-9a8b-44db-b5a4-5d04e2a6fd0a",
   "metadata": {},
   "outputs": [
    {
     "data": {
      "text/plain": [
       "array([-0.15088378, -0.54684824, -0.9238066 ,  1.0568125 ,  0.5398472 ,\n",
       "        0.02997024,  1.3314238 ,  0.9960133 , -1.2179492 , -0.9747461 ,\n",
       "        0.4893977 ,  0.04323094,  0.754324  , -0.8644272 , -0.18096948,\n",
       "        0.67915416,  0.3041162 ,  0.2299924 ,  0.57019395,  1.3187566 ,\n",
       "       -0.38588908, -0.88329256, -0.91332185, -0.01493233, -0.5173516 ,\n",
       "       -0.7581314 ,  0.8646259 , -0.48270148, -0.71458685,  0.24038637,\n",
       "        0.02487998,  0.2599171 ,  0.08873704,  0.3083642 ,  1.7474169 ,\n",
       "       -0.37637758,  0.34154785, -1.9041159 ,  0.9965748 ,  0.44928363,\n",
       "       -0.22731608, -0.46921015, -1.5062906 , -0.26387632, -1.593091  ,\n",
       "       -0.33843   ,  1.6264466 , -0.9873369 ,  0.2793551 ,  0.3358706 ,\n",
       "       -0.7336711 , -0.9600396 ,  0.54485095, -1.1470025 , -0.59627616,\n",
       "        0.68997943, -0.2976028 , -0.59218335, -0.9338236 , -0.71751076,\n",
       "       -0.7155106 ,  0.08024211, -0.80225325, -0.68195987, -0.9824893 ,\n",
       "        0.35127306,  2.6796863 , -0.8557567 , -0.10602969,  0.29727808,\n",
       "       -1.0426888 , -0.8918567 ,  0.6719838 ,  0.99186814,  0.8526872 ,\n",
       "       -0.5372922 , -0.5300191 , -0.2900185 ,  0.30079913, -1.685589  ,\n",
       "       -0.526541  ,  0.38287774,  1.2892506 ,  0.6973219 , -1.329132  ,\n",
       "        0.26156014,  1.6028099 ,  0.36801553, -0.80574214,  0.13836884,\n",
       "       -0.45378348,  1.7193534 ,  0.66779   ,  1.6445737 , -1.416467  ,\n",
       "        0.5668869 ], dtype=float32)"
      ]
     },
     "execution_count": 88,
     "metadata": {},
     "output_type": "execute_result"
    }
   ],
   "source": [
    "ldoc2[1].vector"
   ]
  },
  {
   "cell_type": "code",
   "execution_count": 89,
   "id": "9b58fe3e-c307-4eb1-bd94-72d93351ce39",
   "metadata": {},
   "outputs": [
    {
     "name": "stdout",
     "output_type": "stream",
     "text": [
      "Гаев PROPN ROOT\n"
     ]
    }
   ],
   "source": [
    "ldoc3 = ltokenize('Гаев')"
   ]
  },
  {
   "cell_type": "code",
   "execution_count": 90,
   "id": "680e8ea2-d8a9-415a-a4c4-2d40aeb84e1b",
   "metadata": {},
   "outputs": [
    {
     "data": {
      "text/plain": [
       "array([ 0.99409044,  0.83597636,  0.1263062 , -0.09109819, -1.1457314 ,\n",
       "        0.8836876 , -0.06295556, -0.7008098 , -1.2657105 , -2.9351544 ,\n",
       "       -0.70007384,  1.3430496 ,  0.05570084, -0.95862055, -0.8864032 ,\n",
       "       -0.89721215,  1.5154009 ,  0.15117225, -0.8838569 ,  4.1381855 ,\n",
       "        0.6823293 ,  1.1597071 , -1.0429618 , -0.27796334, -0.51467353,\n",
       "       -1.3439325 , -0.75288403, -0.2530463 , -1.0609232 , -1.022596  ,\n",
       "        0.61286384,  0.3037159 , -0.6938801 ,  0.25103068,  0.93740565,\n",
       "       -1.4643438 ,  1.6844037 , -0.70595425, -0.20817642, -1.0358372 ,\n",
       "       -1.3696535 ,  0.8464334 ,  0.100807  , -0.33786273, -1.4744568 ,\n",
       "        1.6196182 , -0.07312524, -0.27399948, -0.25529173,  1.6998627 ,\n",
       "       -1.3896214 ,  2.0337353 ,  2.0641222 , -0.36443368,  0.72431505,\n",
       "       -1.3327184 ,  0.923342  ,  0.18730319, -0.36651525,  0.41898328,\n",
       "       -0.63671   , -0.33722958, -0.61822414,  0.34213322, -0.26723197,\n",
       "        1.8587366 , -0.56858754,  0.2690826 ,  1.2355096 , -0.93253684,\n",
       "        1.4955997 , -1.0913092 ,  0.17315936,  0.20105806,  1.7521753 ,\n",
       "       -0.34028983,  3.0653064 , -1.3853345 ,  1.6270177 , -0.73217213,\n",
       "       -1.5027623 ,  0.3893926 , -0.38856342,  0.83486336,  1.0969385 ,\n",
       "       -0.46477145, -0.4324522 , -0.5612526 , -0.38311324, -2.060972  ,\n",
       "        1.5828301 ,  2.0578184 , -1.663028  ,  0.7515873 , -0.46866795,\n",
       "        0.25986457], dtype=float32)"
      ]
     },
     "execution_count": 90,
     "metadata": {},
     "output_type": "execute_result"
    }
   ],
   "source": [
    "ldoc2[0].vector"
   ]
  },
  {
   "cell_type": "markdown",
   "id": "ddbfb697-8049-4f0b-bc5c-3beaf6e1191f",
   "metadata": {
    "tags": []
   },
   "source": [
    "#### **Векторизуем и обучаем SVM**"
   ]
  },
  {
   "cell_type": "code",
   "execution_count": 17,
   "id": "3b6ab1cc-a2a4-405f-8b5b-29237817fb98",
   "metadata": {
    "tags": []
   },
   "outputs": [],
   "source": [
    "bio = {'O': 0, 'B-LOC': 1, 'I-PER': 2, 'B-PER': 3, 'I-CW': 4, 'B-CW': 5, 'B-GRP': 6, 'B-PROD': 7, 'B-CORP': 8, 'I-GRP': 9, 'I-CORP': 10, 'I-PROD': 11, 'I-LOC': 12, '_ O': 0}"
   ]
  },
  {
   "cell_type": "code",
   "execution_count": 248,
   "id": "0bcc669e-2b22-4e8f-b0f7-0b9b340fee00",
   "metadata": {},
   "outputs": [],
   "source": [
    "bio = {'O': 0, 'B-LOC': 1, 'I-LOC': 1, 'B-PER': 2, 'I-PER': 2, 'B-CW': 3, 'I-CW': 3, 'B-GRP': 4, 'I-GRP': 4, 'B-PROD': 5, 'I-PROD': 5, 'B-CORP': 6, 'I-CORP': 6, '_ O': 0}"
   ]
  },
  {
   "cell_type": "code",
   "execution_count": 215,
   "id": "72827e9c-d2a5-4d70-8473-9feea2eccc4f",
   "metadata": {},
   "outputs": [
    {
     "data": {
      "text/plain": [
       "242384"
      ]
     },
     "execution_count": 215,
     "metadata": {},
     "output_type": "execute_result"
    }
   ],
   "source": [
    "len(fdf)"
   ]
  },
  {
   "cell_type": "code",
   "execution_count": 216,
   "id": "d9998d75-4087-419d-b81d-80009d13a0fd",
   "metadata": {},
   "outputs": [],
   "source": [
    "# функция для векторизации с учетом соседних 2 слов\n",
    "def lvectorize_3(adf, abio):\n",
    "    adf.reset_index(drop=True, inplace=True)\n",
    "    lX = np.zeros((len(adf),96))\n",
    "    ly = np.zeros(len(adf))\n",
    "    for index, row in adf.iterrows():\n",
    "        lsent = ''\n",
    "        lsent_cnt = 0\n",
    "        if (index-1 >= 0):\n",
    "            if (fdf.loc[index-1,'sentense_num'] == fdf.loc[index,'sentense_num']):\n",
    "                lsent = fdf.loc[index-1,'words']+' '\n",
    "                lsent_cnt = 1\n",
    "        lsent += row.words\n",
    "        if (index+1 < len(adf)):\n",
    "            if (fdf.loc[index+1,'sentense_num'] == fdf.loc[index,'sentense_num']):\n",
    "                lsent += ' ' + fdf.loc[index+1,'words']\n",
    "        lnlp = nlp(lsent)\n",
    "        lX[index] = lnlp[lsent_cnt].vector\n",
    "        #print(lsent, lnlp, lsent_cnt, lnlp[lsent_cnt], lX[index])\n",
    "        ly[index] = abio[row.markers]\n",
    "    return lX, ly"
   ]
  },
  {
   "cell_type": "code",
   "execution_count": 217,
   "id": "1fa7ddb4-c6ec-45b5-8fb8-c2a362208cc4",
   "metadata": {},
   "outputs": [],
   "source": [
    "def lvectorize(adf, abio):\n",
    "    adf.reset_index(drop=True, inplace=True)\n",
    "    lX = np.zeros((len(adf),96))\n",
    "    ly = np.zeros(len(adf))\n",
    "    for index, row in adf.iterrows():\n",
    "        lX[index] = nlp(row.words).vector\n",
    "        #print(row.words, lX[index])\n",
    "        ly[index] = abio[row.markers]\n",
    "    return lX, ly"
   ]
  },
  {
   "cell_type": "code",
   "execution_count": 218,
   "id": "a09df0aa-0c34-40b5-bd31-d9298ec09801",
   "metadata": {},
   "outputs": [],
   "source": [
    "lpos_tags = ['ADJ', 'ADP', 'ADV', 'AUX', 'CONJ', 'CCONJ', 'DET', 'INTJ', 'NOUN', 'NUM', 'PART', 'PRON', 'PROPN', 'PUNCT', 'SCONJ', 'SYM', 'VERB', 'X', 'SPACE']"
   ]
  },
  {
   "cell_type": "code",
   "execution_count": 219,
   "id": "d1c5e1b6-2f6f-4932-8dc3-eabb968cfd68",
   "metadata": {},
   "outputs": [],
   "source": [
    "lpos_dict = dict( zip(lpos_tags,[s for s in range(len(lpos_tags))]))"
   ]
  },
  {
   "cell_type": "code",
   "execution_count": 220,
   "id": "8b2eb5c8-536a-4c51-89b8-e9f200c8354a",
   "metadata": {},
   "outputs": [
    {
     "data": {
      "text/plain": [
       "{'ADJ': 0,\n",
       " 'ADP': 1,\n",
       " 'ADV': 2,\n",
       " 'AUX': 3,\n",
       " 'CONJ': 4,\n",
       " 'CCONJ': 5,\n",
       " 'DET': 6,\n",
       " 'INTJ': 7,\n",
       " 'NOUN': 8,\n",
       " 'NUM': 9,\n",
       " 'PART': 10,\n",
       " 'PRON': 11,\n",
       " 'PROPN': 12,\n",
       " 'PUNCT': 13,\n",
       " 'SCONJ': 14,\n",
       " 'SYM': 15,\n",
       " 'VERB': 16,\n",
       " 'X': 17,\n",
       " 'SPACE': 18}"
      ]
     },
     "execution_count": 220,
     "metadata": {},
     "output_type": "execute_result"
    }
   ],
   "source": [
    "lpos_dict"
   ]
  },
  {
   "cell_type": "code",
   "execution_count": 222,
   "id": "75a98f8b-2bf0-4466-b4d7-f0de715165af",
   "metadata": {},
   "outputs": [
    {
     "data": {
      "text/plain": [
       "(18,)"
      ]
     },
     "execution_count": 222,
     "metadata": {},
     "output_type": "execute_result"
    }
   ],
   "source": [
    "np.zeros((18)).shape"
   ]
  },
  {
   "cell_type": "code",
   "execution_count": 223,
   "id": "5fabe0ad-d887-450c-88d0-97a3a14fe4e2",
   "metadata": {},
   "outputs": [],
   "source": [
    "# функция для векторизации с учетом соседних 2 слов (конкатенация векторов)\n",
    "def lvectorize_3_sum(adf, abio, apos_dict):\n",
    "    adf.reset_index(drop=True, inplace=True)\n",
    "    lX = np.zeros((len(adf),342))\n",
    "    ly = np.zeros(len(adf))\n",
    "    for index, row in adf.iterrows():\n",
    "        v1 = np.zeros((96))\n",
    "        v1_pos = np.zeros(18)\n",
    "        if (index-1 >= 0):\n",
    "            if (fdf.loc[index-1,'sentense_num'] == fdf.loc[index,'sentense_num']):\n",
    "                lnlp = nlp(fdf.loc[index-1,'words'])\n",
    "                v1 = lnlp[0].vector\n",
    "                v1_pos[apos_dict[lnlp[0].pos_]] = 1\n",
    "        lnlp = nlp(row.words)\n",
    "        v2 = lnlp[0].vector\n",
    "        v2_pos = np.zeros(18)\n",
    "        v2_pos[apos_dict[lnlp[0].pos_]] = 1\n",
    "        v3 = np.zeros((96))\n",
    "        v3_pos = np.zeros(18)\n",
    "        if (index+1 < len(adf)):\n",
    "            if (fdf.loc[index+1,'sentense_num'] == fdf.loc[index,'sentense_num']):\n",
    "                lnlp = nlp(fdf.loc[index+1,'words'])\n",
    "                v3 = lnlp[0].vector\n",
    "                v3_pos[apos_dict[lnlp[0].pos_]] = 1\n",
    "        lX[index] = np.concatenate((v1, v1_pos, v2, v2_pos, v3, v3_pos), axis = 0)\n",
    "        #print(lsent, lnlp, lsent_cnt, lnlp[lsent_cnt], lX[index])\n",
    "        ly[index] = abio[row.markers]\n",
    "    return lX, ly"
   ]
  },
  {
   "cell_type": "code",
   "execution_count": 232,
   "id": "5672cb7a-aa05-42f0-b857-af4c265d807e",
   "metadata": {},
   "outputs": [
    {
     "name": "stdout",
     "output_type": "stream",
     "text": [
      "Wall time: 15min 37s\n"
     ]
    }
   ],
   "source": [
    "%%time\n",
    "X_train, y_train = lvectorize_3_sum(fdf[:50000], bio, lpos_dict)"
   ]
  },
  {
   "cell_type": "code",
   "execution_count": 227,
   "id": "4cc8a52e-e197-4f72-afda-1a095f385aad",
   "metadata": {},
   "outputs": [
    {
     "name": "stdout",
     "output_type": "stream",
     "text": [
      "Wall time: 5min 11s\n"
     ]
    }
   ],
   "source": [
    "%%time\n",
    "#X_train, y_train = lvectorize(fdf[:50000], bio)"
   ]
  },
  {
   "cell_type": "code",
   "execution_count": 233,
   "id": "16e5d4de-0d6e-4cdd-a720-dab493f08994",
   "metadata": {
    "tags": []
   },
   "outputs": [
    {
     "data": {
      "text/plain": [
       "(50000, 342)"
      ]
     },
     "execution_count": 233,
     "metadata": {},
     "output_type": "execute_result"
    }
   ],
   "source": [
    "X_train.shape"
   ]
  },
  {
   "cell_type": "code",
   "execution_count": 234,
   "id": "382466f6-1800-4ac2-9c60-6bfd6b0150f6",
   "metadata": {},
   "outputs": [
    {
     "data": {
      "text/plain": [
       "(50000,)"
      ]
     },
     "execution_count": 234,
     "metadata": {},
     "output_type": "execute_result"
    }
   ],
   "source": [
    "y_train.shape"
   ]
  },
  {
   "cell_type": "code",
   "execution_count": 235,
   "id": "2116e9eb-835c-4060-a54b-728e2389df25",
   "metadata": {},
   "outputs": [
    {
     "name": "stdout",
     "output_type": "stream",
     "text": [
      "Wall time: 22min 4s\n"
     ]
    },
    {
     "data": {
      "text/plain": [
       "SVC(C=10, class_weight='balanced')"
      ]
     },
     "execution_count": 235,
     "metadata": {},
     "output_type": "execute_result"
    }
   ],
   "source": [
    "%%time\n",
    "# Обучаем SVM классификатор\n",
    "svm_clf = SVC(kernel=\"rbf\", gamma='scale', C=10, class_weight=\"balanced\")\n",
    "#svm_clf = SVC(kernel=\"poly\", degree=3, coef0=0.3, C=2)\n",
    "svm_clf.fit(X_train, y_train)"
   ]
  },
  {
   "cell_type": "code",
   "execution_count": 236,
   "id": "b143db4f-c232-497c-b377-53f5b8371fb2",
   "metadata": {},
   "outputs": [
    {
     "name": "stdout",
     "output_type": "stream",
     "text": [
      "Wall time: 15min 31s\n"
     ]
    }
   ],
   "source": [
    "%%time\n",
    "X_val, y_val = lvectorize_3_sum(fdf[50000:100000], bio, lpos_dict)"
   ]
  },
  {
   "cell_type": "code",
   "execution_count": 237,
   "id": "b0aed738-c2b1-4992-aaa1-2eac879ce8e6",
   "metadata": {
    "tags": []
   },
   "outputs": [
    {
     "name": "stdout",
     "output_type": "stream",
     "text": [
      "Wall time: 0 ns\n"
     ]
    }
   ],
   "source": [
    "%%time\n",
    "#X_val, y_val = lvectorize(fdf[50000:100000], bio)"
   ]
  },
  {
   "cell_type": "code",
   "execution_count": 238,
   "id": "c887a483-576d-45e7-b351-029c8c7019a9",
   "metadata": {},
   "outputs": [
    {
     "name": "stdout",
     "output_type": "stream",
     "text": [
      "Wall time: 8min 36s\n"
     ]
    }
   ],
   "source": [
    "%%time\n",
    "y_pred = svm_clf.predict(X_val)"
   ]
  },
  {
   "cell_type": "code",
   "execution_count": 229,
   "id": "e2d4edd0-d1b0-4516-9152-efb20dada393",
   "metadata": {},
   "outputs": [
    {
     "data": {
      "text/plain": [
       "0.8445"
      ]
     },
     "execution_count": 229,
     "metadata": {},
     "output_type": "execute_result"
    }
   ],
   "source": [
    "# C учетом 2 соседних слов - 0.8445\n",
    "# accuracy_score(y_pred, y_val)"
   ]
  },
  {
   "cell_type": "code",
   "execution_count": 95,
   "id": "5cd98ed9-cd0b-4463-b30e-29385a0a3662",
   "metadata": {
    "tags": []
   },
   "outputs": [
    {
     "data": {
      "text/plain": [
       "0.87866"
      ]
     },
     "execution_count": 95,
     "metadata": {},
     "output_type": "execute_result"
    }
   ],
   "source": [
    "# Без учета соседних слов 0.87866\n",
    "#accuracy_score(y_pred, y_val)"
   ]
  },
  {
   "cell_type": "code",
   "execution_count": 239,
   "id": "3ad5c51e-f9f5-4f19-81c7-3db4c669069a",
   "metadata": {},
   "outputs": [
    {
     "data": {
      "text/plain": [
       "0.82384"
      ]
     },
     "execution_count": 239,
     "metadata": {},
     "output_type": "execute_result"
    }
   ],
   "source": [
    "# С учетом 2 соседних слов (сложение векторов)\n",
    "accuracy_score(y_pred, y_val)"
   ]
  },
  {
   "cell_type": "code",
   "execution_count": 240,
   "id": "0d2eb003-21cb-45d7-906b-4261a0cc4e75",
   "metadata": {},
   "outputs": [
    {
     "name": "stdout",
     "output_type": "stream",
     "text": [
      "Wall time: 4min 9s\n"
     ]
    }
   ],
   "source": [
    "%%time\n",
    "X_test, y_test = lvectorize_3_sum(fdf_test, bio, lpos_dict)"
   ]
  },
  {
   "cell_type": "code",
   "execution_count": 241,
   "id": "4f70e97c-8ffb-454e-9720-a5c511b79fe6",
   "metadata": {},
   "outputs": [
    {
     "name": "stdout",
     "output_type": "stream",
     "text": [
      "Wall time: 0 ns\n"
     ]
    }
   ],
   "source": [
    "%%time\n",
    "#X_test, y_test = lvectorize(fdf_test, bio)"
   ]
  },
  {
   "cell_type": "code",
   "execution_count": 242,
   "id": "fccefd2d-2076-4b54-a313-03bd5cce27df",
   "metadata": {},
   "outputs": [
    {
     "name": "stdout",
     "output_type": "stream",
     "text": [
      "Wall time: 2min 17s\n"
     ]
    }
   ],
   "source": [
    "%%time\n",
    "y_pred = svm_clf.predict(X_test)"
   ]
  },
  {
   "cell_type": "code",
   "execution_count": 233,
   "id": "58a0c8a3-9df4-4a6e-91ee-8fca55c82b75",
   "metadata": {},
   "outputs": [
    {
     "data": {
      "text/plain": [
       "0.8436693516853054"
      ]
     },
     "execution_count": 233,
     "metadata": {},
     "output_type": "execute_result"
    }
   ],
   "source": [
    "# С учетом 2 соседних слов - 0.8436693516853054\n",
    "# accuracy_score(y_pred, y_test)"
   ]
  },
  {
   "cell_type": "code",
   "execution_count": 97,
   "id": "476afe7f-37c4-47f2-a3bc-23cc3d164e3a",
   "metadata": {},
   "outputs": [
    {
     "data": {
      "text/plain": [
       "0.8762805974818175"
      ]
     },
     "execution_count": 97,
     "metadata": {},
     "output_type": "execute_result"
    }
   ],
   "source": [
    "# Без учета соседних слов 0.8762805974818175\n",
    "# accuracy_score(y_pred, y_test)"
   ]
  },
  {
   "cell_type": "code",
   "execution_count": 243,
   "id": "45815a35-33c4-470f-a303-8fd8cc491e5f",
   "metadata": {},
   "outputs": [
    {
     "data": {
      "text/plain": [
       "0.8243528583717838"
      ]
     },
     "execution_count": 243,
     "metadata": {},
     "output_type": "execute_result"
    }
   ],
   "source": [
    "# С учетом 2 соседних слов (сложение векторов)\n",
    "accuracy_score(y_pred, y_test)"
   ]
  },
  {
   "cell_type": "code",
   "execution_count": 431,
   "id": "fc2c8f4f-076b-4cee-bef9-c1adb2536306",
   "metadata": {},
   "outputs": [],
   "source": [
    "def remove_bio(ay):\n",
    "    ly = np.zeros(ay.shape)\n",
    "    lmatch = {0: 0, 1: 1, 2: 2, 3: 2, 4: 4, 5: 4, 6: 6, 7: 7, 8: 8, 9: 6, 10: 8, 11: 7, 12: 1}\n",
    "    for i in range(ay.shape[0]):\n",
    "        ly[i] = lmatch[ay[i]]\n",
    "    return ly"
   ]
  },
  {
   "cell_type": "code",
   "execution_count": 512,
   "id": "a3fe43b3-8a78-4bcc-b06f-0b4b57b24ee5",
   "metadata": {
    "tags": []
   },
   "outputs": [],
   "source": [
    "y_test1 = remove_bio(y_test)"
   ]
  },
  {
   "cell_type": "code",
   "execution_count": 513,
   "id": "764c2bc7-c7ae-456f-a83a-0d9faeab926a",
   "metadata": {},
   "outputs": [],
   "source": [
    "y_pred1 = remove_bio(y_pred)"
   ]
  },
  {
   "cell_type": "code",
   "execution_count": 514,
   "id": "5a06209f-70e2-4643-b7e3-0c9b9cfc9f9f",
   "metadata": {},
   "outputs": [
    {
     "data": {
      "text/plain": [
       "0.8150465316336905"
      ]
     },
     "execution_count": 514,
     "metadata": {},
     "output_type": "execute_result"
    }
   ],
   "source": [
    "accuracy_score(y_pred1, y_test1)"
   ]
  },
  {
   "cell_type": "code",
   "execution_count": 244,
   "id": "bfc29e91-fcab-4477-a0a3-c2f861b92370",
   "metadata": {},
   "outputs": [],
   "source": [
    "def bio_reverse(abio):\n",
    "    ldict = {}\n",
    "    for key in abio.keys():\n",
    "        if key != '_ O':\n",
    "            ldict[abio[key]]=key\n",
    "    return ldict"
   ]
  },
  {
   "cell_type": "code",
   "execution_count": 249,
   "id": "1e3f1830-ea98-49cd-b7ec-f7c37fb37fff",
   "metadata": {},
   "outputs": [],
   "source": [
    "bio_rev = bio_reverse(bio)"
   ]
  },
  {
   "cell_type": "code",
   "execution_count": 250,
   "id": "900c53db-6fbc-4ea1-b779-ab39d3aca192",
   "metadata": {},
   "outputs": [
    {
     "data": {
      "text/plain": [
       "(12787, 342)"
      ]
     },
     "execution_count": 250,
     "metadata": {},
     "output_type": "execute_result"
    }
   ],
   "source": [
    "X_test.shape"
   ]
  },
  {
   "cell_type": "code",
   "execution_count": 251,
   "id": "6b19174d-3a1c-46f8-b65a-95825ea6a46f",
   "metadata": {},
   "outputs": [
    {
     "data": {
      "image/png": "[encoded data removed]",
      "text/plain": [
       "<Figure size 1080x1080 with 2 Axes>"
      ]
     },
     "metadata": {
      "needs_background": "light"
     },
     "output_type": "display_data"
    }
   ],
   "source": [
    "fig, ax = plt.subplots(figsize=(15, 15))\n",
    "plot_confusion_matrix(svm_clf, X_test, y_test, cmap=plt.cm.Blues, display_labels=[bio_rev[c] for c in svm_clf.classes_], ax=ax)\n",
    "plt.show()"
   ]
  },
  {
   "cell_type": "code",
   "execution_count": 425,
   "id": "5f29c6d2-f62a-4a43-a839-19a9073e1d48",
   "metadata": {},
   "outputs": [
    {
     "data": {
      "image/png": "[encoded data removed]",
      "text/plain": [
       "<Figure size 1080x1080 with 2 Axes>"
      ]
     },
     "metadata": {
      "needs_background": "light"
     },
     "output_type": "display_data"
    }
   ],
   "source": [
    "fig, ax = plt.subplots(figsize=(15, 15))\n",
    "plot_confusion_matrix(svm_clf, X_test, y_test, cmap=plt.cm.Blues, display_labels=[bio_rev[c] for c in svm_clf.classes_], ax=ax)\n",
    "plt.show()"
   ]
  },
  {
   "cell_type": "code",
   "execution_count": 252,
   "id": "42cb510b-8c4e-4251-bb9d-7aa125d38b7b",
   "metadata": {},
   "outputs": [
    {
     "name": "stdout",
     "output_type": "stream",
     "text": [
      "              precision    recall  f1-score   support\n",
      "\n",
      "           O       0.90      0.94      0.92     11020\n",
      "       I-LOC       0.13      0.09      0.11       253\n",
      "       I-PER       0.25      0.19      0.21       386\n",
      "        I-CW       0.11      0.10      0.11       348\n",
      "       I-GRP       0.10      0.04      0.06       293\n",
      "      I-PROD       0.09      0.06      0.07       207\n",
      "      I-CORP       0.29      0.18      0.22       280\n",
      "\n",
      "    accuracy                           0.82     12787\n",
      "   macro avg       0.27      0.23      0.24     12787\n",
      "weighted avg       0.79      0.82      0.81     12787\n",
      "\n"
     ]
    }
   ],
   "source": [
    "print(classification_report(y_test, y_pred, target_names=[bio_rev[c] for c in svm_clf.classes_]))"
   ]
  },
  {
   "cell_type": "markdown",
   "id": "20bf8673-8015-49b4-a825-b14b016cecfc",
   "metadata": {
    "tags": []
   },
   "source": [
    "#### **Обучаем seq2seq**"
   ]
  },
  {
   "cell_type": "code",
   "execution_count": 18,
   "id": "f44e3f70-a554-4b47-9e65-97b6742a9f47",
   "metadata": {},
   "outputs": [],
   "source": [
    "from itertools import chain\n",
    "\n",
    "def get_dict_map(data, token_or_tag):\n",
    "    tok2idx = {}\n",
    "    idx2tok = {}\n",
    "    \n",
    "    if token_or_tag == 'token':\n",
    "        vocab = list(set(data['words'].to_list()))\n",
    "    else:\n",
    "        vocab = list(set(data['markers'].to_list()))\n",
    "    idx2tok = {idx:tok for  idx, tok in enumerate(vocab)}\n",
    "    idx2tok[len(vocab)] = '<UNKNOWN>'\n",
    "    idx2tok[len(vocab)+1] = '<PAD>'\n",
    "    tok2idx = {tok:idx for  idx, tok in enumerate(vocab)}\n",
    "    tok2idx['<UNKNOWN>'] = len(vocab)\n",
    "    tok2idx['<PAD>'] = len(vocab)+1\n",
    "    return tok2idx, idx2tok"
   ]
  },
  {
   "cell_type": "code",
   "execution_count": 308,
   "id": "214febe0-2ac4-4a81-ba8f-c18ec1b4584a",
   "metadata": {},
   "outputs": [],
   "source": [
    "token2idx, idx2token = get_dict_map(fdf, 'token')\n",
    "tag2idx, idx2tag = get_dict_map(fdf, 'marker')"
   ]
  },
  {
   "cell_type": "code",
   "execution_count": 309,
   "id": "caee228c-23e1-4269-aaae-3d27a44f5e6d",
   "metadata": {},
   "outputs": [],
   "source": [
    "# Убираем BIO\n",
    "tag2idx['I-LOC'] = tag2idx['B-LOC'] = 0\n",
    "tag2idx['I-PER'] = tag2idx['B-PER'] = 1\n",
    "tag2idx['I-CORP'] = tag2idx['B-CORP'] = 2\n",
    "tag2idx['I-PROD'] = tag2idx['B-PROD'] = 3\n",
    "tag2idx['I-GRP'] = tag2idx['B-GRP'] = 4\n",
    "tag2idx['I-CW'] = tag2idx['B-CW'] = 5\n",
    "tag2idx['_ O'] = tag2idx['O'] = 6\n",
    "tag2idx['<PAD>'] = 7\n",
    "del tag2idx['<UNKNOWN>']\n",
    "\n",
    "idx2tag = {0: 'LOC', 1: 'PER', 2: 'CORP', 3: 'PROD', 4: 'GRP', 5: 'CW', 6: 'O', 7: '<PAD>'}"
   ]
  },
  {
   "cell_type": "code",
   "execution_count": 310,
   "id": "cd24d643-9783-4d1b-8344-bd866967b087",
   "metadata": {},
   "outputs": [
    {
     "data": {
      "text/plain": [
       "{'B-PER': 1,\n",
       " 'I-PER': 1,\n",
       " 'B-LOC': 0,\n",
       " 'B-CORP': 2,\n",
       " 'I-LOC': 0,\n",
       " 'B-GRP': 4,\n",
       " 'I-CW': 5,\n",
       " 'B-CW': 5,\n",
       " 'B-PROD': 3,\n",
       " 'I-PROD': 3,\n",
       " 'I-CORP': 2,\n",
       " 'O': 6,\n",
       " 'I-GRP': 4,\n",
       " '_ O': 6,\n",
       " '<PAD>': 7}"
      ]
     },
     "execution_count": 310,
     "metadata": {},
     "output_type": "execute_result"
    }
   ],
   "source": [
    "tag2idx"
   ]
  },
  {
   "cell_type": "code",
   "execution_count": 311,
   "id": "aec443ed-2f68-4d60-9f97-4cd67da9b352",
   "metadata": {},
   "outputs": [
    {
     "data": {
      "text/plain": [
       "{0: 'LOC',\n",
       " 1: 'PER',\n",
       " 2: 'CORP',\n",
       " 3: 'PROD',\n",
       " 4: 'GRP',\n",
       " 5: 'CW',\n",
       " 6: 'O',\n",
       " 7: '<PAD>'}"
      ]
     },
     "execution_count": 311,
     "metadata": {},
     "output_type": "execute_result"
    }
   ],
   "source": [
    "idx2tag"
   ]
  },
  {
   "cell_type": "code",
   "execution_count": 281,
   "id": "85ac310b-5fd0-43ec-9955-b1250ea93549",
   "metadata": {},
   "outputs": [],
   "source": [
    "with open(\"z:\\\\ИТЦ ФАС\\\\Обучение\\\\Innopolis Data Science\\\\From Linux\\\\innopolis\\\\DZ_diplom\\\\token2idx.json\", \"w\", encoding=\"utf-8\") as fp:\n",
    "    json.dump(token2idx, fp)\n",
    "    fp.close()"
   ]
  },
  {
   "cell_type": "code",
   "execution_count": 282,
   "id": "86ad84ca-3847-4b4a-98b0-f8133e46ed0b",
   "metadata": {},
   "outputs": [],
   "source": [
    "with open(\"z:\\\\ИТЦ ФАС\\\\Обучение\\\\Innopolis Data Science\\\\From Linux\\\\innopolis\\\\DZ_diplom\\\\idx2tag.json\", \"w\", encoding=\"utf-8\") as fp:\n",
    "    json.dump(idx2tag, fp)\n",
    "    fp.close()"
   ]
  },
  {
   "cell_type": "code",
   "execution_count": 283,
   "id": "e4d45278-75bf-4004-b45d-1538ee6a76b0",
   "metadata": {},
   "outputs": [
    {
     "data": {
      "text/html": [
       "<div>\n",
       "<style scoped>\n",
       "    .dataframe tbody tr th:only-of-type {\n",
       "        vertical-align: middle;\n",
       "    }\n",
       "\n",
       "    .dataframe tbody tr th {\n",
       "        vertical-align: top;\n",
       "    }\n",
       "\n",
       "    .dataframe thead th {\n",
       "        text-align: right;\n",
       "    }\n",
       "</style>\n",
       "<table border=\"1\" class=\"dataframe\">\n",
       "  <thead>\n",
       "    <tr style=\"text-align: right;\">\n",
       "      <th></th>\n",
       "      <th>words</th>\n",
       "      <th>markers</th>\n",
       "      <th>sentense_num</th>\n",
       "      <th>word_idx</th>\n",
       "      <th>marker_idx</th>\n",
       "    </tr>\n",
       "  </thead>\n",
       "  <tbody>\n",
       "    <tr>\n",
       "      <th>0</th>\n",
       "      <td>российская</td>\n",
       "      <td>B-GRP</td>\n",
       "      <td>1</td>\n",
       "      <td>9681</td>\n",
       "      <td>4</td>\n",
       "    </tr>\n",
       "    <tr>\n",
       "      <th>1</th>\n",
       "      <td>экологическая</td>\n",
       "      <td>I-GRP</td>\n",
       "      <td>1</td>\n",
       "      <td>20293</td>\n",
       "      <td>4</td>\n",
       "    </tr>\n",
       "    <tr>\n",
       "      <th>2</th>\n",
       "      <td>партия</td>\n",
       "      <td>I-GRP</td>\n",
       "      <td>1</td>\n",
       "      <td>15291</td>\n",
       "      <td>4</td>\n",
       "    </tr>\n",
       "    <tr>\n",
       "      <th>3</th>\n",
       "      <td>«зелёные»</td>\n",
       "      <td>I-GRP</td>\n",
       "      <td>1</td>\n",
       "      <td>38551</td>\n",
       "      <td>4</td>\n",
       "    </tr>\n",
       "    <tr>\n",
       "      <th>4</th>\n",
       "      <td>—</td>\n",
       "      <td>O</td>\n",
       "      <td>1</td>\n",
       "      <td>43181</td>\n",
       "      <td>6</td>\n",
       "    </tr>\n",
       "  </tbody>\n",
       "</table>\n",
       "</div>"
      ],
      "text/plain": [
       "           words markers  sentense_num  word_idx  marker_idx\n",
       "0     российская   B-GRP             1      9681           4\n",
       "1  экологическая   I-GRP             1     20293           4\n",
       "2         партия   I-GRP             1     15291           4\n",
       "3      «зелёные»   I-GRP             1     38551           4\n",
       "4              —       O             1     43181           6"
      ]
     },
     "execution_count": 283,
     "metadata": {},
     "output_type": "execute_result"
    }
   ],
   "source": [
    "fdf['word_idx'] = fdf['words'].map(token2idx)\n",
    "fdf['marker_idx'] = fdf['markers'].map(tag2idx)\n",
    "fdf.head()"
   ]
  },
  {
   "cell_type": "code",
   "execution_count": 284,
   "id": "2ac01f17-1de7-4a89-b9d0-e096b7501078",
   "metadata": {},
   "outputs": [
    {
     "name": "stderr",
     "output_type": "stream",
     "text": [
      "C:\\Users\\eka\\AppData\\Local\\Temp/ipykernel_27932/2381050875.py:3: FutureWarning: Indexing with multiple keys (implicitly converted to a tuple of keys) will be deprecated, use a list instead.\n",
      "  data_group = data_fillna.groupby(['sentense_num'],as_index=False)['words', 'markers', 'word_idx', 'marker_idx'].agg(lambda x: list(x))# Visualise data\n"
     ]
    },
    {
     "data": {
      "text/html": [
       "<div>\n",
       "<style scoped>\n",
       "    .dataframe tbody tr th:only-of-type {\n",
       "        vertical-align: middle;\n",
       "    }\n",
       "\n",
       "    .dataframe tbody tr th {\n",
       "        vertical-align: top;\n",
       "    }\n",
       "\n",
       "    .dataframe thead th {\n",
       "        text-align: right;\n",
       "    }\n",
       "</style>\n",
       "<table border=\"1\" class=\"dataframe\">\n",
       "  <thead>\n",
       "    <tr style=\"text-align: right;\">\n",
       "      <th></th>\n",
       "      <th>sentense_num</th>\n",
       "      <th>words</th>\n",
       "      <th>markers</th>\n",
       "      <th>word_idx</th>\n",
       "      <th>marker_idx</th>\n",
       "    </tr>\n",
       "  </thead>\n",
       "  <tbody>\n",
       "    <tr>\n",
       "      <th>0</th>\n",
       "      <td>1</td>\n",
       "      <td>[российская, экологическая, партия, «зелёные»,...</td>\n",
       "      <td>[B-GRP, I-GRP, I-GRP, I-GRP, O, O, O, O, O, O,...</td>\n",
       "      <td>[9681, 20293, 15291, 38551, 43181, 1596, 30737...</td>\n",
       "      <td>[4, 4, 4, 4, 6, 6, 6, 6, 6, 6, 6, 6, 6, 6, 6]</td>\n",
       "    </tr>\n",
       "    <tr>\n",
       "      <th>1</th>\n",
       "      <td>2</td>\n",
       "      <td>[также, посещал, два, семинара, бартольда, кёй...</td>\n",
       "      <td>[O, O, O, O, B-PER, I-PER, O, O, O, B-PER, O, ...</td>\n",
       "      <td>[24008, 47589, 42010, 40044, 31326, 34745, 239...</td>\n",
       "      <td>[6, 6, 6, 6, 1, 1, 6, 6, 6, 1, 6, 1, 6]</td>\n",
       "    </tr>\n",
       "    <tr>\n",
       "      <th>2</th>\n",
       "      <td>3</td>\n",
       "      <td>[в, 1999, —, 2006, играла, за, национальную, с...</td>\n",
       "      <td>[O, O, O, O, O, O, B-GRP, I-GRP, I-GRP, O]</td>\n",
       "      <td>[26415, 3416, 43181, 37240, 37335, 27712, 2989...</td>\n",
       "      <td>[6, 6, 6, 6, 6, 6, 4, 4, 4, 6]</td>\n",
       "    </tr>\n",
       "    <tr>\n",
       "      <th>3</th>\n",
       "      <td>4</td>\n",
       "      <td>[«, джульетта, », —, кинофильм, 2016, года, ис...</td>\n",
       "      <td>[O, B-CW, O, O, O, O, O, O, O, O, O, O, O, O]</td>\n",
       "      <td>[49441, 13541, 3797, 43181, 7570, 32408, 34363...</td>\n",
       "      <td>[6, 5, 6, 6, 6, 6, 6, 6, 6, 6, 6, 6, 6, 6]</td>\n",
       "    </tr>\n",
       "    <tr>\n",
       "      <th>4</th>\n",
       "      <td>5</td>\n",
       "      <td>[мякоть, спелого, плода, съедобна, в, свежем, ...</td>\n",
       "      <td>[O, O, O, O, O, O, O, O, O, O, O, O, O, O, B-P...</td>\n",
       "      <td>[43136, 34860, 13361, 5001, 26415, 29718, 1827...</td>\n",
       "      <td>[6, 6, 6, 6, 6, 6, 6, 6, 6, 6, 6, 6, 6, 6, 3, 6]</td>\n",
       "    </tr>\n",
       "  </tbody>\n",
       "</table>\n",
       "</div>"
      ],
      "text/plain": [
       "   sentense_num                                              words  \\\n",
       "0             1  [российская, экологическая, партия, «зелёные»,...   \n",
       "1             2  [также, посещал, два, семинара, бартольда, кёй...   \n",
       "2             3  [в, 1999, —, 2006, играла, за, национальную, с...   \n",
       "3             4  [«, джульетта, », —, кинофильм, 2016, года, ис...   \n",
       "4             5  [мякоть, спелого, плода, съедобна, в, свежем, ...   \n",
       "\n",
       "                                             markers  \\\n",
       "0  [B-GRP, I-GRP, I-GRP, I-GRP, O, O, O, O, O, O,...   \n",
       "1  [O, O, O, O, B-PER, I-PER, O, O, O, B-PER, O, ...   \n",
       "2         [O, O, O, O, O, O, B-GRP, I-GRP, I-GRP, O]   \n",
       "3      [O, B-CW, O, O, O, O, O, O, O, O, O, O, O, O]   \n",
       "4  [O, O, O, O, O, O, O, O, O, O, O, O, O, O, B-P...   \n",
       "\n",
       "                                            word_idx  \\\n",
       "0  [9681, 20293, 15291, 38551, 43181, 1596, 30737...   \n",
       "1  [24008, 47589, 42010, 40044, 31326, 34745, 239...   \n",
       "2  [26415, 3416, 43181, 37240, 37335, 27712, 2989...   \n",
       "3  [49441, 13541, 3797, 43181, 7570, 32408, 34363...   \n",
       "4  [43136, 34860, 13361, 5001, 26415, 29718, 1827...   \n",
       "\n",
       "                                         marker_idx  \n",
       "0     [4, 4, 4, 4, 6, 6, 6, 6, 6, 6, 6, 6, 6, 6, 6]  \n",
       "1           [6, 6, 6, 6, 1, 1, 6, 6, 6, 1, 6, 1, 6]  \n",
       "2                    [6, 6, 6, 6, 6, 6, 4, 4, 4, 6]  \n",
       "3        [6, 5, 6, 6, 6, 6, 6, 6, 6, 6, 6, 6, 6, 6]  \n",
       "4  [6, 6, 6, 6, 6, 6, 6, 6, 6, 6, 6, 6, 6, 6, 3, 6]  "
      ]
     },
     "execution_count": 284,
     "metadata": {},
     "output_type": "execute_result"
    }
   ],
   "source": [
    "# Fill na\n",
    "data_fillna = fdf.fillna(method='ffill', axis=0)# Groupby and collect columns\n",
    "data_group = data_fillna.groupby(['sentense_num'],as_index=False)['words', 'markers', 'word_idx', 'marker_idx'].agg(lambda x: list(x))# Visualise data\n",
    "data_group.head()"
   ]
  },
  {
   "cell_type": "code",
   "execution_count": 25,
   "id": "39fa39e1-b710-4709-b1b9-5f0614224019",
   "metadata": {},
   "outputs": [],
   "source": [
    "from sklearn.model_selection import train_test_split\n",
    "from tensorflow.keras.preprocessing.sequence import pad_sequences\n",
    "from tensorflow.keras.utils import to_categorical\n",
    "import tensorflow as tf\n",
    "import tensorflow_hub as hub"
   ]
  },
  {
   "cell_type": "code",
   "execution_count": 26,
   "id": "e43b2903-42e3-4097-b205-8901652ce3ed",
   "metadata": {},
   "outputs": [
    {
     "name": "stdout",
     "output_type": "stream",
     "text": [
      "2.7.0\n"
     ]
    }
   ],
   "source": [
    "print(tf.__version__)"
   ]
  },
  {
   "cell_type": "code",
   "execution_count": 27,
   "id": "9c891350-ea43-417c-9bd8-37dbfe4659ea",
   "metadata": {},
   "outputs": [],
   "source": [
    "fmaxlen = max([len(s) for s in data_group['word_idx'].tolist()])"
   ]
  },
  {
   "cell_type": "code",
   "execution_count": 170,
   "id": "617341f6-5825-47fc-b252-ca75af732f84",
   "metadata": {},
   "outputs": [
    {
     "data": {
      "text/plain": [
       "59"
      ]
     },
     "execution_count": 170,
     "metadata": {},
     "output_type": "execute_result"
    }
   ],
   "source": [
    "fmaxlen"
   ]
  },
  {
   "cell_type": "code",
   "execution_count": 285,
   "id": "8e7ed56c-8971-4109-8a69-e75920161719",
   "metadata": {},
   "outputs": [],
   "source": [
    "def get_pad_train_test_val(data_group, data, atag2idx, atoken2idx, maxlen):\n",
    "\n",
    "    #Pad tokens (X var)    \n",
    "    tokens = data_group['word_idx'].tolist()\n",
    "    pad_tokens = pad_sequences(tokens, maxlen=maxlen, dtype='int32', padding='post', value= atoken2idx['<PAD>'])\n",
    "\n",
    "    #Pad Tags (y var) and convert it into one hot encoding\n",
    "    tags = data_group['marker_idx'].tolist()\n",
    "    pad_tags = pad_sequences(tags, maxlen=maxlen, dtype='int32', padding='post', value= atag2idx['<PAD>'])\n",
    "    n_tags = len(set(tag2idx.values()))\n",
    "    pad_tags = [to_categorical(i, num_classes=n_tags) for i in pad_tags]\n",
    "    \n",
    "    return pad_tokens, pad_tags"
   ]
  },
  {
   "cell_type": "code",
   "execution_count": 286,
   "id": "1ed731ca-e41f-4bc5-954e-f2df405280e0",
   "metadata": {},
   "outputs": [],
   "source": [
    "X, y = get_pad_train_test_val(data_group, fdf, tag2idx, token2idx, fmaxlen)"
   ]
  },
  {
   "cell_type": "code",
   "execution_count": 287,
   "id": "604d37c9-7d86-492a-b5c2-3d558ccdc006",
   "metadata": {},
   "outputs": [
    {
     "name": "stdout",
     "output_type": "stream",
     "text": [
      "train_tokens length: 12240 \n",
      "train_tags length: 12240 \n",
      "val_tokens: 3060 \n",
      "val_tags: 3060\n"
     ]
    }
   ],
   "source": [
    "#Split train and validation if atrain:\n",
    "train_tokens, val_tokens, train_tags, val_tags = train_test_split(X, y, test_size = 0.2,train_size =0.8, random_state=2020)\n",
    "print(\n",
    "        'train_tokens length:', len(train_tokens),\n",
    "        '\\ntrain_tags length:', len(train_tags),\n",
    "        '\\nval_tokens:', len(val_tokens),\n",
    "        '\\nval_tags:', len(val_tags),\n",
    "    )"
   ]
  },
  {
   "cell_type": "markdown",
   "id": "4bedcd05-5437-4061-a410-52aeb95e0fd0",
   "metadata": {},
   "source": [
    "**Тестовый датасет**"
   ]
  },
  {
   "cell_type": "code",
   "execution_count": 288,
   "id": "517a3d14-2cf1-48fd-b5a4-40f92376dbc7",
   "metadata": {},
   "outputs": [
    {
     "data": {
      "text/html": [
       "<div>\n",
       "<style scoped>\n",
       "    .dataframe tbody tr th:only-of-type {\n",
       "        vertical-align: middle;\n",
       "    }\n",
       "\n",
       "    .dataframe tbody tr th {\n",
       "        vertical-align: top;\n",
       "    }\n",
       "\n",
       "    .dataframe thead th {\n",
       "        text-align: right;\n",
       "    }\n",
       "</style>\n",
       "<table border=\"1\" class=\"dataframe\">\n",
       "  <thead>\n",
       "    <tr style=\"text-align: right;\">\n",
       "      <th></th>\n",
       "      <th>words</th>\n",
       "      <th>markers</th>\n",
       "      <th>sentense_num</th>\n",
       "      <th>word_idx</th>\n",
       "      <th>marker_idx</th>\n",
       "    </tr>\n",
       "  </thead>\n",
       "  <tbody>\n",
       "    <tr>\n",
       "      <th>0</th>\n",
       "      <td>важным</td>\n",
       "      <td>O</td>\n",
       "      <td>1</td>\n",
       "      <td>31252.0</td>\n",
       "      <td>6</td>\n",
       "    </tr>\n",
       "    <tr>\n",
       "      <th>1</th>\n",
       "      <td>традиционным</td>\n",
       "      <td>O</td>\n",
       "      <td>1</td>\n",
       "      <td>35479.0</td>\n",
       "      <td>6</td>\n",
       "    </tr>\n",
       "    <tr>\n",
       "      <th>2</th>\n",
       "      <td>промыслом</td>\n",
       "      <td>O</td>\n",
       "      <td>1</td>\n",
       "      <td>NaN</td>\n",
       "      <td>6</td>\n",
       "    </tr>\n",
       "    <tr>\n",
       "      <th>3</th>\n",
       "      <td>является</td>\n",
       "      <td>O</td>\n",
       "      <td>1</td>\n",
       "      <td>49499.0</td>\n",
       "      <td>6</td>\n",
       "    </tr>\n",
       "    <tr>\n",
       "      <th>4</th>\n",
       "      <td>производство</td>\n",
       "      <td>O</td>\n",
       "      <td>1</td>\n",
       "      <td>42625.0</td>\n",
       "      <td>6</td>\n",
       "    </tr>\n",
       "  </tbody>\n",
       "</table>\n",
       "</div>"
      ],
      "text/plain": [
       "          words markers  sentense_num  word_idx  marker_idx\n",
       "0        важным       O             1   31252.0           6\n",
       "1  традиционным       O             1   35479.0           6\n",
       "2     промыслом       O             1       NaN           6\n",
       "3      является       O             1   49499.0           6\n",
       "4  производство       O             1   42625.0           6"
      ]
     },
     "execution_count": 288,
     "metadata": {},
     "output_type": "execute_result"
    }
   ],
   "source": [
    "fdf_test['word_idx'] = fdf_test['words'].map(token2idx)\n",
    "fdf_test['marker_idx'] = fdf_test['markers'].map(tag2idx)\n",
    "fdf_test.head()"
   ]
  },
  {
   "cell_type": "code",
   "execution_count": 289,
   "id": "bb1a7c2c-e75b-4404-a753-7fe88c8ef72b",
   "metadata": {},
   "outputs": [
    {
     "name": "stderr",
     "output_type": "stream",
     "text": [
      "C:\\Users\\eka\\AppData\\Local\\Temp/ipykernel_27932/1157314373.py:3: FutureWarning: Indexing with multiple keys (implicitly converted to a tuple of keys) will be deprecated, use a list instead.\n",
      "  data_group_test = data_fillna.groupby(['sentense_num'],as_index=False)['words', 'markers', 'word_idx', 'marker_idx'].agg(lambda x: list(x))# Visualise data\n"
     ]
    },
    {
     "data": {
      "text/html": [
       "<div>\n",
       "<style scoped>\n",
       "    .dataframe tbody tr th:only-of-type {\n",
       "        vertical-align: middle;\n",
       "    }\n",
       "\n",
       "    .dataframe tbody tr th {\n",
       "        vertical-align: top;\n",
       "    }\n",
       "\n",
       "    .dataframe thead th {\n",
       "        text-align: right;\n",
       "    }\n",
       "</style>\n",
       "<table border=\"1\" class=\"dataframe\">\n",
       "  <thead>\n",
       "    <tr style=\"text-align: right;\">\n",
       "      <th></th>\n",
       "      <th>sentense_num</th>\n",
       "      <th>words</th>\n",
       "      <th>markers</th>\n",
       "      <th>word_idx</th>\n",
       "      <th>marker_idx</th>\n",
       "    </tr>\n",
       "  </thead>\n",
       "  <tbody>\n",
       "    <tr>\n",
       "      <th>0</th>\n",
       "      <td>1</td>\n",
       "      <td>[важным, традиционным, промыслом, является, пр...</td>\n",
       "      <td>[O, O, O, O, O, B-PROD, I-PROD, O]</td>\n",
       "      <td>[31252.0, 35479.0, 52566.0, 49499.0, 42625.0, ...</td>\n",
       "      <td>[6, 6, 6, 6, 6, 3, 3, 6]</td>\n",
       "    </tr>\n",
       "    <tr>\n",
       "      <th>1</th>\n",
       "      <td>2</td>\n",
       "      <td>[он, вышел, в, нескольких, томах, между, 1838,...</td>\n",
       "      <td>[O, O, O, O, O, O, O, O, O, O, O, O, O, O, O, ...</td>\n",
       "      <td>[51862.0, 24118.0, 26415.0, 43575.0, 8661.0, 2...</td>\n",
       "      <td>[6, 6, 6, 6, 6, 6, 6, 6, 6, 6, 6, 6, 6, 6, 6, ...</td>\n",
       "    </tr>\n",
       "    <tr>\n",
       "      <th>2</th>\n",
       "      <td>3</td>\n",
       "      <td>[специальный, агент, секретной, службы, сша, д...</td>\n",
       "      <td>[O, O, B-GRP, I-GRP, I-GRP, O, O, O, O, O, O, ...</td>\n",
       "      <td>[20266.0, 327.0, 50907.0, 30058.0, 26699.0, 52...</td>\n",
       "      <td>[6, 6, 4, 4, 4, 6, 6, 6, 6, 6, 6, 6, 6, 6, 6, ...</td>\n",
       "    </tr>\n",
       "    <tr>\n",
       "      <th>3</th>\n",
       "      <td>4</td>\n",
       "      <td>[несколько, ценных, замечаний, по, теме, прина...</td>\n",
       "      <td>[O, O, O, O, O, O, B-PER, I-PER, O, O, O, O, O...</td>\n",
       "      <td>[50500.0, 14166.0, 52566.0, 23953.0, 20153.0, ...</td>\n",
       "      <td>[6, 6, 6, 6, 6, 6, 1, 1, 6, 6, 6, 6, 6, 5, 6, ...</td>\n",
       "    </tr>\n",
       "    <tr>\n",
       "      <th>4</th>\n",
       "      <td>5</td>\n",
       "      <td>[в, 2007, году, было, подписано, соглашение, с...</td>\n",
       "      <td>[O, O, O, O, O, O, O, O, B-CORP, I-CORP, O]</td>\n",
       "      <td>[26415.0, 51752.0, 8051.0, 48100.0, 31282.0, 4...</td>\n",
       "      <td>[6, 6, 6, 6, 6, 6, 6, 6, 2, 2, 6]</td>\n",
       "    </tr>\n",
       "  </tbody>\n",
       "</table>\n",
       "</div>"
      ],
      "text/plain": [
       "   sentense_num                                              words  \\\n",
       "0             1  [важным, традиционным, промыслом, является, пр...   \n",
       "1             2  [он, вышел, в, нескольких, томах, между, 1838,...   \n",
       "2             3  [специальный, агент, секретной, службы, сша, д...   \n",
       "3             4  [несколько, ценных, замечаний, по, теме, прина...   \n",
       "4             5  [в, 2007, году, было, подписано, соглашение, с...   \n",
       "\n",
       "                                             markers  \\\n",
       "0                 [O, O, O, O, O, B-PROD, I-PROD, O]   \n",
       "1  [O, O, O, O, O, O, O, O, O, O, O, O, O, O, O, ...   \n",
       "2  [O, O, B-GRP, I-GRP, I-GRP, O, O, O, O, O, O, ...   \n",
       "3  [O, O, O, O, O, O, B-PER, I-PER, O, O, O, O, O...   \n",
       "4        [O, O, O, O, O, O, O, O, B-CORP, I-CORP, O]   \n",
       "\n",
       "                                            word_idx  \\\n",
       "0  [31252.0, 35479.0, 52566.0, 49499.0, 42625.0, ...   \n",
       "1  [51862.0, 24118.0, 26415.0, 43575.0, 8661.0, 2...   \n",
       "2  [20266.0, 327.0, 50907.0, 30058.0, 26699.0, 52...   \n",
       "3  [50500.0, 14166.0, 52566.0, 23953.0, 20153.0, ...   \n",
       "4  [26415.0, 51752.0, 8051.0, 48100.0, 31282.0, 4...   \n",
       "\n",
       "                                          marker_idx  \n",
       "0                           [6, 6, 6, 6, 6, 3, 3, 6]  \n",
       "1  [6, 6, 6, 6, 6, 6, 6, 6, 6, 6, 6, 6, 6, 6, 6, ...  \n",
       "2  [6, 6, 4, 4, 4, 6, 6, 6, 6, 6, 6, 6, 6, 6, 6, ...  \n",
       "3  [6, 6, 6, 6, 6, 6, 1, 1, 6, 6, 6, 6, 6, 5, 6, ...  \n",
       "4                  [6, 6, 6, 6, 6, 6, 6, 6, 2, 2, 6]  "
      ]
     },
     "execution_count": 289,
     "metadata": {},
     "output_type": "execute_result"
    }
   ],
   "source": [
    "# Fill na\n",
    "data_fillna = fdf_test.fillna(value = token2idx['<UNKNOWN>'], axis=0)# Groupby and collect columns\n",
    "data_group_test = data_fillna.groupby(['sentense_num'],as_index=False)['words', 'markers', 'word_idx', 'marker_idx'].agg(lambda x: list(x))# Visualise data\n",
    "data_group_test.head()"
   ]
  },
  {
   "cell_type": "code",
   "execution_count": 290,
   "id": "c48083ce-c523-4d00-b5dc-3645a6d6dc66",
   "metadata": {},
   "outputs": [],
   "source": [
    "test_tokens, test_tags = get_pad_train_test_val(data_group_test, fdf_test, tag2idx, token2idx, fmaxlen)"
   ]
  },
  {
   "cell_type": "code",
   "execution_count": 61,
   "id": "260f1b91-fd89-4694-a2d0-1fbc77de58e6",
   "metadata": {},
   "outputs": [],
   "source": [
    "import numpy as np\n",
    "import tensorflow\n",
    "from tensorflow.keras import Sequential, Model, Input\n",
    "from tensorflow.keras.layers import LSTM, Embedding, Dense, TimeDistributed, Dropout, Bidirectional, Lambda\n",
    "from tensorflow.keras.utils import plot_model"
   ]
  },
  {
   "cell_type": "code",
   "execution_count": 35,
   "id": "f2101ee9-35a3-40a2-9eaf-475ff86a8db4",
   "metadata": {},
   "outputs": [],
   "source": [
    "from numpy.random import seed\n",
    "seed(1)\n",
    "tensorflow.random.set_seed(2)"
   ]
  },
  {
   "cell_type": "code",
   "execution_count": 291,
   "id": "9f13341e-a83f-4944-b72e-7b0066e6ff97",
   "metadata": {},
   "outputs": [
    {
     "name": "stdout",
     "output_type": "stream",
     "text": [
      "input_dim:  52568 \n",
      "output_dim:  300 \n",
      "input_length:  59 \n",
      "n_tags:  8\n"
     ]
    }
   ],
   "source": [
    "input_dim = len(set(fdf['words'].to_list()))+2\n",
    "output_dim = 300\n",
    "input_length = max([len(s) for s in data_group['word_idx'].tolist()])\n",
    "n_tags = len(idx2tag)\n",
    "print('input_dim: ', input_dim, '\\noutput_dim: ', output_dim, '\\ninput_length: ', input_length, '\\nn_tags: ', n_tags)"
   ]
  },
  {
   "cell_type": "code",
   "execution_count": 292,
   "id": "e8facc39-c302-47ca-b004-f149a61a03e4",
   "metadata": {},
   "outputs": [],
   "source": [
    "nlp = spacy.load(\"ru_core_news_lg\")"
   ]
  },
  {
   "cell_type": "code",
   "execution_count": 293,
   "id": "93324829-7a7a-4b52-84e7-3af6909c9715",
   "metadata": {},
   "outputs": [
    {
     "name": "stderr",
     "output_type": "stream",
     "text": [
      "100%|█████████████████████████████████████████████████████████████████████████████████████████| 52568/52568 [04:49<00:00, 181.54it/s]\n"
     ]
    }
   ],
   "source": [
    "embedding_matrix = np.zeros((input_dim, output_dim))\n",
    "for word, i in tqdm(token2idx.items()):\n",
    "    for doc in nlp.pipe(word, disable=[\"tagger\", \"parser\", \"attribute_ruler\", \"lemmatizer\", \"ner\"]):\n",
    "        if doc[0].vector is not None:\n",
    "            # words not found in embedding index will be all-zeros.\n",
    "            embedding_matrix[i] = doc[0].vector"
   ]
  },
  {
   "cell_type": "code",
   "execution_count": 115,
   "id": "3b109629-02f6-4c1a-a250-3821451e54a8",
   "metadata": {},
   "outputs": [],
   "source": [
    "def get_bilstm_lstm_model(alr):\n",
    "    model = Sequential()\n",
    "\n",
    "    # Add Embedding layer\n",
    "    model.add(Embedding(input_dim=input_dim, output_dim=output_dim, input_length=input_length, weights = [embedding_matrix]))\n",
    "\n",
    "    # Add bidirectional LSTM\n",
    "    model.add(Bidirectional(LSTM(units=output_dim, return_sequences=True, dropout=0.9), merge_mode = 'concat')) #, recurrent_dropout=0.2\n",
    "\n",
    "    # Add LSTM\n",
    "    #model.add(LSTM(units=output_dim, return_sequences=True, dropout=0.5, recurrent_dropout=0.5))\n",
    "\n",
    "    # Add timeDistributed Layer\n",
    "    model.add(TimeDistributed(Dense(n_tags, activation=\"softmax\")))\n",
    "\n",
    "    #Optimiser \n",
    "    # adam = k.optimizers.Adam(lr=0.0005, beta_1=0.9, beta_2=0.999)\n",
    "    loptimizer = tensorflow.keras.optimizers.Adam(learning_rate=alr)\n",
    "\n",
    "    # Compile model\n",
    "    model.compile(loss='categorical_crossentropy', optimizer=loptimizer, metrics=['accuracy'])\n",
    "    model.summary()\n",
    "    \n",
    "    return model"
   ]
  },
  {
   "cell_type": "code",
   "execution_count": 116,
   "id": "cb6fbb6e-9b12-45fd-a647-de37240fa62e",
   "metadata": {},
   "outputs": [],
   "source": [
    "def plot_loss_acc(model_name, history, gparams):\n",
    "    loss_values = history.history['loss']\n",
    "    val_loss_values = history.history['val_loss']\n",
    "    acc_values = history.history['accuracy']\n",
    "    val_acc_values = history.history['val_accuracy']\n",
    "    epochs = range(1, len(loss_values)+1)\n",
    "    \n",
    "    plt.figure(figsize=(12,7))\n",
    "    plt.subplot(121)\n",
    "    plt.title(model_name + gparams)\n",
    "    plt.plot(epochs, loss_values, label='Training Loss')\n",
    "    plt.plot(epochs, val_loss_values, label='Validation Loss')\n",
    "    plt.xlabel('Epochs')\n",
    "    plt.ylabel('Loss')\n",
    "    plt.legend()\n",
    "    \n",
    "    plt.subplot(122)\n",
    "    plt.title(model_name + gparams)\n",
    "    plt.plot(epochs, acc_values, label='Accuracy')\n",
    "    plt.plot(epochs, val_acc_values, label='Validation Accuracy')\n",
    "    plt.xlabel('Epochs')\n",
    "    plt.ylabel('Accuracy')\n",
    "    plt.legend()\n",
    "    \n",
    "    plt.show()"
   ]
  },
  {
   "cell_type": "code",
   "execution_count": 294,
   "id": "1a11d6e5-f224-4fce-a5bb-8873bfbdc405",
   "metadata": {},
   "outputs": [
    {
     "data": {
      "text/plain": [
       "(12240, 59, 8)"
      ]
     },
     "execution_count": 294,
     "metadata": {},
     "output_type": "execute_result"
    }
   ],
   "source": [
    "np.array(train_tags).shape"
   ]
  },
  {
   "cell_type": "code",
   "execution_count": 295,
   "id": "b4b8f015-aab7-49a9-a84b-b63bd9ee6202",
   "metadata": {},
   "outputs": [
    {
     "name": "stdout",
     "output_type": "stream",
     "text": [
      "Model: \"sequential_5\"\n",
      "_________________________________________________________________\n",
      " Layer (type)                Output Shape              Param #   \n",
      "=================================================================\n",
      " embedding_5 (Embedding)     (None, 59, 300)           15770400  \n",
      "                                                                 \n",
      " bidirectional_3 (Bidirectio  (None, 59, 600)          1442400   \n",
      " nal)                                                            \n",
      "                                                                 \n",
      " time_distributed_3 (TimeDis  (None, 59, 8)            4808      \n",
      " tributed)                                                       \n",
      "                                                                 \n",
      "=================================================================\n",
      "Total params: 17,217,608\n",
      "Trainable params: 17,217,608\n",
      "Non-trainable params: 0\n",
      "_________________________________________________________________\n",
      "Epoch 1/20\n",
      "153/153 [==============================] - 216s 1s/step - loss: 0.2382 - accuracy: 0.9507 - val_loss: 0.1481 - val_accuracy: 0.9623\n",
      "Epoch 2/20\n",
      "153/153 [==============================] - 211s 1s/step - loss: 0.1399 - accuracy: 0.9640 - val_loss: 0.1314 - val_accuracy: 0.9637\n",
      "Epoch 3/20\n",
      "153/153 [==============================] - 265s 2s/step - loss: 0.1250 - accuracy: 0.9656 - val_loss: 0.1175 - val_accuracy: 0.9656\n",
      "Epoch 4/20\n",
      "153/153 [==============================] - 262s 2s/step - loss: 0.1133 - accuracy: 0.9673 - val_loss: 0.1090 - val_accuracy: 0.9675\n",
      "Epoch 5/20\n",
      "153/153 [==============================] - 262s 2s/step - loss: 0.1053 - accuracy: 0.9689 - val_loss: 0.1025 - val_accuracy: 0.9684\n",
      "Epoch 6/20\n",
      "153/153 [==============================] - 220s 1s/step - loss: 0.0981 - accuracy: 0.9702 - val_loss: 0.0959 - val_accuracy: 0.9702\n",
      "Epoch 7/20\n",
      "153/153 [==============================] - 242s 2s/step - loss: 0.0920 - accuracy: 0.9719 - val_loss: 0.0934 - val_accuracy: 0.9709\n",
      "Epoch 8/20\n",
      "153/153 [==============================] - 273s 2s/step - loss: 0.0856 - accuracy: 0.9736 - val_loss: 0.0924 - val_accuracy: 0.9716\n",
      "Epoch 9/20\n",
      "153/153 [==============================] - 265s 2s/step - loss: 0.0809 - accuracy: 0.9748 - val_loss: 0.0876 - val_accuracy: 0.9728\n",
      "Epoch 10/20\n",
      "153/153 [==============================] - 228s 1s/step - loss: 0.0760 - accuracy: 0.9761 - val_loss: 0.0861 - val_accuracy: 0.9735\n",
      "Epoch 11/20\n",
      "153/153 [==============================] - 239s 2s/step - loss: 0.0714 - accuracy: 0.9775 - val_loss: 0.0844 - val_accuracy: 0.9738\n",
      "Epoch 12/20\n",
      "153/153 [==============================] - 223s 1s/step - loss: 0.0672 - accuracy: 0.9788 - val_loss: 0.0837 - val_accuracy: 0.9749\n",
      "Epoch 13/20\n",
      "153/153 [==============================] - 222s 1s/step - loss: 0.0632 - accuracy: 0.9800 - val_loss: 0.0829 - val_accuracy: 0.9749\n",
      "Epoch 14/20\n",
      "153/153 [==============================] - 221s 1s/step - loss: 0.0590 - accuracy: 0.9812 - val_loss: 0.0827 - val_accuracy: 0.9754\n",
      "Epoch 15/20\n",
      "153/153 [==============================] - 228s 1s/step - loss: 0.0556 - accuracy: 0.9821 - val_loss: 0.0813 - val_accuracy: 0.9755\n",
      "Epoch 16/20\n",
      "153/153 [==============================] - 222s 1s/step - loss: 0.0523 - accuracy: 0.9831 - val_loss: 0.0789 - val_accuracy: 0.9763\n",
      "Epoch 17/20\n",
      "153/153 [==============================] - 222s 1s/step - loss: 0.0496 - accuracy: 0.9841 - val_loss: 0.0799 - val_accuracy: 0.9764\n",
      "Epoch 18/20\n",
      "153/153 [==============================] - 229s 1s/step - loss: 0.0465 - accuracy: 0.9850 - val_loss: 0.0799 - val_accuracy: 0.9766\n",
      "Epoch 19/20\n",
      "153/153 [==============================] - 230s 2s/step - loss: 0.0446 - accuracy: 0.9856 - val_loss: 0.0811 - val_accuracy: 0.9764\n",
      "Epoch 20/20\n",
      "153/153 [==============================] - 230s 2s/step - loss: 0.0419 - accuracy: 0.9865 - val_loss: 0.0797 - val_accuracy: 0.9769\n"
     ]
    },
    {
     "data": {
      "image/png": "[encoded data removed]",
      "text/plain": [
       "<Figure size 864x504 with 2 Axes>"
      ]
     },
     "metadata": {
      "needs_background": "light"
     },
     "output_type": "display_data"
    }
   ],
   "source": [
    "fbatch_size = 64\n",
    "fepochs = 20\n",
    "fvalidation_split = 0.2\n",
    "flearning_rate = 0.001\n",
    "model_bilstm_lstm = get_bilstm_lstm_model(flearning_rate)\n",
    "hist = model_bilstm_lstm.fit(train_tokens, np.array(train_tags), batch_size=fbatch_size, verbose=1, epochs=fepochs, validation_split=fvalidation_split)\n",
    "plot_loss_acc('Bidirectional LSTM', hist, ' lr = ' + str(flearning_rate) + ', batch size = ' + str(fbatch_size))"
   ]
  },
  {
   "cell_type": "code",
   "execution_count": 166,
   "id": "f6387761-460c-4b39-8967-cbd81af31f48",
   "metadata": {},
   "outputs": [],
   "source": [
    "fepochs = 9999"
   ]
  },
  {
   "cell_type": "code",
   "execution_count": 167,
   "id": "a412195b-6fa6-40dc-8743-87d5cd8e66d8",
   "metadata": {},
   "outputs": [
    {
     "name": "stdout",
     "output_type": "stream",
     "text": [
      "Epoch 1/9999\n",
      "153/153 [==============================] - 196s 1s/step - loss: 0.0406 - accuracy: 0.9868 - val_loss: 0.0817 - val_accuracy: 0.9773\n",
      "Epoch 2/9999\n",
      "153/153 [==============================] - 198s 1s/step - loss: 0.0386 - accuracy: 0.9875 - val_loss: 0.0817 - val_accuracy: 0.9773\n",
      "Epoch 3/9999\n",
      "153/153 [==============================] - 200s 1s/step - loss: 0.0365 - accuracy: 0.9881 - val_loss: 0.0817 - val_accuracy: 0.9773\n",
      "Epoch 4/9999\n",
      "153/153 [==============================] - 197s 1s/step - loss: 0.0345 - accuracy: 0.9886 - val_loss: 0.0817 - val_accuracy: 0.9776\n",
      "Epoch 5/9999\n",
      "153/153 [==============================] - 197s 1s/step - loss: 0.0332 - accuracy: 0.9891 - val_loss: 0.0835 - val_accuracy: 0.9775\n",
      "Epoch 6/9999\n",
      "153/153 [==============================] - 195s 1s/step - loss: 0.0316 - accuracy: 0.9897 - val_loss: 0.0832 - val_accuracy: 0.9772\n",
      "Epoch 7/9999\n",
      "153/153 [==============================] - 198s 1s/step - loss: 0.0300 - accuracy: 0.9901 - val_loss: 0.0836 - val_accuracy: 0.9776\n"
     ]
    },
    {
     "data": {
      "image/png": "[encoded data removed]",
      "text/plain": [
       "<Figure size 864x504 with 2 Axes>"
      ]
     },
     "metadata": {
      "needs_background": "light"
     },
     "output_type": "display_data"
    }
   ],
   "source": [
    "callback = tf.keras.callbacks.EarlyStopping(monitor='val_loss', patience=5)\n",
    "hist = model_bilstm_lstm.fit(train_tokens, np.array(train_tags), batch_size=fbatch_size, verbose=1, epochs=fepochs, validation_split=fvalidation_split, callbacks=[callback])\n",
    "plot_loss_acc('Bidirectional LSTM', hist, ' lr = ' + str(flearning_rate) + ', batch size = ' + str(fbatch_size))"
   ]
  },
  {
   "cell_type": "code",
   "execution_count": 169,
   "id": "122c630c-09b1-4196-a77b-69a8163acfb9",
   "metadata": {},
   "outputs": [],
   "source": [
    "model_bilstm_lstm.save('z:\\\\ИТЦ ФАС\\\\Обучение\\\\Innopolis Data Science\\\\From Linux\\\\innopolis\\\\DZ_diplom\\\\model_bilstm_lstm.h5', save_format = 'h5', include_optimizer=True)"
   ]
  },
  {
   "cell_type": "code",
   "execution_count": 143,
   "id": "4f9db755-51a7-43f0-85bb-0da11bedd4f0",
   "metadata": {
    "tags": []
   },
   "outputs": [
    {
     "name": "stdout",
     "output_type": "stream",
     "text": [
      "96/96 [==============================] - 26s 270ms/step - loss: 0.0791 - accuracy: 0.9768\n",
      "Test score: 0.07912860810756683\n",
      "Test accuracy: 0.9768306016921997\n"
     ]
    }
   ],
   "source": [
    "score = model_bilstm_lstm.evaluate(val_tokens, np.array(val_tags))\n",
    "print('Test score:', score[0])\n",
    "print('Test accuracy:', score[1])"
   ]
  },
  {
   "cell_type": "code",
   "execution_count": 144,
   "id": "4d10a9da-e748-4dce-982b-3db0ff8d85fb",
   "metadata": {},
   "outputs": [
    {
     "data": {
      "text/plain": [
       "(800, 59)"
      ]
     },
     "execution_count": 144,
     "metadata": {},
     "output_type": "execute_result"
    }
   ],
   "source": [
    "np.array(test_tokens).shape"
   ]
  },
  {
   "cell_type": "code",
   "execution_count": 145,
   "id": "fd479d33-8623-409d-8512-4c6988688e75",
   "metadata": {},
   "outputs": [
    {
     "data": {
      "text/plain": [
       "(3060, 59)"
      ]
     },
     "execution_count": 145,
     "metadata": {},
     "output_type": "execute_result"
    }
   ],
   "source": [
    "np.array(val_tokens).shape"
   ]
  },
  {
   "cell_type": "code",
   "execution_count": 146,
   "id": "007a1aac-505e-41c9-af25-02fde97f1fd1",
   "metadata": {
    "tags": []
   },
   "outputs": [
    {
     "name": "stdout",
     "output_type": "stream",
     "text": [
      "25/25 [==============================] - 8s 282ms/step - loss: 0.0943 - accuracy: 0.9744\n",
      "Test score: 0.09428895264863968\n",
      "Test accuracy: 0.9744279384613037\n"
     ]
    }
   ],
   "source": [
    "score = model_bilstm_lstm.evaluate(test_tokens, np.array(test_tags))\n",
    "print('Test score:', score[0])\n",
    "print('Test accuracy:', score[1])"
   ]
  },
  {
   "cell_type": "code",
   "execution_count": 313,
   "id": "853b4cdd-bb9f-4248-8d93-1b497fb637ba",
   "metadata": {},
   "outputs": [],
   "source": [
    "y_pred = model_bilstm_lstm.predict(test_tokens)"
   ]
  },
  {
   "cell_type": "code",
   "execution_count": 269,
   "id": "15bcb7ea-5768-437f-a5d7-c09524a25fd3",
   "metadata": {},
   "outputs": [],
   "source": [
    "def onehot2arr(ay):\n",
    "    llist = []\n",
    "    for sent in ay:\n",
    "        llist = llist + np.argmax(sent, axis = 1).tolist()\n",
    "    #llist = list(filter(lambda x: x!=7, llist))\n",
    "    return np.array(llist)"
   ]
  },
  {
   "cell_type": "code",
   "execution_count": 297,
   "id": "5828f6a2-df13-4075-9c72-2cec862ffce1",
   "metadata": {},
   "outputs": [
    {
     "data": {
      "text/plain": [
       "0.9731779661016949"
      ]
     },
     "execution_count": 297,
     "metadata": {},
     "output_type": "execute_result"
    }
   ],
   "source": [
    "accuracy_score(onehot2arr(y_pred), onehot2arr(test_tags))"
   ]
  },
  {
   "cell_type": "code",
   "execution_count": 150,
   "id": "7ae4d4af-a776-42e0-8547-51e381ebc0ac",
   "metadata": {},
   "outputs": [],
   "source": [
    "def onehot2sent(apred, atest):\n",
    "    llist = []\n",
    "    for i in range(len(apred)):\n",
    "        llist.append(all(np.argmax(atest[i], axis = 1) == np.argmax(apred[i], axis = 1)))\n",
    "    return llist"
   ]
  },
  {
   "cell_type": "code",
   "execution_count": 272,
   "id": "9f8edb3a-7890-46f3-84d9-6b70243a0312",
   "metadata": {},
   "outputs": [
    {
     "data": {
      "text/plain": [
       "['LOC', 'PER', 'CORP', 'PROD', 'GRP', 'CW', 'O', '<PAD>']"
      ]
     },
     "execution_count": 272,
     "metadata": {},
     "output_type": "execute_result"
    }
   ],
   "source": [
    "list(filter(lambda x: x!='<UNKNOWN>', idx2tag.values()))"
   ]
  },
  {
   "cell_type": "code",
   "execution_count": 316,
   "id": "3b07df90-4668-48fd-85b8-4d672952c17a",
   "metadata": {},
   "outputs": [
    {
     "data": {
      "image/png": "[encoded data removed]",
      "text/plain": [
       "<Figure size 1440x1440 with 2 Axes>"
      ]
     },
     "metadata": {
      "needs_background": "light"
     },
     "output_type": "display_data"
    }
   ],
   "source": [
    "cm = confusion_matrix(onehot2arr(test_tags), onehot2arr(y_pred), labels=list(idx2tag.keys()))\n",
    "cmn = cm.astype('float') / cm.sum(axis=1)[:, np.newaxis]\n",
    "disp = ConfusionMatrixDisplay(confusion_matrix=cmn, \n",
    "                               display_labels=list(idx2tag.values()))\n",
    "fig, ax = plt.subplots(figsize=(20, 20))\n",
    "disp.plot(ax=ax)\n",
    "plt.show()"
   ]
  },
  {
   "cell_type": "code",
   "execution_count": 315,
   "id": "20a97e2b-6072-46e8-aebc-4b1259442b08",
   "metadata": {},
   "outputs": [
    {
     "name": "stdout",
     "output_type": "stream",
     "text": [
      "              precision    recall  f1-score   support\n",
      "\n",
      "         LOC       0.55      0.32      0.41       253\n",
      "         PER       0.74      0.47      0.58       386\n",
      "        CORP       0.70      0.55      0.62       280\n",
      "        PROD       0.39      0.50      0.44       207\n",
      "         GRP       0.63      0.59      0.61       293\n",
      "          CW       0.59      0.62      0.60       348\n",
      "           O       0.94      0.96      0.95     11020\n",
      "       <PAD>       1.00      1.00      1.00     34413\n",
      "\n",
      "    accuracy                           0.97     47200\n",
      "   macro avg       0.69      0.63      0.65     47200\n",
      "weighted avg       0.97      0.97      0.97     47200\n",
      "\n"
     ]
    }
   ],
   "source": [
    "print(classification_report(onehot2arr(test_tags), onehot2arr(y_pred), labels = list(idx2tag.keys()), target_names=list(idx2tag.values())))"
   ]
  },
  {
   "cell_type": "code",
   "execution_count": 300,
   "id": "9ab044ba-0c20-4ab7-9e9c-beb5e7590ede",
   "metadata": {},
   "outputs": [],
   "source": [
    "lsent = onehot2sent(y_pred, test_tags)"
   ]
  },
  {
   "cell_type": "code",
   "execution_count": 301,
   "id": "71a24d06-0d91-41dd-9b37-5086b103a489",
   "metadata": {},
   "outputs": [
    {
     "name": "stdout",
     "output_type": "stream",
     "text": [
      "226 800 28.249999999999996\n"
     ]
    }
   ],
   "source": [
    "print(len(list(filter(lambda x: x==True, lsent))), len(lsent), len(list(filter(lambda x: x==True, lsent)))/len(lsent)*100)"
   ]
  },
  {
   "cell_type": "code",
   "execution_count": 212,
   "id": "6f3c1613-969e-4ad1-86b7-71fe6c46d055",
   "metadata": {},
   "outputs": [
    {
     "data": {
      "text/plain": [
       "800"
      ]
     },
     "execution_count": 212,
     "metadata": {},
     "output_type": "execute_result"
    }
   ],
   "source": [
    "len(lsent)"
   ]
  },
  {
   "cell_type": "code",
   "execution_count": 213,
   "id": "cfef711e-9841-4488-9f38-deb4cb463684",
   "metadata": {
    "collapsed": true,
    "jupyter": {
     "outputs_hidden": true
    },
    "tags": []
   },
   "outputs": [
    {
     "name": "stdout",
     "output_type": "stream",
     "text": [
      "важным традиционным промыслом является производство пальмового масла .\n",
      "O O O O O B-PROD I-PROD O\n",
      "в 2007 году было подписано соглашение с компанией red bull .\n",
      "O O O O O O O O B-CORP I-CORP O\n",
      "оператором месторождения является компания woodside petroleum .\n",
      "O O O O B-CORP I-CORP O\n",
      "• клэр фой — « корона » ( за роль елизаветы ii )\n",
      "O B-PER I-PER O O B-CW O O O O B-PER I-PER O\n",
      "« шесть » — фильм 2004 года , рассказывающий о последних днях перед армагеддоном и диктаторе антихристе .\n",
      "O B-CW O O O O O O O O O O O O O O O O\n",
      "в 1801 — 1803 годах мария жила в париж , где копировала картины старых мастеров в лувр для последующего их использования в преподавании в англии .\n",
      "O O O O O O O O B-LOC O O O O O O O B-LOC O O O O O O O O O\n",
      "• рут гордон — « гарольд и мод » ( за роль мод )\n",
      "O B-PER I-PER O O B-CW I-CW I-CW O O O O O O\n",
      "с 2009 года наставник работает в системе кайрата .\n",
      "O O O O O O O B-GRP O\n",
      "первоначально являлся армейским вариантом mitsubishi jeep .\n",
      "O O O O B-PROD I-PROD O\n",
      "русский гофманист в. ф. одоевский признавал , что его увлечение гофманом началось именно с « майората » .\n",
      "O O B-PER I-PER I-PER O O O O O O O O O O O O O\n",
      "у гомер такой связи нет .\n",
      "O B-PER O O O O\n",
      "после этого , следуя традиции , он выпустил dvd с тем же названием .\n",
      "O O O O O O O O B-PROD O O O O O\n",
      "« милдред пирс » — американский фильм нуар 1945 года .\n",
      "O B-CW I-CW O O O O O O O O\n",
      "с новым тренером « орёл » проиграл пять матчей подряд , затем выиграл у курского « авангарда » .\n",
      "O O O O O O O O O O O O O O O O B-GRP O O\n",
      "в это же время группа перешла на fontana records .\n",
      "O O O O O O O B-CORP I-CORP O\n",
      "хрипач начал профессиональную карьеру в бобруйском клубе « фандок » .\n",
      "O O O O O O O O B-GRP O O\n",
      "в 1955 году был приглашён в «зенит» .\n",
      "O O O O O O B-GRP O\n",
      "руа, патрик ( род . 1965 ) — канадский хоккеист , голкипер ; совладелец и тренер клуба « квебек рэмпартс » .\n",
      "B-PER I-PER O O O O O O O O O O O O O O O O O O O O\n",
      "в 1998 году на месте старого стадиона строителями таджикского алюминиевого завода был построен нынешний стадион .\n",
      "O O O O O O O O B-CORP I-CORP I-CORP O O O O O\n",
      "аццо vii д’эсте ( 1205 — 1264 ) — маркиз феррары в 1215 — 1222 и 1240 — 1264 годах .\n",
      "B-PER I-PER I-PER O O O O O O O O O O O O O O O O O O\n",
      "ермолин, анатолий александрович ( род . 1964 ) — российский политик .\n",
      "B-PER I-PER I-PER O O O O O O O O O\n",
      "в 1930 — 1931 годах возглавлял исполком правящей национально-революционной партии .\n",
      "O O O O O O O O B-GRP I-GRP O\n",
      "также в этом году у монро была небольшая роль проститутки в фильме « вождь краснокожих и другие… » .\n",
      "O O O O O O O O O O O O O B-CW I-CW I-CW I-CW O O\n",
      "koisuru asteroid — зима 2020 года\n",
      "B-CW I-CW O O O O\n",
      "2 ордена красной звезды ( в том числе 10.06.1945 )\n",
      "O B-GRP I-GRP I-GRP O O O O O O\n",
      "в третий раз он встретился с пайпер в одном из эпизодов телесериала « тайный дневник девушки по вызову » .\n",
      "O O O O O O O O O O O O O B-CW I-CW I-CW I-CW I-CW O O\n",
      "согласно карте профессора с. с. куторги 1852 года деревня называлас маршагина и состояла из 45 дворов .\n",
      "O O O B-PER I-PER I-PER O O O O O O O O O O O\n",
      "с самого начала разработки проводились также эксперименты с технологией виртуальной реальности oculus rift , однако использовавшая её версия прототип опубликована не была .\n",
      "O O O O O O O O O O O B-PROD I-PROD O O O O O O O O O O\n",
      "также марклунд — посол доброй воли юнисеф .\n",
      "O O O O O O B-GRP O\n",
      "в 2003 году его приобрела компания microsoft .\n",
      "O O O O O O B-CORP O\n",
      "в 2009 году , в возрасте 59 лет , он обучился вождению автомобиля и купил свою первую машину — «жигули»-шестерку .\n",
      "O O O O O O O O O O O O O O O O O O O B-PROD O\n",
      "volunteers ( ) — пятый студийный альбом американской рок группы jefferson airplane , выпущенный в 1969 году на лейбле rca records .\n",
      "O O O O O O O O O O B-GRP I-GRP O O O O O O O B-CORP I-CORP O\n",
      "учился классической филологии на филологическом факультете гентского университета .\n",
      "O O O O O O B-GRP I-GRP O\n",
      "после возвращения на родину он преподавал в университете индонезия ( на юридическом факультете и в аспирантуре ) , а также в умд .\n",
      "O O O O O O O B-GRP I-GRP O O O O O O O O O O O O O O\n",
      "задний двор — деревня в бабаевском районе вологодской области .\n",
      "B-LOC I-LOC O O O O O O O O\n",
      "в 38 этажном здании располагается штаб квартира банка mizuho bank .\n",
      "O O O O O O O O B-CORP I-CORP O\n",
      "уоллер, фрэнк ( 1884 — 1941 ) — американский легкоатлет , двукратный серебряный призёр летних олимпийских игр 1904 года .\n",
      "B-PER I-PER O O O O O O O O O O O O O O O O O O\n",
      "снялся в роли самого себя в 17 м эпизоде 2 го сезона сериала теория большого взрыва .\n",
      "O O O O O O O O O O O O O B-CW I-CW I-CW O\n",
      "устанавливался на mazda rx-7 : 1992 — 1995 ( 255 л.с. , 190 квт ) , 1996 — 1998 ( 265 л.с. , 197 квт ) , 1999 — 2002 ( 280 л.с. , 206 квт ) .\n",
      "O O B-PROD I-PROD O O O O O O O O O O O O O O O O O O O O O O O O O O O O O O O O O O\n",
      "журнал forbes в 2020 году оценил состояние бабиша в $ 4 , 8 млрд .\n",
      "O B-CW O O O O O O O O O O O O O\n",
      "третий способ состоит в обливании глазурью , разведенной до густоты сливок .\n",
      "O O O O O O O O O O B-PROD O\n",
      "в 1919 году стал первым человеком , перелетевшим на самолёте из лондон в стокгольм .\n",
      "O O O O O O O O O O O B-LOC O B-LOC O\n",
      "тем не менее в 2005 году фильм дассена был перевыпущен на dvd в престижной серии criterion collection и нередко упоминается в числе шедевров эпохи нуара .\n",
      "O O O O O O O O O O O B-PROD O O O B-CORP I-CORP O O O O O O O O O\n",
      "2013 12 15 — перемещение проекта на github\n",
      "O O O O O O O B-CORP\n",
      "клингхоффер, ицхак ( 1905 — 1990 ) — израильский политик , депутат кнессета 5 го , 6 го и 7 го созывов .\n",
      "B-PER I-PER O O O O O O O O O O O O O O O O O O O O O\n",
      "филипп — назначен сатрапом индии , был убит в результате заговора своих наёмников ( 326 год до н . э . )\n",
      "B-PER O O O O O O O O O O O O O O O O O O O O O\n",
      "в июле 2013 года в скопье стала чемпионкой европы среди юниоров .\n",
      "O O O O O B-LOC O O O O O O\n",
      "проживал в москве , работал в окб сухого .\n",
      "O O B-LOC O O O B-CORP I-CORP O\n",
      "локум — кубики из сахара или мёд с добавлением крахмала , сушёными фруктами , орехами , фисташками , кокосами , со вкусом розы или фруктов .\n",
      "B-PROD O O O O O B-PROD O O O O O O O O O O O O O O O O O O O\n",
      "• пол ньюман — « хад » ( за роль хада бэннона )\n",
      "O B-PER I-PER O O B-CW O O O O O O O\n",
      "входит в состав округа гап .\n",
      "O O O O B-LOC O\n",
      "также посмертно был награждён орденом ленина .\n",
      "O O O O B-GRP I-GRP O\n",
      "версия для россии выпускается компанией бука .\n",
      "O O O O O B-CORP O\n",
      "в 2014 году стал игроком казахстанского клуба « болат » , за который провёл 22 матча .\n",
      "O O O O O O O O B-GRP O O O O O O O O\n",
      "assassin’s creed unity — элиза де ла серр\n",
      "B-CW I-CW I-CW O O O O O\n",
      "в 1734 году через деревню проезжал немецкий учёный г. ф. миллер .\n",
      "O O O O O O O O B-PER I-PER I-PER O\n",
      "спустя пять лет после ухода кори группа вновь собралась в прежнем составе для записи дебютного альбома stone sour в 2002 году .\n",
      "O O O O O O O O O O O O O O O O B-CW I-CW O O O O\n",
      "в мини футболе высшего уровня он дебютировал в составе « минкаса » и с первого же сезона начал отличаться высокой результативностью .\n",
      "O O O O O O O O O O B-GRP O O O O O O O O O O O\n",
      "стиль автомобиля оказался быстро устаревающим , прочной позиции на рынке он не занял , и его быстро заменили на более крупную модель ford corsair .\n",
      "O O O O O O O O O O O O O O O O O O O O O O B-PROD I-PROD O\n",
      "шильдер, карл андреевич ( 1785 — 1854 ) — русский военный инженер , инженер генерал , генерал адъютант .\n",
      "B-PER I-PER I-PER O O O O O O O O O O O O O O O O\n",
      "в том же году поступила на архитектурный факультет венского технологического университета , который окончила с дипломом инженера в 1998 году .\n",
      "O O O O O O O O B-GRP I-GRP I-GRP O O O O O O O O O O\n",
      "на сайте rotten tomatoes фильм имеет рейтинг 96 % на основе 254 рецензий со средним баллом 8 , 7 из 10 .\n",
      "O O B-CORP I-CORP O O O O O O O O O O O O O O O O O O\n",
      "авенти́но ( ) — река , протекающая в южной части региона абруцци .\n",
      "O O O O O O O O O O O B-LOC O\n",
      "отпечатанные при помощи 3d-принтер необходимые по форме структуры после введения усиливают рост и регенерацию хрящевых клеток .\n",
      "O O O B-PROD O O O O O O O O O O O O O\n",
      "лобановка — деревня в хиславичском районе смоленской области .\n",
      "B-LOC O O O O O O O O\n",
      "сан педро де атакама ( ) — посёлок в чили .\n",
      "O O O O O O O O O B-LOC O\n",
      "« вечерняя звезда » — фильм роберта харлинга 1996 года .\n",
      "O B-CW I-CW O O O O O O O O\n",
      "по состоянию на март 2012 года 4shared занимает 82 место в рейтинге самых посещаемых ресурсов интернета по версии alexa .\n",
      "O O O O O O O O O O O O O O O O O O B-CORP O\n",
      "в 1904 году в молитвенном доме было 160 прихожан , в 1917 году он был преобразован в кирху .\n",
      "O O O O O O O O O O O O O O O O O B-GRP O\n",
      "песня « have some fun » ( ) была представлена в втором полуфинале , и заняла там лишь 18 е ( предпоследнее ) место , получив всего 9 баллов .\n",
      "O O B-CW I-CW I-CW O O O O O O O O O O O O O O O O O O O O O O O O O\n",
      "сё син ( 1465 — 1526 ) — правитель королевства рюкю , третий в линии второй династии сё .\n",
      "B-PER I-PER O O O O O O O O O O O O O O O O O\n",
      "устье реки находится в 79 км по левому берегу реки суны .\n",
      "O O O O O O O O O O B-LOC O\n",
      "с 2006 года по настоящее время живёт и работает в лондон ( великобритания ) .\n",
      "O O O O O O O O O O B-LOC O B-LOC O O\n",
      "назван в честь премьер министра жоржа клемансо , второй французский корабль , получивший это имя .\n",
      "O O O O O B-PER I-PER O O O O O O O O O\n",
      "кроме того , в составе сборной дсо « буревестник » на 7 м командном чемпионате ссср голосуев занял первое место на первой доске .\n",
      "O O O O O O O O B-GRP O O O O O O O O O O O O O O O\n",
      "серебряный subaru outback , соответствующий описанию автомобиля стрелка , был замечен полицейским подразделением , и преследование было начато в 13 : 57 .\n",
      "O B-PROD I-PROD O O O O O O O O O O O O O O O O O O O O\n",
      "в 1984 году он закончил гонконгский политехнический университет .\n",
      "O O O O O B-GRP I-GRP I-GRP O\n",
      "в русской православной церкви эта часть храма называется алтарём .\n",
      "O O O O O O O O B-PROD O\n",
      "в рамках программы отказались от дорогой операционной системы от microsoft , поставляя бесплатную linux с бразильскими настройками .\n",
      "O O O O O O O O O B-CORP O O O B-CW O O O O\n",
      "в 2009 году по прогнозам попова вся группа планировала заработать 16 млрд руб . , из них — 2 млрд руб . на продажах свинины .\n",
      "O O O O O O O O O O O O O O O O O O O O O O O O B-PROD O\n",
      "озкорп появляется в мультсериале « совершенный человек-паук » .\n",
      "O O O O O B-CW I-CW O O\n",
      "на blu-ray вышла альтернативная концовка , где мастер ли хочет ударить чэна в наказание за поражение , но хан его останавливает .\n",
      "O B-PROD O O O O O O O O O O O O O O O O O O O O\n",
      "завершал сезон 1981 года в калининской « волге » , в 20 матчах отметился 7 забитыми мячами .\n",
      "O O O O O O O B-GRP O O O O O O O O O O\n",
      "эдвардс, энтони ( род . 2001 ) — американский баскетболист .\n",
      "B-PER I-PER O O O O O O O O O\n",
      "дочь — аля яковлевна савич ( урождённая мазе , 1904 — 1991 ) , жена переводчика о. г. савича .\n",
      "O O O O O O O O O O O O O O O O B-PER I-PER I-PER O\n",
      "из за конфликта в расписании кевин не вернётся во франшизу для фильма « пила 9 » , выход которого запланирован на 20 мая 2021 года .\n",
      "O O O O O O O O O O O O O B-CW I-CW O O O O O O O O O O O\n",
      "в селении действуют средняя школа № 18 , отделение почты россии , краснокаменка связана с феодосией автобусным сообщением .\n",
      "O O O O O O O O O B-CORP I-CORP O O O O O O O O\n",
      "официальный выход игры состоялся 25 июля 2002 года для игровой приставки playstation 2 .\n",
      "O O O O O O O O O O O B-PROD I-PROD O\n",
      "место в японском чарте синглов oricon # 6\n",
      "O O O O O B-CORP O O\n",
      "однако в большинстве одномандатных округов победили представители « единой россии » , выиграв 10 из 18 мандатов в округах .\n",
      "O O O O O O O O B-GRP I-GRP O O O O O O O O O O\n",
      "аркадий и группа солдат устроили на территории части кутёж , пили антифриз .\n",
      "O O O O O O O O O O O B-PROD O\n",
      "отступал с боями до волги .\n",
      "O O O O B-LOC O\n",
      "позднее игра была портирована на playstation и выпущена в европе и японии .\n",
      "O O O O O B-PROD O O O O O O O\n",
      "художники чувашского сатирического журнала « капкан »\n",
      "O O O O O B-CW O\n",
      "первый матч для бобби конви в английской премьер-лиге начался с победы над « мидлсбро » 3 : 2 , 19 августа 2006 года .\n",
      "O O O O O O B-CORP I-CORP O O O O O B-GRP O O O O O O O O O O\n",
      "кошель, сергей викторович ( род . 1986 ) — белорусский футболист , нападающий .\n",
      "B-PER I-PER I-PER O O O O O O O O O O O\n",
      "вскоре он вошёл в состав ландтаг пруссии .\n",
      "O O O O O B-GRP B-LOC O\n",
      "свою часть коллекции увёз в 1896 году в париж .\n",
      "O O O O O O O O B-LOC O\n",
      "гехи-чу — село в урус мартановском районе чечни .\n",
      "B-LOC O O O O O O O O\n",
      "в следующем сезоне клуб уступил чемпионство донецкому « шахтёру » .\n",
      "O O O O O O O O B-GRP O O\n",
      "в странах снг была издана компанией бука 30 марта 2000 года под названием корпорация « аэропорт » .\n",
      "O O O O O O B-CORP O O O O O O O O O O O\n",
      "устье реки находится в 36 км по левому берегу реки колынигол .\n",
      "O O O O O O O O O O B-LOC O\n",
      "— м . : просвещение , 1980 . — 352 с .\n",
      "O O O O B-CORP O O O O O O O\n",
      "дебютным для него стал фильм « superперцы » .\n",
      "O O O O O O B-CW O O\n",
      "бурдах, фридрих ( 1776 — 1847 ) — немецкий анатом и физиолог .\n",
      "B-PER I-PER O O O O O O O O O O O\n",
      "впоследствии участвовал в руководстве банка lehman brothers .\n",
      "O O O O O B-CORP I-CORP O\n",
      "на воротах над аркой был вырезан герб ост-индской компании , а на самой арке указан год изменений — « anno 1670 » .\n",
      "O O O O O O O B-CORP I-CORP O O O O O O O O O O O O O O\n",
      "воронов, сергей иванович ( род . 1971 ) — советский и российский хоккеист , двукратный чемпион россии .\n",
      "B-PER I-PER I-PER O O O O O O O O O O O O O O O\n",
      "данная винтовка , получившая заводской индекс ar-7 , в несколько ином виде ( с деревянным прикладом ) была принята на вооружение ввс .\n",
      "O O O O O O B-PROD O O O O O O O O O O O O O O O O\n",
      "с эротической любовью она стремится объединяться с высшей жизнью ( как в пире платон ) .\n",
      "O O O O O O O O O O O O O B-PER O O\n",
      "• саймон пегг — « миссия невыполнима: племя изгоев » ( за роль бенджи данна )\n",
      "O B-PER I-PER O O B-CW I-CW I-CW I-CW O O O O O O O\n",
      "первые люди на луне на сайте би-би-си\n",
      "O O O O O O B-CORP\n",
      "с сентября 2016 года аронофски встречался с актрисой дженнифер лоуренс , с которой познакомился на съёмках фильма « мама! » .\n",
      "O O O O O O O O B-PER I-PER O O O O O O O O B-CW O O\n",
      "с 1954 по 1959 год проходил обучение на заочном отделении саратовского сельскохозяйственного института .\n",
      "O O O O O O O O O O B-GRP I-GRP I-GRP O\n",
      "2011 — борджиа — барон бонадео\n",
      "O O B-CW O O O\n",
      "кроме того , одна из лавок в зоне отдыха выполнена в форме трехлопастного винта , что отсылает к самолету пе-2 , на котором летала клавдия яковлевна .\n",
      "O O O O O O O O O O O O O O O O O O O B-PROD O O O O O O O\n",
      "« конец света (фильм, 2012) » ( ) — испанский фильм 2012 года режиссёра хорхе торрегросса .\n",
      "O B-CW I-CW I-CW I-CW O O O O O O O O O O O O\n",
      "основатель и руководитель правозащитной организации правозащитный центр «весна» .\n",
      "O O O O O B-GRP I-GRP I-GRP O\n",
      "11 я конференция — буэнос-айрес , аргентина ( декабрь 2017 ) .\n",
      "O O O O B-LOC O B-LOC O O O O O\n",
      "стейнер получил докторскую степень по музыковедению в университете южной калифорнии в 1981 году .\n",
      "O O O O O O O B-GRP I-GRP I-GRP O O O O\n",
      "широкое распространение велосипедов изменило моду : от тяжёлых материалов и длинных юбок женщины перешли на лёгкие ткани и шаровары .\n",
      "O O O O O O O O O O O O O O O O O O B-PROD O\n",
      "бывший член совета директоров аукционного дома « сотбис » ф .\n",
      "O O O O O O O B-CORP O O O\n",
      "впервые было выпущено 21 октября года в северной америке для консоли playstation 2 .\n",
      "O O O O O O O O O O O B-PROD I-PROD O\n",
      "« неукротимый » был переведен на 11 языков и с 25 октября 2019 года транслируется на netflix в северной и южной америке , европе , австралии , филиппинах и индии .\n",
      "O O O O O O O O O O O O O O O O B-CORP O O O O O O O O O O O O O O\n",
      "в 2019 м году появился в эпизодической роли в фильме « люди в чёрном: интернэшнл » , сыграв инопланетянина .\n",
      "O O O O O O O O O O O B-CW I-CW I-CW I-CW O O O O O\n",
      "он менял стратегию работы , пытался продать « ренессанс кредит » банку втб .\n",
      "O O O O O O O O O O O B-CORP I-CORP O\n",
      "миллер начал свою монографию 2000 года с цитирования 16 й главы романа у. эко « остров накануне » .\n",
      "O O O O O O O O O O O O B-PER I-PER O B-CW I-CW O O\n",
      "особенно большой разброс в значениях показателя уэз наблюдается по трактор .\n",
      "O O O O O O O O O B-PROD O\n",
      "операционная система поступила в продажу — меньше , чем через три года после выпуска предыдущей операционной системы windows vista .\n",
      "O O O O O O O O O O O O O O O O O B-CW I-CW O\n",
      "краус, эрвин ( 1894 — 1966 ) — партийный деятель нсдап , корфюрер нскк .\n",
      "B-PER I-PER O O O O O O O O O O O O O\n",
      "в 1957 году калеви сорса окончил факультет журналистики института общественных наук в тампере .\n",
      "O O O O O O O O O O O O B-LOC O\n",
      "авраам ( род . 1948 ) — епископ грузинской православной церкви , митрополит западноевропейский .\n",
      "B-PER O O O O O O O O O O O O O O\n",
      ": * 512 мб оперативной памяти ( рекомендуется 1 гб )\n",
      "O O O O B-PROD I-PROD O O O O O\n",
      "в марте 2014 году подписал письмо « мы с вами ! » « киносоюз » в поддержку украины .\n",
      "O O O O O O O O O O O O O B-GRP O O O O O\n",
      "дэвисон, пол ( род . 1971 ) — английский игрок в снукер .\n",
      "B-PER I-PER O O O O O O O O O O O\n",
      "в 1949 году академия была награждена орденом ленина , а в 1979 году — орденом трудового красного знамени .\n",
      "O O O O O O B-GRP I-GRP O O O O O O B-GRP I-GRP I-GRP I-GRP O\n",
      "кроме того , в штате расположены офис корпорации oracle и подразделения аэрокосмической корпорации .\n",
      "O O O O O O O O B-CORP O O O O O\n",
      "железняк, сергей владимирович ( род . 1970 ) — российский государственный деятель , политик , управленец , депутат государственной думы российской федерации .\n",
      "B-PER I-PER I-PER O O O O O O O O O O O O O O O O O O O O\n",
      "дыбово ( ) — село в болгарии .\n",
      "O O O O O O B-LOC O\n",
      "речной бассейн реки — кама .\n",
      "O O O O B-LOC O\n",
      "начался свою политическую карьеру в республиканской партии :\n",
      "O O O O O B-GRP I-GRP O\n",
      "орден святой анны 2 й степени с мечами ( 1880 год )\n",
      "B-GRP I-GRP I-GRP O O O O O O O O O\n",
      "с 1947 по 1952 годы обучался в московском инженерно-строительном институте имени в. в. куйбышева .\n",
      "O O O O O O O B-GRP I-GRP I-GRP I-GRP I-GRP I-GRP I-GRP O\n",
      "стандартная система аптечек была убрана ещё в « call of duty 2 » , что сделало игру менее хардкорной и более кинематографичной .\n",
      "O O O O O O O O B-CW I-CW I-CW I-CW O O O O O O O O O O O\n",
      "максимальные запасы топлива на эсминцах типа составляли 298 тонн нефти .\n",
      "O O O O O O O O O B-PROD O\n",
      "янош шаруши киш родился 29 июня 1960 года в городе чонград .\n",
      "O O O O O O O O O O B-LOC O\n",
      "в 1927 — 1931 гг . работал ассистентом в марбурге .\n",
      "O O O O O O O O O B-GRP O\n",
      "играл в основном в ахл и ихл .\n",
      "O O O O B-GRP O O O\n",
      "также посмертно был награждён орденом ленина .\n",
      "O O O O B-GRP I-GRP O\n",
      "первая большая роль — в фильме « американский самурай » .\n",
      "O O O O O O O B-CW I-CW O O\n",
      "дом 16 , корпус 3 — московский кредитный банк , дополнительный офис , банкомат .\n",
      "O O O O O O B-CORP I-CORP I-CORP O O O O O O\n",
      "любит футбол и болеет за клуб «мидлсбро» .\n",
      "O O O O O O B-GRP O\n",
      "сезоном ранее он играл на правах аренды в « малаге б » и провёл там 35 матчей .\n",
      "O O O O O O O O O B-GRP I-GRP O O O O O O O\n",
      "большой вклад в лечение неврином слуховых нервов внёс х. кушинг .\n",
      "O O O O O O O O B-PER I-PER O\n",
      "в 2014 году они подписали контракт с лейблом defstar records , на котором 5 марта вышел их сингл « ambiguous » , занявший 15 ю пиковую позицию в топе ротации чарта oricon .\n",
      "O O O O O O O O B-CORP I-CORP O O O O O O O O O O O O O O O O O O O O O B-CORP O\n",
      "в 2012 игра вышла на операционной системе macos , в 2015 году стала доступна на xbox one по программе обратной совместимости .\n",
      "O O O O O O O B-CW O O O O O O O B-PROD I-PROD O O O O O\n",
      "е. п. карнович , « герцогиня кингстон и дело об имении её в россии » ( « русская старина » , 1876 г . , т .\n",
      "B-PER I-PER I-PER O O O O O O O O O O O O O O B-CW I-CW O O O O O O O O\n",
      "что изменилось в венесуэле за годы правления уго чавеса риа новости 2013\n",
      "O O O O O O O O O B-CORP I-CORP O\n",
      "офицер ордена « за заслуги перед итальянской республикой » , награждён 12 июля 2000 года .\n",
      "O O O B-GRP I-GRP I-GRP I-GRP I-GRP O O O O O O O O\n",
      "фёдоровская — деревня в тотемском районе .\n",
      "B-LOC O O O O O O\n",
      "учился в будапеште , в 1924 году поступил на гуманитарный факультет католического университета петера пазманя .\n",
      "O O O O O O O O O O O B-GRP I-GRP I-GRP I-GRP O\n",
      "свою профессиональную карьеру начал в 1999 году в « данубио » .\n",
      "O O O O O O O O O B-GRP O O\n",
      "традиционными конкурентами являлись toyota corona почти с самого начала производства .\n",
      "O O O B-PROD I-PROD O O O O O O\n",
      "the sims 3 — третья игра в серии\n",
      "B-CW I-CW I-CW O O O O O\n",
      "митчелл, чарльз уильям ( 1854 — 1903 ) — английский художник исторического жанра .\n",
      "B-PER I-PER I-PER O O O O O O O O O O O\n",
      "руководителем дмитлага стал один из руководителей белбалтлага — с. г. фирин .\n",
      "O O O O O O O O B-PER I-PER I-PER O\n",
      "в июне 2007 перешёл в датский « оденсе » , где хорошо зарекомендовал себя .\n",
      "O O O O O O O B-GRP O O O O O O O\n",
      "альбом был целиком записан на личной студии басты в здании gazgolder .\n",
      "O O O O O O O O O O B-CORP O\n",
      "между улицей киселёва и проспектом машерова располагаются корпуса завода «горизонт» , торговый центр « горизонт » и заводской спортивный центр .\n",
      "O O O O O O O O B-CORP I-CORP O O O O O O O O O O O\n",
      "летом 2006 года перешёл в « мюнхен 1860 » .\n",
      "O O O O O O B-GRP I-GRP O O\n",
      "первоначально симпсон планировала выпустить новый студийный альбом , который положил бы конец её контракту с лейблом epic records .\n",
      "O O O O O O O O O O O O O O O O B-CORP I-CORP O\n",
      "также сыграла в фильме « балетные туфельки » .\n",
      "O O O O O B-CW I-CW O O\n",
      "пауло сезар лима родился в фавелах , самых бедных районах юга рио-де-жанейро .\n",
      "O O O O O O O O O O O B-LOC O\n",
      "основой интернет вещания в московской области стал портал « в подмосковье » . этот проект был создан совместно с риа «новости» .\n",
      "O O O O O O O O O O O O O O O O O O O B-CORP I-CORP O\n",
      "в 2003 году видеоклип на песню « тихо тают дни » был впервые показан в программе « центр рифмы » на телеканале « mtv россия » 15 ноября 2003 года .\n",
      "O O O O O O O O O O O O O O O O O O O O O O O B-CORP I-CORP O O O O O O\n",
      "в ноябре 2003 года вступил в партию « русский блок » .\n",
      "O O O O O O O O B-GRP I-GRP O O\n",
      "18 июля 2008 года , китсон перешёл в команду « сток сити » .\n",
      "O O O O O O O O O O B-GRP I-GRP O O\n",
      "известен ролью воина саб-зиро в фантастическом боевике 1995 года « смертельная битва » .\n",
      "O O O B-PER O O O O O O B-CW I-CW O O\n",
      "умер в возрасте 95 лет в собственном доме в лос анджелесе , калифорния , заканчивая успешную семидесятилетнюю карьеру в мультипликации .\n",
      "O O O O O O O O O O O O B-LOC O O O O O O O O\n",
      "в ней он дебютировал 20 октября 2013 года в гостевом матче против « кукеси » , выйдя на замену на 74 й минуте .\n",
      "O O O O O O O O O O O O O B-GRP O O O O O O O O O O\n",
      "известен по выступлениям за тверскую «волгу» , в составе которой сыграл более 300 матчей .\n",
      "O O O O B-GRP I-GRP O O O O O O O O O\n",
      "весь его срок премьер министром провинции был джон брэкен , который и был фактическим руководителем провинции , тогда как таппер играл чисто церемониальную роль .\n",
      "O O O O O O O B-PER I-PER O O O O O O O O O O O O O O O O\n",
      "агентство « эксперт ра » в 2016 присвоило компании рейтинг « а + + » ( наивысший уровень надежности ) , прогноз — « стабильный » .\n",
      "O O B-CORP I-CORP O O O O O O O O O O O O O O O O O O O O O O O\n",
      "першин, артём александрович ( род . 1988 ) — российский футболист .\n",
      "B-PER I-PER I-PER O O O O O O O O O\n",
      "с 1 января 2019 года — ведущий информационно развлекательного канала « хорошее начало » на « радио россии » .\n",
      "O O O O O O O O O O O O O O O O B-CORP I-CORP O O\n",
      "# 2016 — последний москаль судный день — василий васильевич микитюк , глава села великие вуйки\n",
      "O O O B-CW I-CW I-CW I-CW O O O O O O O O O\n",
      "окончил экономический факультет университета тохоку гакуин и в настоящее время связан с .\n",
      "O O O B-GRP I-GRP I-GRP O O O O O O O\n",
      "фильм также доступен на netflix .\n",
      "O O O O B-CORP O\n",
      "20 января 2020 года « реал » объявил о переходе рейньера .\n",
      "O O O O O B-GRP O O O O O O\n",
      "любек, винсент ( ок . 1654 — 1740 ) — немецкий органист и композитор .\n",
      "B-PER I-PER O O O O O O O O O O O O O\n",
      "например , известно , что он восстанавливал герб вернувшегося в польшу князя а. м. курбского .\n",
      "O O O O O O O O O O O O B-PER I-PER I-PER O\n",
      "кантакузовка — село в драбовском районе черкасской области .\n",
      "B-LOC O O O O O O O O\n",
      "первый заместитель секретаря ставропольского регионального отделения партии « единая россия » с 2 ноября 2019 года .\n",
      "O O O O O O O O B-GRP I-GRP O O O O O O O\n",
      "лав назвала « do re mi » « вылитой песней alice in chains » .\n",
      "O O O O O O O O O O B-GRP I-GRP I-GRP O O\n",
      "после трех сезонов на стадионе эбби роуэтт ушёл на повышение в « эвертон » , выступающий в премьер-лиге .\n",
      "O O O O O O O O O O O O B-GRP O O O O B-CORP O\n",
      "в конце 1992 года подписал контракт с немецким клубом « вальдхоф » , за который отыграл три сезона .\n",
      "O O O O O O O O O O B-GRP O O O O O O O O\n",
      "виктор иванов — страница на сайте международного олимпийского комитета\n",
      "O O O O O O B-GRP I-GRP I-GRP\n",
      "советник генерального директора гк « укроборонпром »\n",
      "O O O O O B-CORP O\n",
      "в течение последующих десятилетий большую часть рабочих мест в городе обеспечивал boeing .\n",
      "O O O O O O O O O O O B-CORP O\n",
      "ign решил , что оддиш и его эволюционная ветвь сочетает в себе лучшие черты травяного и ядовитого типа .\n",
      "B-CORP O O O O O O O O O O O O O O O O O O\n",
      "в 1958 году переехал в навои , где работал проходчиком в северном рудоуправлении навоийского горно-металлургического комбината .\n",
      "O O O O O O O O O O O O O B-CORP I-CORP I-CORP O\n",
      "все эти хоккеисты выступали за лучший клуб нхл « бостон брюинз » .\n",
      "O O O O O O O O O B-GRP I-GRP O O\n",
      "сумма трансфера составила 4 млн евро . 12 августа в матче против « бордо » он дебютировал в лиге 1 .\n",
      "O O O O O O O O O O O O O B-GRP O O O O B-CORP I-CORP O\n",
      "шуди и органа мастера ф. ладегаста .\n",
      "O O O O B-PER I-PER O\n",
      "генеральный директор и председатель правления « газпром-медиа холдинга » .\n",
      "O O O O O O B-CORP I-CORP O O\n",
      "— день длиннее ночи , дареджан , дочь спиридона\n",
      "O B-CW I-CW I-CW O O O O O\n",
      "начиная с фильма « гитлер капут! » работает под фамилией вайсберг .\n",
      "O O O O B-CW I-CW O O O O O O\n",
      "американский боевой корабль на сайте the asylum\n",
      "O O O O O B-GRP I-GRP\n",
      "★ патриция нил — « хад » ( за роль альмы браун )\n",
      "O B-PER I-PER O O B-CW O O O O O O O\n",
      "тома, луи-венсан ( 1922 — 1994 ) — французский социолог , этнолог африканист .\n",
      "B-PER I-PER O O O O O O O O O O O O\n",
      "в 1998 году перешёл в нидерландскую « роду » , провёл 4 , 5 года играя за клуб , сыграл 88 матчей и забил 14 мячей .\n",
      "O O O O O O O B-GRP O O O O O O O O O O O O O O O O O O O\n",
      "первая сессия состоялась 14 марта в лос-анджелес .\n",
      "O O O O O O B-LOC O\n",
      "тамура, эрико ( род . 1973 ) — японская актриса и певица .\n",
      "B-PER I-PER O O O O O O O O O O O\n",
      "через год уилл снова предстал в образе полицейского — на этот раз в фильме « я, робот » .\n",
      "O O O O O O O O O O O O O O O B-CW I-CW O O\n",
      "также команды встречались в неофициальном розыгрыше суперкубка в 2008 году , где победила « боруссия » .\n",
      "O O O O O O O O O O O O O O B-GRP O O\n",
      "саксония ( с 1918 по настоящее время )\n",
      "B-LOC O O O O O O O\n",
      "св. анны 2 й степени ( 30 декабря 1834 года ) ,\n",
      "B-GRP I-GRP O O O O O O O O O O\n",
      "в крупнейших городах также налажено трамвай и троллейбус сообщение .\n",
      "O O O O O B-PROD O B-PROD O O\n",
      "в качестве поставщика двигателей была выбрана американская фирма pratt & whitney .\n",
      "O O O O O O O O B-CORP I-CORP I-CORP O\n",
      "шиес — река в ленском районе архангельской области , приток вычегды\n",
      "B-LOC O O O O O O O O O O\n",
      "лишь немецкая компания basf владела патентом на , детали которого были засекречены , а лицензия была дорогой .\n",
      "O O O B-CORP O O O O O O O O O O O O O O\n",
      "с 1997 по 2003 год снималась в сериале « порт чарльз » , с 2001 по 2003 год — в « лиззи магуайер » .\n",
      "O O O O O O O O O B-CW I-CW O O O O O O O O O O B-CW I-CW O O\n",
      "6 орденов ленина ( 17.06.1949 ; 22.05.1950 ; 21.04.1952 ; 24.08.1953 ; 10.06.1954 ; 24.12.1976 )\n",
      "O B-GRP I-GRP O O O O O O O O O O O O O\n",
      "использует лыжи и ботинки производства фирмы fischer .\n",
      "O O O O O O B-CORP O\n",
      "выступает за « бостон брюинз » в национальной хоккейной лиге .\n",
      "O O O B-GRP I-GRP O O B-CORP I-CORP I-CORP O\n",
      "муж менструирующей женщины должен спать в гамаке из коры , ему запрещено касаться воды и мёд , а также чесаться руками .\n",
      "O O O O O O O O O O O O O O O B-PROD O O O O O O\n",
      "в модельном ряду заменил peugeot 406 .\n",
      "O O O O B-PROD I-PROD O\n",
      "данный мультфильм был выпущен в сборнике мультфильмов « не хочу в школу » на dvd компанией « крупный план » .\n",
      "O O O O O O O O O O O O O O B-PROD O O O O O O\n",
      "31 марта 2011 года было подтверждено , что бриджит мендлер подписала контракт с hollywood records и начала работать над своим дебютным альбомом .\n",
      "O O O O O O O O O O O O O B-CORP I-CORP O O O O O O O O\n",
      "владимировка — деревня в череповецком районе .\n",
      "B-LOC O O O O O O\n",
      "гнездится на поверхности земли в растительности и вблизи воды , кладка состоит из 8 14 яиц .\n",
      "O O O O O O O O O O O O O O O B-PROD O\n",
      "наиболее известен за свою работу над мультсериалом люди икс: эволюция .\n",
      "O O O O O O O B-CW I-CW I-CW O\n",
      "6 июля 2010 года группа сообщила о подписании контракта с nuclear blast records , а также о намерении записать в последующем году новый альбом .\n",
      "O O O O O O O O O O B-CORP I-CORP I-CORP O O O O O O O O O O O O\n",
      "в сентябре 1942 года был призван в красную армию .\n",
      "O O O O O O O B-GRP I-GRP O\n",
      "« сага об оркнейцах » сообщает об обстоятельствах его смерти .\n",
      "O B-CW I-CW I-CW O O O O O O O\n",
      "паровоз « принц август » в 1906 году , перестал эксплуатироваться и был сохранен как музейный экспонат .\n",
      "B-PROD O O O O O O O O O O O O O O O O O\n",
      "выход игры для консоли playstation 5 запланирован на 2021 год .\n",
      "O O O O B-PROD I-PROD O O O O O\n",
      "# — — обручальное кольцо — главврач психбольницы\n",
      "O O O B-CW I-CW O O O\n",
      "в селе действуют средняя общеобразовательная школа и детский сад « орлёнок » , сельский дом культуры , библиотека , отделение почты россии\n",
      "O O O O O O O O O O O O O O O O O O O O B-CORP I-CORP\n",
      "главнокомандующим юго западного направления назначен с. к. тимошенко .\n",
      "O O O O O B-PER I-PER I-PER O\n",
      "лароуз, джей ( род . 24 августа 1972 ) — американский актёр\n",
      "B-PER I-PER O O O O O O O O O O\n",
      "родители владели небольшим магазином фарфор .\n",
      "O O O O B-PROD O\n",
      "в связи с этим часть сотрудников окб и сам в . м . мясищев были направлены на серийный завод , где выпускались самолёты пе-2 .\n",
      "O O O O O O O O O O O O O O O O O O O O O O O B-PROD O\n",
      "шерсть сверху красновато коричневая , по бокам более светлая .\n",
      "B-PROD O O O O O O O O O\n",
      "в 1871 году кэрролл опубликовал свою повесть « алиса в зазеркалье » .\n",
      "O O O O O O O O B-CW I-CW I-CW O O\n",
      "04 / 07 / 2015 « вентспилс » — « лиепая » 3 : 3\n",
      "O O O O O O B-GRP O O O B-GRP O O O O\n",
      "4 июля 2015 года перешёл в « валенсию » за 10 миллионов евро .\n",
      "O O O O O O O B-GRP O O O O O O\n",
      "агрегатор рецензий rotten tomatoes дал картине рейтинг в 90 % , основываясь на 205 обзорах , со средней оценкой 7 , 8 / 10 .\n",
      "O O B-CORP I-CORP O O O O O O O O O O O O O O O O O O O O O\n",
      "с января 2006 по март 2007 года гришковец вёл на телевидении свою авторскую передачу — « настроение с евгением гришковцом » на телеканале стс .\n",
      "O O O O O O O O O O O O O O O O O O O O O O O B-CORP O\n",
      "через несколько дней он подписал контракт с « мемфис гриззлис » .\n",
      "O O O O O O O O B-GRP I-GRP O O\n"
     ]
    }
   ],
   "source": [
    "for idx, val in enumerate(lsent):\n",
    "    if val:\n",
    "        print(' '.join(data_group_test.loc[idx, ['words']][0]))\n",
    "        print(' '.join(data_group_test.loc[idx, ['markers']][0]))"
   ]
  },
  {
   "cell_type": "code",
   "execution_count": 317,
   "id": "af8c1159-5bb4-4636-8841-87526bce034a",
   "metadata": {},
   "outputs": [],
   "source": [
    "y_pred = model_bilstm_lstm.predict(val_tokens)"
   ]
  },
  {
   "cell_type": "code",
   "execution_count": 318,
   "id": "88f81f60-d3f7-459e-9f2f-fb11343e7325",
   "metadata": {},
   "outputs": [
    {
     "data": {
      "text/plain": [
       "0.976747535172261"
      ]
     },
     "execution_count": 318,
     "metadata": {},
     "output_type": "execute_result"
    }
   ],
   "source": [
    "accuracy_score(onehot2arr(y_pred), onehot2arr(val_tags))"
   ]
  },
  {
   "cell_type": "code",
   "execution_count": 319,
   "id": "cd4442cd-f7d5-4a44-b647-3909177c8e4b",
   "metadata": {},
   "outputs": [
    {
     "data": {
      "image/png": "[encoded data removed]",
      "text/plain": [
       "<Figure size 1440x1440 with 2 Axes>"
      ]
     },
     "metadata": {
      "needs_background": "light"
     },
     "output_type": "display_data"
    }
   ],
   "source": [
    "cm = confusion_matrix(onehot2arr(val_tags), onehot2arr(y_pred), labels=list(idx2tag.keys()))\n",
    "cmn = cm.astype('float') / cm.sum(axis=1)[:, np.newaxis]\n",
    "disp = ConfusionMatrixDisplay(confusion_matrix=cmn, \n",
    "                               display_labels=list(idx2tag.values()))\n",
    "fig, ax = plt.subplots(figsize=(20, 20))\n",
    "disp.plot(ax=ax)\n",
    "plt.show()"
   ]
  },
  {
   "cell_type": "code",
   "execution_count": 305,
   "id": "2ee4d4ad-14e6-4471-847c-3d765b795ec7",
   "metadata": {},
   "outputs": [],
   "source": [
    "lsent = onehot2sent(y_pred, val_tags)"
   ]
  },
  {
   "cell_type": "code",
   "execution_count": 306,
   "id": "c1b19400-6f41-40a0-b3ae-19d4b3b0a42a",
   "metadata": {},
   "outputs": [
    {
     "name": "stderr",
     "output_type": "stream",
     "text": [
      "C:\\Python\\ENV\\innopolis\\lib\\site-packages\\sklearn\\metrics\\_classification.py:1248: UndefinedMetricWarning: Precision and F-score are ill-defined and being set to 0.0 in labels with no predicted samples. Use `zero_division` parameter to control this behavior.\n",
      "  _warn_prf(average, modifier, msg_start, len(result))\n",
      "C:\\Python\\ENV\\innopolis\\lib\\site-packages\\sklearn\\metrics\\_classification.py:1248: UndefinedMetricWarning: Recall and F-score are ill-defined and being set to 0.0 in labels with no true samples. Use `zero_division` parameter to control this behavior.\n",
      "  _warn_prf(average, modifier, msg_start, len(result))\n",
      "C:\\Python\\ENV\\innopolis\\lib\\site-packages\\sklearn\\metrics\\_classification.py:1248: UndefinedMetricWarning: Precision and F-score are ill-defined and being set to 0.0 in labels with no predicted samples. Use `zero_division` parameter to control this behavior.\n",
      "  _warn_prf(average, modifier, msg_start, len(result))\n",
      "C:\\Python\\ENV\\innopolis\\lib\\site-packages\\sklearn\\metrics\\_classification.py:1248: UndefinedMetricWarning: Recall and F-score are ill-defined and being set to 0.0 in labels with no true samples. Use `zero_division` parameter to control this behavior.\n",
      "  _warn_prf(average, modifier, msg_start, len(result))\n",
      "C:\\Python\\ENV\\innopolis\\lib\\site-packages\\sklearn\\metrics\\_classification.py:1248: UndefinedMetricWarning: Precision and F-score are ill-defined and being set to 0.0 in labels with no predicted samples. Use `zero_division` parameter to control this behavior.\n",
      "  _warn_prf(average, modifier, msg_start, len(result))\n"
     ]
    },
    {
     "name": "stdout",
     "output_type": "stream",
     "text": [
      "              precision    recall  f1-score   support\n",
      "\n",
      "         LOC       0.57      0.51      0.54       883\n",
      "         PER       0.71      0.62      0.66      1568\n",
      "        CORP       0.70      0.66      0.68       953\n",
      "        PROD       0.64      0.50      0.56       822\n",
      "         GRP       0.63      0.58      0.60      1212\n",
      "          CW       0.69      0.55      0.61      1300\n",
      "           O       0.95      0.97      0.96     41730\n",
      "       <PAD>       0.00      0.00      0.00         0\n",
      "\n",
      "   micro avg       0.91      0.91      0.91     48468\n",
      "   macro avg       0.61      0.55      0.58     48468\n",
      "weighted avg       0.91      0.91      0.91     48468\n",
      "\n"
     ]
    },
    {
     "name": "stderr",
     "output_type": "stream",
     "text": [
      "C:\\Python\\ENV\\innopolis\\lib\\site-packages\\sklearn\\metrics\\_classification.py:1248: UndefinedMetricWarning: Recall and F-score are ill-defined and being set to 0.0 in labels with no true samples. Use `zero_division` parameter to control this behavior.\n",
      "  _warn_prf(average, modifier, msg_start, len(result))\n"
     ]
    }
   ],
   "source": [
    "print(classification_report(onehot2arr(val_tags), onehot2arr(y_pred), labels = list(idx2tag.keys()), target_names=list(idx2tag.values())))"
   ]
  },
  {
   "cell_type": "code",
   "execution_count": 160,
   "id": "ab6b647e-326a-49a8-ba03-9b0341a69b04",
   "metadata": {},
   "outputs": [
    {
     "name": "stdout",
     "output_type": "stream",
     "text": [
      "1132 3060 36.993464052287585\n"
     ]
    }
   ],
   "source": [
    "print(len(list(filter(lambda x: x==True, lsent))), len(lsent), len(list(filter(lambda x: x==True, lsent)))/len(lsent)*100)"
   ]
  },
  {
   "cell_type": "code",
   "execution_count": 161,
   "id": "35c59943-65d7-4443-af9a-bc7b0ae01edf",
   "metadata": {},
   "outputs": [],
   "source": [
    "ls = u'Российская экологическая партия «Зелёные» — до февраля 2012 года, входила в состав партии СР.'"
   ]
  },
  {
   "cell_type": "code",
   "execution_count": 162,
   "id": "980947f8-ed4b-4583-81de-7ff2140bd780",
   "metadata": {},
   "outputs": [],
   "source": [
    "def get_tokens(asent, atoken2idx, maxlen):\n",
    "    \n",
    "    ldoc = ltokenize(asent)\n",
    "    #get max token and tag length\n",
    "    ltokens = [str(x).lower() for x in ldoc]\n",
    "    itokens = []    \n",
    "    #Pad tokens (X var)\n",
    "    for s in ltokens:\n",
    "        if s in atoken2idx:\n",
    "            itokens.append(atoken2idx[s])\n",
    "        else:\n",
    "            itokens.append(atoken2idx['<UNKNOWN>'])\n",
    "    pad_tokens = pad_sequences([itokens], maxlen=maxlen, dtype='int32', padding='post', value=atoken2idx['<PAD>'])\n",
    "   \n",
    "    return pad_tokens"
   ]
  },
  {
   "cell_type": "code",
   "execution_count": 163,
   "id": "d2f901ac-bf46-47de-92bd-869d77207b3b",
   "metadata": {},
   "outputs": [
    {
     "name": "stdout",
     "output_type": "stream",
     "text": [
      "Российская ADJ amod\n",
      "экологическая ADJ amod\n",
      "партия NOUN nsubj\n",
      "« PUNCT punct\n",
      "Зелёные ADJ appos\n",
      "» PUNCT punct\n",
      "— PUNCT punct\n",
      "до ADP case\n",
      "февраля NOUN parataxis\n",
      "2012 ADJ amod\n",
      "года NOUN nmod\n",
      ", PUNCT punct\n",
      "входила VERB ROOT\n",
      "в ADP case\n",
      "состав NOUN obl\n",
      "партии NOUN nmod\n",
      "СР. PROPN appos\n"
     ]
    }
   ],
   "source": [
    "ftokens = get_tokens(ls, token2idx, fmaxlen)"
   ]
  },
  {
   "cell_type": "code",
   "execution_count": 164,
   "id": "36599bb2-d6d6-4a1b-9fc2-f9d7c4096184",
   "metadata": {},
   "outputs": [],
   "source": [
    "y_pred = model_bilstm_lstm.predict(ftokens)"
   ]
  },
  {
   "cell_type": "code",
   "execution_count": 165,
   "id": "164a9e4c-05a5-4061-a77f-bcd575400026",
   "metadata": {},
   "outputs": [
    {
     "name": "stdout",
     "output_type": "stream",
     "text": [
      "['O', 'GRP', 'GRP', 'O', 'GRP', 'O', 'O', 'O', 'O', 'O', 'O', 'O', 'O', 'O', 'O', 'O', 'O', '<PAD>', '<PAD>', '<PAD>', '<PAD>', '<PAD>', '<PAD>', '<PAD>', '<PAD>', '<PAD>', '<PAD>', '<PAD>', '<PAD>', '<PAD>', '<PAD>', '<PAD>', '<PAD>', '<PAD>', '<PAD>', '<PAD>', '<PAD>', '<PAD>', '<PAD>', '<PAD>', '<PAD>', '<PAD>', '<PAD>', '<PAD>', '<PAD>', '<PAD>', '<PAD>', '<PAD>', '<PAD>', '<PAD>', '<PAD>', '<PAD>', '<PAD>', '<PAD>', '<PAD>', '<PAD>', '<PAD>', '<PAD>', '<PAD>']\n"
     ]
    }
   ],
   "source": [
    "print([idx2tag[i] for i in onehot2arr(y_pred)])"
   ]
  },
  {
   "cell_type": "code",
   "execution_count": null,
   "id": "a280bbbd-77a1-47b5-8a45-70c1941abf59",
   "metadata": {},
   "outputs": [],
   "source": []
  }
 ],
 "metadata": {
  "kernelspec": {
   "display_name": "Python 3 (ipykernel)",
   "language": "python",
   "name": "python3"
  },
  "language_info": {
   "codemirror_mode": {
    "name": "ipython",
    "version": 3
   },
   "file_extension": ".py",
   "mimetype": "text/x-python",
   "name": "python",
   "nbconvert_exporter": "python",
   "pygments_lexer": "ipython3",
   "version": "3.9.7"
  }
 },
 "nbformat": 4,
 "nbformat_minor": 5
}
